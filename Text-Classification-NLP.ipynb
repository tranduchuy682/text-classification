{
  "nbformat": 4,
  "nbformat_minor": 0,
  "metadata": {
    "accelerator": "GPU",
    "colab": {
      "name": "PhanLoaiVanBan.ipynb",
      "provenance": [],
      "collapsed_sections": [],
      "history_visible": true
    },
    "kernelspec": {
      "display_name": "Python 3",
      "name": "python3"
    },
    "language_info": {
      "codemirror_mode": {
        "name": "ipython",
        "version": 3
      },
      "file_extension": ".py",
      "mimetype": "text/x-python",
      "name": "python",
      "nbconvert_exporter": "python",
      "pygments_lexer": "ipython3",
      "version": "3.7.6-final"
    },
    "widgets": {
      "application/vnd.jupyter.widget-state+json": {
        "9fd74913b04841ea9d5849e25f8c10ae": {
          "model_module": "@jupyter-widgets/controls",
          "model_name": "HBoxModel",
          "state": {
            "_view_name": "HBoxView",
            "_dom_classes": [],
            "_model_name": "HBoxModel",
            "_view_module": "@jupyter-widgets/controls",
            "_model_module_version": "1.5.0",
            "_view_count": null,
            "_view_module_version": "1.5.0",
            "box_style": "",
            "layout": "IPY_MODEL_d60df559a8d64477b065571312d93e02",
            "_model_module": "@jupyter-widgets/controls",
            "children": [
              "IPY_MODEL_a77840a643e945d880a43a41135105c7",
              "IPY_MODEL_e75e0d2a64b14bd0b7efaadbee9f7dd2"
            ]
          }
        },
        "d60df559a8d64477b065571312d93e02": {
          "model_module": "@jupyter-widgets/base",
          "model_name": "LayoutModel",
          "state": {
            "_view_name": "LayoutView",
            "grid_template_rows": null,
            "right": null,
            "justify_content": null,
            "_view_module": "@jupyter-widgets/base",
            "overflow": null,
            "_model_module_version": "1.2.0",
            "_view_count": null,
            "flex_flow": null,
            "width": null,
            "min_width": null,
            "border": null,
            "align_items": null,
            "bottom": null,
            "_model_module": "@jupyter-widgets/base",
            "top": null,
            "grid_column": null,
            "overflow_y": null,
            "overflow_x": null,
            "grid_auto_flow": null,
            "grid_area": null,
            "grid_template_columns": null,
            "flex": null,
            "_model_name": "LayoutModel",
            "justify_items": null,
            "grid_row": null,
            "max_height": null,
            "align_content": null,
            "visibility": null,
            "align_self": null,
            "height": null,
            "min_height": null,
            "padding": null,
            "grid_auto_rows": null,
            "grid_gap": null,
            "max_width": null,
            "order": null,
            "_view_module_version": "1.2.0",
            "grid_template_areas": null,
            "object_position": null,
            "object_fit": null,
            "grid_auto_columns": null,
            "margin": null,
            "display": null,
            "left": null
          }
        },
        "a77840a643e945d880a43a41135105c7": {
          "model_module": "@jupyter-widgets/controls",
          "model_name": "FloatProgressModel",
          "state": {
            "_view_name": "ProgressView",
            "style": "IPY_MODEL_2e59489abf154d348e958802655a26b3",
            "_dom_classes": [],
            "description": "",
            "_model_name": "FloatProgressModel",
            "bar_style": "success",
            "max": 1,
            "_view_module": "@jupyter-widgets/controls",
            "_model_module_version": "1.5.0",
            "value": 1,
            "_view_count": null,
            "_view_module_version": "1.5.0",
            "orientation": "horizontal",
            "min": 0,
            "description_tooltip": null,
            "_model_module": "@jupyter-widgets/controls",
            "layout": "IPY_MODEL_bb7aa9af72d24325bef4fe007ec122b5"
          }
        },
        "e75e0d2a64b14bd0b7efaadbee9f7dd2": {
          "model_module": "@jupyter-widgets/controls",
          "model_name": "HTMLModel",
          "state": {
            "_view_name": "HTMLView",
            "style": "IPY_MODEL_cff1fbd5cda740feaf714df492826c30",
            "_dom_classes": [],
            "description": "",
            "_model_name": "HTMLModel",
            "placeholder": "​",
            "_view_module": "@jupyter-widgets/controls",
            "_model_module_version": "1.5.0",
            "value": " 57/? [52:40&lt;00:00, 55.46s/it]",
            "_view_count": null,
            "_view_module_version": "1.5.0",
            "description_tooltip": null,
            "_model_module": "@jupyter-widgets/controls",
            "layout": "IPY_MODEL_5d0ad305d5e148508e2b1bf0fa9c00f5"
          }
        },
        "2e59489abf154d348e958802655a26b3": {
          "model_module": "@jupyter-widgets/controls",
          "model_name": "ProgressStyleModel",
          "state": {
            "_view_name": "StyleView",
            "_model_name": "ProgressStyleModel",
            "description_width": "initial",
            "_view_module": "@jupyter-widgets/base",
            "_model_module_version": "1.5.0",
            "_view_count": null,
            "_view_module_version": "1.2.0",
            "bar_color": null,
            "_model_module": "@jupyter-widgets/controls"
          }
        },
        "bb7aa9af72d24325bef4fe007ec122b5": {
          "model_module": "@jupyter-widgets/base",
          "model_name": "LayoutModel",
          "state": {
            "_view_name": "LayoutView",
            "grid_template_rows": null,
            "right": null,
            "justify_content": null,
            "_view_module": "@jupyter-widgets/base",
            "overflow": null,
            "_model_module_version": "1.2.0",
            "_view_count": null,
            "flex_flow": null,
            "width": null,
            "min_width": null,
            "border": null,
            "align_items": null,
            "bottom": null,
            "_model_module": "@jupyter-widgets/base",
            "top": null,
            "grid_column": null,
            "overflow_y": null,
            "overflow_x": null,
            "grid_auto_flow": null,
            "grid_area": null,
            "grid_template_columns": null,
            "flex": null,
            "_model_name": "LayoutModel",
            "justify_items": null,
            "grid_row": null,
            "max_height": null,
            "align_content": null,
            "visibility": null,
            "align_self": null,
            "height": null,
            "min_height": null,
            "padding": null,
            "grid_auto_rows": null,
            "grid_gap": null,
            "max_width": null,
            "order": null,
            "_view_module_version": "1.2.0",
            "grid_template_areas": null,
            "object_position": null,
            "object_fit": null,
            "grid_auto_columns": null,
            "margin": null,
            "display": null,
            "left": null
          }
        },
        "cff1fbd5cda740feaf714df492826c30": {
          "model_module": "@jupyter-widgets/controls",
          "model_name": "DescriptionStyleModel",
          "state": {
            "_view_name": "StyleView",
            "_model_name": "DescriptionStyleModel",
            "description_width": "",
            "_view_module": "@jupyter-widgets/base",
            "_model_module_version": "1.5.0",
            "_view_count": null,
            "_view_module_version": "1.2.0",
            "_model_module": "@jupyter-widgets/controls"
          }
        },
        "5d0ad305d5e148508e2b1bf0fa9c00f5": {
          "model_module": "@jupyter-widgets/base",
          "model_name": "LayoutModel",
          "state": {
            "_view_name": "LayoutView",
            "grid_template_rows": null,
            "right": null,
            "justify_content": null,
            "_view_module": "@jupyter-widgets/base",
            "overflow": null,
            "_model_module_version": "1.2.0",
            "_view_count": null,
            "flex_flow": null,
            "width": null,
            "min_width": null,
            "border": null,
            "align_items": null,
            "bottom": null,
            "_model_module": "@jupyter-widgets/base",
            "top": null,
            "grid_column": null,
            "overflow_y": null,
            "overflow_x": null,
            "grid_auto_flow": null,
            "grid_area": null,
            "grid_template_columns": null,
            "flex": null,
            "_model_name": "LayoutModel",
            "justify_items": null,
            "grid_row": null,
            "max_height": null,
            "align_content": null,
            "visibility": null,
            "align_self": null,
            "height": null,
            "min_height": null,
            "padding": null,
            "grid_auto_rows": null,
            "grid_gap": null,
            "max_width": null,
            "order": null,
            "_view_module_version": "1.2.0",
            "grid_template_areas": null,
            "object_position": null,
            "object_fit": null,
            "grid_auto_columns": null,
            "margin": null,
            "display": null,
            "left": null
          }
        },
        "0116a31036ea4934903ff79228d9fa2b": {
          "model_module": "@jupyter-widgets/controls",
          "model_name": "HBoxModel",
          "state": {
            "_view_name": "HBoxView",
            "_dom_classes": [],
            "_model_name": "HBoxModel",
            "_view_module": "@jupyter-widgets/controls",
            "_model_module_version": "1.5.0",
            "_view_count": null,
            "_view_module_version": "1.5.0",
            "box_style": "",
            "layout": "IPY_MODEL_09939c9f04ad421688a8c29ac7994e1a",
            "_model_module": "@jupyter-widgets/controls",
            "children": [
              "IPY_MODEL_c41fb217687d4adebba08844b32b3ed0",
              "IPY_MODEL_dace57b2e9ab452f842a774a6bde2f45"
            ]
          }
        },
        "09939c9f04ad421688a8c29ac7994e1a": {
          "model_module": "@jupyter-widgets/base",
          "model_name": "LayoutModel",
          "state": {
            "_view_name": "LayoutView",
            "grid_template_rows": null,
            "right": null,
            "justify_content": null,
            "_view_module": "@jupyter-widgets/base",
            "overflow": null,
            "_model_module_version": "1.2.0",
            "_view_count": null,
            "flex_flow": null,
            "width": null,
            "min_width": null,
            "border": null,
            "align_items": null,
            "bottom": null,
            "_model_module": "@jupyter-widgets/base",
            "top": null,
            "grid_column": null,
            "overflow_y": null,
            "overflow_x": null,
            "grid_auto_flow": null,
            "grid_area": null,
            "grid_template_columns": null,
            "flex": null,
            "_model_name": "LayoutModel",
            "justify_items": null,
            "grid_row": null,
            "max_height": null,
            "align_content": null,
            "visibility": null,
            "align_self": null,
            "height": null,
            "min_height": null,
            "padding": null,
            "grid_auto_rows": null,
            "grid_gap": null,
            "max_width": null,
            "order": null,
            "_view_module_version": "1.2.0",
            "grid_template_areas": null,
            "object_position": null,
            "object_fit": null,
            "grid_auto_columns": null,
            "margin": null,
            "display": null,
            "left": null
          }
        },
        "c41fb217687d4adebba08844b32b3ed0": {
          "model_module": "@jupyter-widgets/controls",
          "model_name": "FloatProgressModel",
          "state": {
            "_view_name": "ProgressView",
            "style": "IPY_MODEL_89da5be30e3144fe9dd50dc58aafe440",
            "_dom_classes": [],
            "description": "100%",
            "_model_name": "FloatProgressModel",
            "bar_style": "success",
            "max": 7,
            "_view_module": "@jupyter-widgets/controls",
            "_model_module_version": "1.5.0",
            "value": 7,
            "_view_count": null,
            "_view_module_version": "1.5.0",
            "orientation": "horizontal",
            "min": 0,
            "description_tooltip": null,
            "_model_module": "@jupyter-widgets/controls",
            "layout": "IPY_MODEL_65e0d0cf306c4855991edd99ee798dfc"
          }
        },
        "dace57b2e9ab452f842a774a6bde2f45": {
          "model_module": "@jupyter-widgets/controls",
          "model_name": "HTMLModel",
          "state": {
            "_view_name": "HTMLView",
            "style": "IPY_MODEL_882d929cd2314a4b9911163752c7b27e",
            "_dom_classes": [],
            "description": "",
            "_model_name": "HTMLModel",
            "placeholder": "​",
            "_view_module": "@jupyter-widgets/controls",
            "_model_module_version": "1.5.0",
            "value": " 7/7 [04:44&lt;00:00, 40.68s/it]",
            "_view_count": null,
            "_view_module_version": "1.5.0",
            "description_tooltip": null,
            "_model_module": "@jupyter-widgets/controls",
            "layout": "IPY_MODEL_829b5de694f0466281227f2e6676a300"
          }
        },
        "89da5be30e3144fe9dd50dc58aafe440": {
          "model_module": "@jupyter-widgets/controls",
          "model_name": "ProgressStyleModel",
          "state": {
            "_view_name": "StyleView",
            "_model_name": "ProgressStyleModel",
            "description_width": "initial",
            "_view_module": "@jupyter-widgets/base",
            "_model_module_version": "1.5.0",
            "_view_count": null,
            "_view_module_version": "1.2.0",
            "bar_color": null,
            "_model_module": "@jupyter-widgets/controls"
          }
        },
        "65e0d0cf306c4855991edd99ee798dfc": {
          "model_module": "@jupyter-widgets/base",
          "model_name": "LayoutModel",
          "state": {
            "_view_name": "LayoutView",
            "grid_template_rows": null,
            "right": null,
            "justify_content": null,
            "_view_module": "@jupyter-widgets/base",
            "overflow": null,
            "_model_module_version": "1.2.0",
            "_view_count": null,
            "flex_flow": null,
            "width": null,
            "min_width": null,
            "border": null,
            "align_items": null,
            "bottom": null,
            "_model_module": "@jupyter-widgets/base",
            "top": null,
            "grid_column": null,
            "overflow_y": null,
            "overflow_x": null,
            "grid_auto_flow": null,
            "grid_area": null,
            "grid_template_columns": null,
            "flex": null,
            "_model_name": "LayoutModel",
            "justify_items": null,
            "grid_row": null,
            "max_height": null,
            "align_content": null,
            "visibility": null,
            "align_self": null,
            "height": null,
            "min_height": null,
            "padding": null,
            "grid_auto_rows": null,
            "grid_gap": null,
            "max_width": null,
            "order": null,
            "_view_module_version": "1.2.0",
            "grid_template_areas": null,
            "object_position": null,
            "object_fit": null,
            "grid_auto_columns": null,
            "margin": null,
            "display": null,
            "left": null
          }
        },
        "882d929cd2314a4b9911163752c7b27e": {
          "model_module": "@jupyter-widgets/controls",
          "model_name": "DescriptionStyleModel",
          "state": {
            "_view_name": "StyleView",
            "_model_name": "DescriptionStyleModel",
            "description_width": "",
            "_view_module": "@jupyter-widgets/base",
            "_model_module_version": "1.5.0",
            "_view_count": null,
            "_view_module_version": "1.2.0",
            "_model_module": "@jupyter-widgets/controls"
          }
        },
        "829b5de694f0466281227f2e6676a300": {
          "model_module": "@jupyter-widgets/base",
          "model_name": "LayoutModel",
          "state": {
            "_view_name": "LayoutView",
            "grid_template_rows": null,
            "right": null,
            "justify_content": null,
            "_view_module": "@jupyter-widgets/base",
            "overflow": null,
            "_model_module_version": "1.2.0",
            "_view_count": null,
            "flex_flow": null,
            "width": null,
            "min_width": null,
            "border": null,
            "align_items": null,
            "bottom": null,
            "_model_module": "@jupyter-widgets/base",
            "top": null,
            "grid_column": null,
            "overflow_y": null,
            "overflow_x": null,
            "grid_auto_flow": null,
            "grid_area": null,
            "grid_template_columns": null,
            "flex": null,
            "_model_name": "LayoutModel",
            "justify_items": null,
            "grid_row": null,
            "max_height": null,
            "align_content": null,
            "visibility": null,
            "align_self": null,
            "height": null,
            "min_height": null,
            "padding": null,
            "grid_auto_rows": null,
            "grid_gap": null,
            "max_width": null,
            "order": null,
            "_view_module_version": "1.2.0",
            "grid_template_areas": null,
            "object_position": null,
            "object_fit": null,
            "grid_auto_columns": null,
            "margin": null,
            "display": null,
            "left": null
          }
        },
        "8ade446de6244a22accb097a0ca8cf37": {
          "model_module": "@jupyter-widgets/controls",
          "model_name": "HBoxModel",
          "state": {
            "_view_name": "HBoxView",
            "_dom_classes": [],
            "_model_name": "HBoxModel",
            "_view_module": "@jupyter-widgets/controls",
            "_model_module_version": "1.5.0",
            "_view_count": null,
            "_view_module_version": "1.5.0",
            "box_style": "",
            "layout": "IPY_MODEL_37f457246ec840f2b367de60c5c79f5a",
            "_model_module": "@jupyter-widgets/controls",
            "children": [
              "IPY_MODEL_f78a2a318a74455aa593448833de3372",
              "IPY_MODEL_3b0006f8dfb54d6180369057a33ab3d3"
            ]
          }
        },
        "37f457246ec840f2b367de60c5c79f5a": {
          "model_module": "@jupyter-widgets/base",
          "model_name": "LayoutModel",
          "state": {
            "_view_name": "LayoutView",
            "grid_template_rows": null,
            "right": null,
            "justify_content": null,
            "_view_module": "@jupyter-widgets/base",
            "overflow": null,
            "_model_module_version": "1.2.0",
            "_view_count": null,
            "flex_flow": null,
            "width": null,
            "min_width": null,
            "border": null,
            "align_items": null,
            "bottom": null,
            "_model_module": "@jupyter-widgets/base",
            "top": null,
            "grid_column": null,
            "overflow_y": null,
            "overflow_x": null,
            "grid_auto_flow": null,
            "grid_area": null,
            "grid_template_columns": null,
            "flex": null,
            "_model_name": "LayoutModel",
            "justify_items": null,
            "grid_row": null,
            "max_height": null,
            "align_content": null,
            "visibility": null,
            "align_self": null,
            "height": null,
            "min_height": null,
            "padding": null,
            "grid_auto_rows": null,
            "grid_gap": null,
            "max_width": null,
            "order": null,
            "_view_module_version": "1.2.0",
            "grid_template_areas": null,
            "object_position": null,
            "object_fit": null,
            "grid_auto_columns": null,
            "margin": null,
            "display": null,
            "left": null
          }
        },
        "f78a2a318a74455aa593448833de3372": {
          "model_module": "@jupyter-widgets/controls",
          "model_name": "FloatProgressModel",
          "state": {
            "_view_name": "ProgressView",
            "style": "IPY_MODEL_50dadfd107c3401d9b0a180cf6e2ed5a",
            "_dom_classes": [],
            "description": "",
            "_model_name": "FloatProgressModel",
            "bar_style": "success",
            "max": 1,
            "_view_module": "@jupyter-widgets/controls",
            "_model_module_version": "1.5.0",
            "value": 1,
            "_view_count": null,
            "_view_module_version": "1.5.0",
            "orientation": "horizontal",
            "min": 0,
            "description_tooltip": null,
            "_model_module": "@jupyter-widgets/controls",
            "layout": "IPY_MODEL_66da8928a44f43bf9034ef2a62101b5f"
          }
        },
        "3b0006f8dfb54d6180369057a33ab3d3": {
          "model_module": "@jupyter-widgets/controls",
          "model_name": "HTMLModel",
          "state": {
            "_view_name": "HTMLView",
            "style": "IPY_MODEL_15954d26208641de84e73f9509bea0e6",
            "_dom_classes": [],
            "description": "",
            "_model_name": "HTMLModel",
            "placeholder": "​",
            "_view_module": "@jupyter-widgets/controls",
            "_model_module_version": "1.5.0",
            "value": " 57/? [04:41&lt;00:00,  4.94s/it]",
            "_view_count": null,
            "_view_module_version": "1.5.0",
            "description_tooltip": null,
            "_model_module": "@jupyter-widgets/controls",
            "layout": "IPY_MODEL_16a1b78008c045ceb753c030f2e30db8"
          }
        },
        "50dadfd107c3401d9b0a180cf6e2ed5a": {
          "model_module": "@jupyter-widgets/controls",
          "model_name": "ProgressStyleModel",
          "state": {
            "_view_name": "StyleView",
            "_model_name": "ProgressStyleModel",
            "description_width": "initial",
            "_view_module": "@jupyter-widgets/base",
            "_model_module_version": "1.5.0",
            "_view_count": null,
            "_view_module_version": "1.2.0",
            "bar_color": null,
            "_model_module": "@jupyter-widgets/controls"
          }
        },
        "66da8928a44f43bf9034ef2a62101b5f": {
          "model_module": "@jupyter-widgets/base",
          "model_name": "LayoutModel",
          "state": {
            "_view_name": "LayoutView",
            "grid_template_rows": null,
            "right": null,
            "justify_content": null,
            "_view_module": "@jupyter-widgets/base",
            "overflow": null,
            "_model_module_version": "1.2.0",
            "_view_count": null,
            "flex_flow": null,
            "width": null,
            "min_width": null,
            "border": null,
            "align_items": null,
            "bottom": null,
            "_model_module": "@jupyter-widgets/base",
            "top": null,
            "grid_column": null,
            "overflow_y": null,
            "overflow_x": null,
            "grid_auto_flow": null,
            "grid_area": null,
            "grid_template_columns": null,
            "flex": null,
            "_model_name": "LayoutModel",
            "justify_items": null,
            "grid_row": null,
            "max_height": null,
            "align_content": null,
            "visibility": null,
            "align_self": null,
            "height": null,
            "min_height": null,
            "padding": null,
            "grid_auto_rows": null,
            "grid_gap": null,
            "max_width": null,
            "order": null,
            "_view_module_version": "1.2.0",
            "grid_template_areas": null,
            "object_position": null,
            "object_fit": null,
            "grid_auto_columns": null,
            "margin": null,
            "display": null,
            "left": null
          }
        },
        "15954d26208641de84e73f9509bea0e6": {
          "model_module": "@jupyter-widgets/controls",
          "model_name": "DescriptionStyleModel",
          "state": {
            "_view_name": "StyleView",
            "_model_name": "DescriptionStyleModel",
            "description_width": "",
            "_view_module": "@jupyter-widgets/base",
            "_model_module_version": "1.5.0",
            "_view_count": null,
            "_view_module_version": "1.2.0",
            "_model_module": "@jupyter-widgets/controls"
          }
        },
        "16a1b78008c045ceb753c030f2e30db8": {
          "model_module": "@jupyter-widgets/base",
          "model_name": "LayoutModel",
          "state": {
            "_view_name": "LayoutView",
            "grid_template_rows": null,
            "right": null,
            "justify_content": null,
            "_view_module": "@jupyter-widgets/base",
            "overflow": null,
            "_model_module_version": "1.2.0",
            "_view_count": null,
            "flex_flow": null,
            "width": null,
            "min_width": null,
            "border": null,
            "align_items": null,
            "bottom": null,
            "_model_module": "@jupyter-widgets/base",
            "top": null,
            "grid_column": null,
            "overflow_y": null,
            "overflow_x": null,
            "grid_auto_flow": null,
            "grid_area": null,
            "grid_template_columns": null,
            "flex": null,
            "_model_name": "LayoutModel",
            "justify_items": null,
            "grid_row": null,
            "max_height": null,
            "align_content": null,
            "visibility": null,
            "align_self": null,
            "height": null,
            "min_height": null,
            "padding": null,
            "grid_auto_rows": null,
            "grid_gap": null,
            "max_width": null,
            "order": null,
            "_view_module_version": "1.2.0",
            "grid_template_areas": null,
            "object_position": null,
            "object_fit": null,
            "grid_auto_columns": null,
            "margin": null,
            "display": null,
            "left": null
          }
        },
        "5b88574e14344d9dadbce70bcf210f32": {
          "model_module": "@jupyter-widgets/controls",
          "model_name": "HBoxModel",
          "state": {
            "_view_name": "HBoxView",
            "_dom_classes": [],
            "_model_name": "HBoxModel",
            "_view_module": "@jupyter-widgets/controls",
            "_model_module_version": "1.5.0",
            "_view_count": null,
            "_view_module_version": "1.5.0",
            "box_style": "",
            "layout": "IPY_MODEL_8b23033348684cd782fb6cd26cf53707",
            "_model_module": "@jupyter-widgets/controls",
            "children": [
              "IPY_MODEL_99845303d2da4e0a85745846d468965e",
              "IPY_MODEL_1c957a90428842a6b5cfe779cb4603a5"
            ]
          }
        },
        "8b23033348684cd782fb6cd26cf53707": {
          "model_module": "@jupyter-widgets/base",
          "model_name": "LayoutModel",
          "state": {
            "_view_name": "LayoutView",
            "grid_template_rows": null,
            "right": null,
            "justify_content": null,
            "_view_module": "@jupyter-widgets/base",
            "overflow": null,
            "_model_module_version": "1.2.0",
            "_view_count": null,
            "flex_flow": null,
            "width": null,
            "min_width": null,
            "border": null,
            "align_items": null,
            "bottom": null,
            "_model_module": "@jupyter-widgets/base",
            "top": null,
            "grid_column": null,
            "overflow_y": null,
            "overflow_x": null,
            "grid_auto_flow": null,
            "grid_area": null,
            "grid_template_columns": null,
            "flex": null,
            "_model_name": "LayoutModel",
            "justify_items": null,
            "grid_row": null,
            "max_height": null,
            "align_content": null,
            "visibility": null,
            "align_self": null,
            "height": null,
            "min_height": null,
            "padding": null,
            "grid_auto_rows": null,
            "grid_gap": null,
            "max_width": null,
            "order": null,
            "_view_module_version": "1.2.0",
            "grid_template_areas": null,
            "object_position": null,
            "object_fit": null,
            "grid_auto_columns": null,
            "margin": null,
            "display": null,
            "left": null
          }
        },
        "99845303d2da4e0a85745846d468965e": {
          "model_module": "@jupyter-widgets/controls",
          "model_name": "FloatProgressModel",
          "state": {
            "_view_name": "ProgressView",
            "style": "IPY_MODEL_bf02f064168840a781c5346cad96323b",
            "_dom_classes": [],
            "description": "100%",
            "_model_name": "FloatProgressModel",
            "bar_style": "success",
            "max": 7,
            "_view_module": "@jupyter-widgets/controls",
            "_model_module_version": "1.5.0",
            "value": 7,
            "_view_count": null,
            "_view_module_version": "1.5.0",
            "orientation": "horizontal",
            "min": 0,
            "description_tooltip": null,
            "_model_module": "@jupyter-widgets/controls",
            "layout": "IPY_MODEL_576d7465013c44fe935154193e74f268"
          }
        },
        "1c957a90428842a6b5cfe779cb4603a5": {
          "model_module": "@jupyter-widgets/controls",
          "model_name": "HTMLModel",
          "state": {
            "_view_name": "HTMLView",
            "style": "IPY_MODEL_a6929c741aa0413e96f97ecf51e19334",
            "_dom_classes": [],
            "description": "",
            "_model_name": "HTMLModel",
            "placeholder": "​",
            "_view_module": "@jupyter-widgets/controls",
            "_model_module_version": "1.5.0",
            "value": " 7/7 [00:03&lt;00:00,  2.21it/s]",
            "_view_count": null,
            "_view_module_version": "1.5.0",
            "description_tooltip": null,
            "_model_module": "@jupyter-widgets/controls",
            "layout": "IPY_MODEL_b7a51378bf8d4ffa9f17817148c46bbb"
          }
        },
        "bf02f064168840a781c5346cad96323b": {
          "model_module": "@jupyter-widgets/controls",
          "model_name": "ProgressStyleModel",
          "state": {
            "_view_name": "StyleView",
            "_model_name": "ProgressStyleModel",
            "description_width": "initial",
            "_view_module": "@jupyter-widgets/base",
            "_model_module_version": "1.5.0",
            "_view_count": null,
            "_view_module_version": "1.2.0",
            "bar_color": null,
            "_model_module": "@jupyter-widgets/controls"
          }
        },
        "576d7465013c44fe935154193e74f268": {
          "model_module": "@jupyter-widgets/base",
          "model_name": "LayoutModel",
          "state": {
            "_view_name": "LayoutView",
            "grid_template_rows": null,
            "right": null,
            "justify_content": null,
            "_view_module": "@jupyter-widgets/base",
            "overflow": null,
            "_model_module_version": "1.2.0",
            "_view_count": null,
            "flex_flow": null,
            "width": null,
            "min_width": null,
            "border": null,
            "align_items": null,
            "bottom": null,
            "_model_module": "@jupyter-widgets/base",
            "top": null,
            "grid_column": null,
            "overflow_y": null,
            "overflow_x": null,
            "grid_auto_flow": null,
            "grid_area": null,
            "grid_template_columns": null,
            "flex": null,
            "_model_name": "LayoutModel",
            "justify_items": null,
            "grid_row": null,
            "max_height": null,
            "align_content": null,
            "visibility": null,
            "align_self": null,
            "height": null,
            "min_height": null,
            "padding": null,
            "grid_auto_rows": null,
            "grid_gap": null,
            "max_width": null,
            "order": null,
            "_view_module_version": "1.2.0",
            "grid_template_areas": null,
            "object_position": null,
            "object_fit": null,
            "grid_auto_columns": null,
            "margin": null,
            "display": null,
            "left": null
          }
        },
        "a6929c741aa0413e96f97ecf51e19334": {
          "model_module": "@jupyter-widgets/controls",
          "model_name": "DescriptionStyleModel",
          "state": {
            "_view_name": "StyleView",
            "_model_name": "DescriptionStyleModel",
            "description_width": "",
            "_view_module": "@jupyter-widgets/base",
            "_model_module_version": "1.5.0",
            "_view_count": null,
            "_view_module_version": "1.2.0",
            "_model_module": "@jupyter-widgets/controls"
          }
        },
        "b7a51378bf8d4ffa9f17817148c46bbb": {
          "model_module": "@jupyter-widgets/base",
          "model_name": "LayoutModel",
          "state": {
            "_view_name": "LayoutView",
            "grid_template_rows": null,
            "right": null,
            "justify_content": null,
            "_view_module": "@jupyter-widgets/base",
            "overflow": null,
            "_model_module_version": "1.2.0",
            "_view_count": null,
            "flex_flow": null,
            "width": null,
            "min_width": null,
            "border": null,
            "align_items": null,
            "bottom": null,
            "_model_module": "@jupyter-widgets/base",
            "top": null,
            "grid_column": null,
            "overflow_y": null,
            "overflow_x": null,
            "grid_auto_flow": null,
            "grid_area": null,
            "grid_template_columns": null,
            "flex": null,
            "_model_name": "LayoutModel",
            "justify_items": null,
            "grid_row": null,
            "max_height": null,
            "align_content": null,
            "visibility": null,
            "align_self": null,
            "height": null,
            "min_height": null,
            "padding": null,
            "grid_auto_rows": null,
            "grid_gap": null,
            "max_width": null,
            "order": null,
            "_view_module_version": "1.2.0",
            "grid_template_areas": null,
            "object_position": null,
            "object_fit": null,
            "grid_auto_columns": null,
            "margin": null,
            "display": null,
            "left": null
          }
        },
        "41119aa1690442e890efc56a3d84b0c9": {
          "model_module": "@jupyter-widgets/controls",
          "model_name": "HBoxModel",
          "state": {
            "_view_name": "HBoxView",
            "_dom_classes": [],
            "_model_name": "HBoxModel",
            "_view_module": "@jupyter-widgets/controls",
            "_model_module_version": "1.5.0",
            "_view_count": null,
            "_view_module_version": "1.5.0",
            "box_style": "",
            "layout": "IPY_MODEL_9bbac01307604cdeb44faac862369f93",
            "_model_module": "@jupyter-widgets/controls",
            "children": [
              "IPY_MODEL_a020ec1d88b14a22ac36694393b34840",
              "IPY_MODEL_2d3de6ad031a43b3b1782287975e4d2b"
            ]
          }
        },
        "9bbac01307604cdeb44faac862369f93": {
          "model_module": "@jupyter-widgets/base",
          "model_name": "LayoutModel",
          "state": {
            "_view_name": "LayoutView",
            "grid_template_rows": null,
            "right": null,
            "justify_content": null,
            "_view_module": "@jupyter-widgets/base",
            "overflow": null,
            "_model_module_version": "1.2.0",
            "_view_count": null,
            "flex_flow": null,
            "width": null,
            "min_width": null,
            "border": null,
            "align_items": null,
            "bottom": null,
            "_model_module": "@jupyter-widgets/base",
            "top": null,
            "grid_column": null,
            "overflow_y": null,
            "overflow_x": null,
            "grid_auto_flow": null,
            "grid_area": null,
            "grid_template_columns": null,
            "flex": null,
            "_model_name": "LayoutModel",
            "justify_items": null,
            "grid_row": null,
            "max_height": null,
            "align_content": null,
            "visibility": null,
            "align_self": null,
            "height": null,
            "min_height": null,
            "padding": null,
            "grid_auto_rows": null,
            "grid_gap": null,
            "max_width": null,
            "order": null,
            "_view_module_version": "1.2.0",
            "grid_template_areas": null,
            "object_position": null,
            "object_fit": null,
            "grid_auto_columns": null,
            "margin": null,
            "display": null,
            "left": null
          }
        },
        "a020ec1d88b14a22ac36694393b34840": {
          "model_module": "@jupyter-widgets/controls",
          "model_name": "FloatProgressModel",
          "state": {
            "_view_name": "ProgressView",
            "style": "IPY_MODEL_ee77ea77a6b34ca69d277623f0013ba6",
            "_dom_classes": [],
            "description": "",
            "_model_name": "FloatProgressModel",
            "bar_style": "success",
            "max": 1,
            "_view_module": "@jupyter-widgets/controls",
            "_model_module_version": "1.5.0",
            "value": 1,
            "_view_count": null,
            "_view_module_version": "1.5.0",
            "orientation": "horizontal",
            "min": 0,
            "description_tooltip": null,
            "_model_module": "@jupyter-widgets/controls",
            "layout": "IPY_MODEL_187b0dfe8cfc4e97a8efc5464e9eaaf8"
          }
        },
        "2d3de6ad031a43b3b1782287975e4d2b": {
          "model_module": "@jupyter-widgets/controls",
          "model_name": "HTMLModel",
          "state": {
            "_view_name": "HTMLView",
            "style": "IPY_MODEL_7dbba4181a53407da64b21dc110afd94",
            "_dom_classes": [],
            "description": "",
            "_model_name": "HTMLModel",
            "placeholder": "​",
            "_view_module": "@jupyter-widgets/controls",
            "_model_module_version": "1.5.0",
            "value": " 57/? [03:16&lt;00:00,  3.44s/it]",
            "_view_count": null,
            "_view_module_version": "1.5.0",
            "description_tooltip": null,
            "_model_module": "@jupyter-widgets/controls",
            "layout": "IPY_MODEL_83ecb1ed8a46430fa1a599c47e72b026"
          }
        },
        "ee77ea77a6b34ca69d277623f0013ba6": {
          "model_module": "@jupyter-widgets/controls",
          "model_name": "ProgressStyleModel",
          "state": {
            "_view_name": "StyleView",
            "_model_name": "ProgressStyleModel",
            "description_width": "initial",
            "_view_module": "@jupyter-widgets/base",
            "_model_module_version": "1.5.0",
            "_view_count": null,
            "_view_module_version": "1.2.0",
            "bar_color": null,
            "_model_module": "@jupyter-widgets/controls"
          }
        },
        "187b0dfe8cfc4e97a8efc5464e9eaaf8": {
          "model_module": "@jupyter-widgets/base",
          "model_name": "LayoutModel",
          "state": {
            "_view_name": "LayoutView",
            "grid_template_rows": null,
            "right": null,
            "justify_content": null,
            "_view_module": "@jupyter-widgets/base",
            "overflow": null,
            "_model_module_version": "1.2.0",
            "_view_count": null,
            "flex_flow": null,
            "width": null,
            "min_width": null,
            "border": null,
            "align_items": null,
            "bottom": null,
            "_model_module": "@jupyter-widgets/base",
            "top": null,
            "grid_column": null,
            "overflow_y": null,
            "overflow_x": null,
            "grid_auto_flow": null,
            "grid_area": null,
            "grid_template_columns": null,
            "flex": null,
            "_model_name": "LayoutModel",
            "justify_items": null,
            "grid_row": null,
            "max_height": null,
            "align_content": null,
            "visibility": null,
            "align_self": null,
            "height": null,
            "min_height": null,
            "padding": null,
            "grid_auto_rows": null,
            "grid_gap": null,
            "max_width": null,
            "order": null,
            "_view_module_version": "1.2.0",
            "grid_template_areas": null,
            "object_position": null,
            "object_fit": null,
            "grid_auto_columns": null,
            "margin": null,
            "display": null,
            "left": null
          }
        },
        "7dbba4181a53407da64b21dc110afd94": {
          "model_module": "@jupyter-widgets/controls",
          "model_name": "DescriptionStyleModel",
          "state": {
            "_view_name": "StyleView",
            "_model_name": "DescriptionStyleModel",
            "description_width": "",
            "_view_module": "@jupyter-widgets/base",
            "_model_module_version": "1.5.0",
            "_view_count": null,
            "_view_module_version": "1.2.0",
            "_model_module": "@jupyter-widgets/controls"
          }
        },
        "83ecb1ed8a46430fa1a599c47e72b026": {
          "model_module": "@jupyter-widgets/base",
          "model_name": "LayoutModel",
          "state": {
            "_view_name": "LayoutView",
            "grid_template_rows": null,
            "right": null,
            "justify_content": null,
            "_view_module": "@jupyter-widgets/base",
            "overflow": null,
            "_model_module_version": "1.2.0",
            "_view_count": null,
            "flex_flow": null,
            "width": null,
            "min_width": null,
            "border": null,
            "align_items": null,
            "bottom": null,
            "_model_module": "@jupyter-widgets/base",
            "top": null,
            "grid_column": null,
            "overflow_y": null,
            "overflow_x": null,
            "grid_auto_flow": null,
            "grid_area": null,
            "grid_template_columns": null,
            "flex": null,
            "_model_name": "LayoutModel",
            "justify_items": null,
            "grid_row": null,
            "max_height": null,
            "align_content": null,
            "visibility": null,
            "align_self": null,
            "height": null,
            "min_height": null,
            "padding": null,
            "grid_auto_rows": null,
            "grid_gap": null,
            "max_width": null,
            "order": null,
            "_view_module_version": "1.2.0",
            "grid_template_areas": null,
            "object_position": null,
            "object_fit": null,
            "grid_auto_columns": null,
            "margin": null,
            "display": null,
            "left": null
          }
        },
        "8c08970e91a548419a31da5147de8343": {
          "model_module": "@jupyter-widgets/controls",
          "model_name": "HBoxModel",
          "state": {
            "_view_name": "HBoxView",
            "_dom_classes": [],
            "_model_name": "HBoxModel",
            "_view_module": "@jupyter-widgets/controls",
            "_model_module_version": "1.5.0",
            "_view_count": null,
            "_view_module_version": "1.5.0",
            "box_style": "",
            "layout": "IPY_MODEL_5112c1a3478c44c0b69ead6294c30538",
            "_model_module": "@jupyter-widgets/controls",
            "children": [
              "IPY_MODEL_d2440ece6ad54127a8d557d82394346a",
              "IPY_MODEL_4a5cb2134ead4349a35d94a4988c69c8"
            ]
          }
        },
        "5112c1a3478c44c0b69ead6294c30538": {
          "model_module": "@jupyter-widgets/base",
          "model_name": "LayoutModel",
          "state": {
            "_view_name": "LayoutView",
            "grid_template_rows": null,
            "right": null,
            "justify_content": null,
            "_view_module": "@jupyter-widgets/base",
            "overflow": null,
            "_model_module_version": "1.2.0",
            "_view_count": null,
            "flex_flow": null,
            "width": null,
            "min_width": null,
            "border": null,
            "align_items": null,
            "bottom": null,
            "_model_module": "@jupyter-widgets/base",
            "top": null,
            "grid_column": null,
            "overflow_y": null,
            "overflow_x": null,
            "grid_auto_flow": null,
            "grid_area": null,
            "grid_template_columns": null,
            "flex": null,
            "_model_name": "LayoutModel",
            "justify_items": null,
            "grid_row": null,
            "max_height": null,
            "align_content": null,
            "visibility": null,
            "align_self": null,
            "height": null,
            "min_height": null,
            "padding": null,
            "grid_auto_rows": null,
            "grid_gap": null,
            "max_width": null,
            "order": null,
            "_view_module_version": "1.2.0",
            "grid_template_areas": null,
            "object_position": null,
            "object_fit": null,
            "grid_auto_columns": null,
            "margin": null,
            "display": null,
            "left": null
          }
        },
        "d2440ece6ad54127a8d557d82394346a": {
          "model_module": "@jupyter-widgets/controls",
          "model_name": "FloatProgressModel",
          "state": {
            "_view_name": "ProgressView",
            "style": "IPY_MODEL_6848f123520b4b298c1147263d853d5c",
            "_dom_classes": [],
            "description": "100%",
            "_model_name": "FloatProgressModel",
            "bar_style": "success",
            "max": 7,
            "_view_module": "@jupyter-widgets/controls",
            "_model_module_version": "1.5.0",
            "value": 7,
            "_view_count": null,
            "_view_module_version": "1.5.0",
            "orientation": "horizontal",
            "min": 0,
            "description_tooltip": null,
            "_model_module": "@jupyter-widgets/controls",
            "layout": "IPY_MODEL_c50234ff129e48d18ba56f6f16195df0"
          }
        },
        "4a5cb2134ead4349a35d94a4988c69c8": {
          "model_module": "@jupyter-widgets/controls",
          "model_name": "HTMLModel",
          "state": {
            "_view_name": "HTMLView",
            "style": "IPY_MODEL_85e2a008197641c78f3d6682a53dc54f",
            "_dom_classes": [],
            "description": "",
            "_model_name": "HTMLModel",
            "placeholder": "​",
            "_view_module": "@jupyter-widgets/controls",
            "_model_module_version": "1.5.0",
            "value": " 7/7 [01:50&lt;00:00, 15.77s/it]",
            "_view_count": null,
            "_view_module_version": "1.5.0",
            "description_tooltip": null,
            "_model_module": "@jupyter-widgets/controls",
            "layout": "IPY_MODEL_5a93522345864a72bab701dd40e3f50d"
          }
        },
        "6848f123520b4b298c1147263d853d5c": {
          "model_module": "@jupyter-widgets/controls",
          "model_name": "ProgressStyleModel",
          "state": {
            "_view_name": "StyleView",
            "_model_name": "ProgressStyleModel",
            "description_width": "initial",
            "_view_module": "@jupyter-widgets/base",
            "_model_module_version": "1.5.0",
            "_view_count": null,
            "_view_module_version": "1.2.0",
            "bar_color": null,
            "_model_module": "@jupyter-widgets/controls"
          }
        },
        "c50234ff129e48d18ba56f6f16195df0": {
          "model_module": "@jupyter-widgets/base",
          "model_name": "LayoutModel",
          "state": {
            "_view_name": "LayoutView",
            "grid_template_rows": null,
            "right": null,
            "justify_content": null,
            "_view_module": "@jupyter-widgets/base",
            "overflow": null,
            "_model_module_version": "1.2.0",
            "_view_count": null,
            "flex_flow": null,
            "width": null,
            "min_width": null,
            "border": null,
            "align_items": null,
            "bottom": null,
            "_model_module": "@jupyter-widgets/base",
            "top": null,
            "grid_column": null,
            "overflow_y": null,
            "overflow_x": null,
            "grid_auto_flow": null,
            "grid_area": null,
            "grid_template_columns": null,
            "flex": null,
            "_model_name": "LayoutModel",
            "justify_items": null,
            "grid_row": null,
            "max_height": null,
            "align_content": null,
            "visibility": null,
            "align_self": null,
            "height": null,
            "min_height": null,
            "padding": null,
            "grid_auto_rows": null,
            "grid_gap": null,
            "max_width": null,
            "order": null,
            "_view_module_version": "1.2.0",
            "grid_template_areas": null,
            "object_position": null,
            "object_fit": null,
            "grid_auto_columns": null,
            "margin": null,
            "display": null,
            "left": null
          }
        },
        "85e2a008197641c78f3d6682a53dc54f": {
          "model_module": "@jupyter-widgets/controls",
          "model_name": "DescriptionStyleModel",
          "state": {
            "_view_name": "StyleView",
            "_model_name": "DescriptionStyleModel",
            "description_width": "",
            "_view_module": "@jupyter-widgets/base",
            "_model_module_version": "1.5.0",
            "_view_count": null,
            "_view_module_version": "1.2.0",
            "_model_module": "@jupyter-widgets/controls"
          }
        },
        "5a93522345864a72bab701dd40e3f50d": {
          "model_module": "@jupyter-widgets/base",
          "model_name": "LayoutModel",
          "state": {
            "_view_name": "LayoutView",
            "grid_template_rows": null,
            "right": null,
            "justify_content": null,
            "_view_module": "@jupyter-widgets/base",
            "overflow": null,
            "_model_module_version": "1.2.0",
            "_view_count": null,
            "flex_flow": null,
            "width": null,
            "min_width": null,
            "border": null,
            "align_items": null,
            "bottom": null,
            "_model_module": "@jupyter-widgets/base",
            "top": null,
            "grid_column": null,
            "overflow_y": null,
            "overflow_x": null,
            "grid_auto_flow": null,
            "grid_area": null,
            "grid_template_columns": null,
            "flex": null,
            "_model_name": "LayoutModel",
            "justify_items": null,
            "grid_row": null,
            "max_height": null,
            "align_content": null,
            "visibility": null,
            "align_self": null,
            "height": null,
            "min_height": null,
            "padding": null,
            "grid_auto_rows": null,
            "grid_gap": null,
            "max_width": null,
            "order": null,
            "_view_module_version": "1.2.0",
            "grid_template_areas": null,
            "object_position": null,
            "object_fit": null,
            "grid_auto_columns": null,
            "margin": null,
            "display": null,
            "left": null
          }
        },
        "62c293dba8b04ffc970852433b884ecf": {
          "model_module": "@jupyter-widgets/controls",
          "model_name": "HBoxModel",
          "state": {
            "_view_name": "HBoxView",
            "_dom_classes": [],
            "_model_name": "HBoxModel",
            "_view_module": "@jupyter-widgets/controls",
            "_model_module_version": "1.5.0",
            "_view_count": null,
            "_view_module_version": "1.5.0",
            "box_style": "",
            "layout": "IPY_MODEL_5e16d354217c48338c0cc0fd5ecaf4f0",
            "_model_module": "@jupyter-widgets/controls",
            "children": [
              "IPY_MODEL_9f0ca1342e5843d8b49f61eaf7a7ffed",
              "IPY_MODEL_94df16279d0f41ac86c5839cce94f990"
            ]
          }
        },
        "5e16d354217c48338c0cc0fd5ecaf4f0": {
          "model_module": "@jupyter-widgets/base",
          "model_name": "LayoutModel",
          "state": {
            "_view_name": "LayoutView",
            "grid_template_rows": null,
            "right": null,
            "justify_content": null,
            "_view_module": "@jupyter-widgets/base",
            "overflow": null,
            "_model_module_version": "1.2.0",
            "_view_count": null,
            "flex_flow": null,
            "width": null,
            "min_width": null,
            "border": null,
            "align_items": null,
            "bottom": null,
            "_model_module": "@jupyter-widgets/base",
            "top": null,
            "grid_column": null,
            "overflow_y": null,
            "overflow_x": null,
            "grid_auto_flow": null,
            "grid_area": null,
            "grid_template_columns": null,
            "flex": null,
            "_model_name": "LayoutModel",
            "justify_items": null,
            "grid_row": null,
            "max_height": null,
            "align_content": null,
            "visibility": null,
            "align_self": null,
            "height": null,
            "min_height": null,
            "padding": null,
            "grid_auto_rows": null,
            "grid_gap": null,
            "max_width": null,
            "order": null,
            "_view_module_version": "1.2.0",
            "grid_template_areas": null,
            "object_position": null,
            "object_fit": null,
            "grid_auto_columns": null,
            "margin": null,
            "display": null,
            "left": null
          }
        },
        "9f0ca1342e5843d8b49f61eaf7a7ffed": {
          "model_module": "@jupyter-widgets/controls",
          "model_name": "FloatProgressModel",
          "state": {
            "_view_name": "ProgressView",
            "style": "IPY_MODEL_2407d7af12954e389a41817fbf85db03",
            "_dom_classes": [],
            "description": "",
            "_model_name": "FloatProgressModel",
            "bar_style": "success",
            "max": 1,
            "_view_module": "@jupyter-widgets/controls",
            "_model_module_version": "1.5.0",
            "value": 1,
            "_view_count": null,
            "_view_module_version": "1.5.0",
            "orientation": "horizontal",
            "min": 0,
            "description_tooltip": null,
            "_model_module": "@jupyter-widgets/controls",
            "layout": "IPY_MODEL_95a9577547bc4c358167dc4aa3277abe"
          }
        },
        "94df16279d0f41ac86c5839cce94f990": {
          "model_module": "@jupyter-widgets/controls",
          "model_name": "HTMLModel",
          "state": {
            "_view_name": "HTMLView",
            "style": "IPY_MODEL_e8cd12b47d4e4d4189c6536d56c3522c",
            "_dom_classes": [],
            "description": "",
            "_model_name": "HTMLModel",
            "placeholder": "​",
            "_view_module": "@jupyter-widgets/controls",
            "_model_module_version": "1.5.0",
            "value": " 57/? [01:47&lt;00:00,  1.88s/it]",
            "_view_count": null,
            "_view_module_version": "1.5.0",
            "description_tooltip": null,
            "_model_module": "@jupyter-widgets/controls",
            "layout": "IPY_MODEL_26b7b18e1bf048a6a02ec40c2daae0f9"
          }
        },
        "2407d7af12954e389a41817fbf85db03": {
          "model_module": "@jupyter-widgets/controls",
          "model_name": "ProgressStyleModel",
          "state": {
            "_view_name": "StyleView",
            "_model_name": "ProgressStyleModel",
            "description_width": "initial",
            "_view_module": "@jupyter-widgets/base",
            "_model_module_version": "1.5.0",
            "_view_count": null,
            "_view_module_version": "1.2.0",
            "bar_color": null,
            "_model_module": "@jupyter-widgets/controls"
          }
        },
        "95a9577547bc4c358167dc4aa3277abe": {
          "model_module": "@jupyter-widgets/base",
          "model_name": "LayoutModel",
          "state": {
            "_view_name": "LayoutView",
            "grid_template_rows": null,
            "right": null,
            "justify_content": null,
            "_view_module": "@jupyter-widgets/base",
            "overflow": null,
            "_model_module_version": "1.2.0",
            "_view_count": null,
            "flex_flow": null,
            "width": null,
            "min_width": null,
            "border": null,
            "align_items": null,
            "bottom": null,
            "_model_module": "@jupyter-widgets/base",
            "top": null,
            "grid_column": null,
            "overflow_y": null,
            "overflow_x": null,
            "grid_auto_flow": null,
            "grid_area": null,
            "grid_template_columns": null,
            "flex": null,
            "_model_name": "LayoutModel",
            "justify_items": null,
            "grid_row": null,
            "max_height": null,
            "align_content": null,
            "visibility": null,
            "align_self": null,
            "height": null,
            "min_height": null,
            "padding": null,
            "grid_auto_rows": null,
            "grid_gap": null,
            "max_width": null,
            "order": null,
            "_view_module_version": "1.2.0",
            "grid_template_areas": null,
            "object_position": null,
            "object_fit": null,
            "grid_auto_columns": null,
            "margin": null,
            "display": null,
            "left": null
          }
        },
        "e8cd12b47d4e4d4189c6536d56c3522c": {
          "model_module": "@jupyter-widgets/controls",
          "model_name": "DescriptionStyleModel",
          "state": {
            "_view_name": "StyleView",
            "_model_name": "DescriptionStyleModel",
            "description_width": "",
            "_view_module": "@jupyter-widgets/base",
            "_model_module_version": "1.5.0",
            "_view_count": null,
            "_view_module_version": "1.2.0",
            "_model_module": "@jupyter-widgets/controls"
          }
        },
        "26b7b18e1bf048a6a02ec40c2daae0f9": {
          "model_module": "@jupyter-widgets/base",
          "model_name": "LayoutModel",
          "state": {
            "_view_name": "LayoutView",
            "grid_template_rows": null,
            "right": null,
            "justify_content": null,
            "_view_module": "@jupyter-widgets/base",
            "overflow": null,
            "_model_module_version": "1.2.0",
            "_view_count": null,
            "flex_flow": null,
            "width": null,
            "min_width": null,
            "border": null,
            "align_items": null,
            "bottom": null,
            "_model_module": "@jupyter-widgets/base",
            "top": null,
            "grid_column": null,
            "overflow_y": null,
            "overflow_x": null,
            "grid_auto_flow": null,
            "grid_area": null,
            "grid_template_columns": null,
            "flex": null,
            "_model_name": "LayoutModel",
            "justify_items": null,
            "grid_row": null,
            "max_height": null,
            "align_content": null,
            "visibility": null,
            "align_self": null,
            "height": null,
            "min_height": null,
            "padding": null,
            "grid_auto_rows": null,
            "grid_gap": null,
            "max_width": null,
            "order": null,
            "_view_module_version": "1.2.0",
            "grid_template_areas": null,
            "object_position": null,
            "object_fit": null,
            "grid_auto_columns": null,
            "margin": null,
            "display": null,
            "left": null
          }
        },
        "043652364835459eb65d78751336146c": {
          "model_module": "@jupyter-widgets/controls",
          "model_name": "HBoxModel",
          "state": {
            "_view_name": "HBoxView",
            "_dom_classes": [],
            "_model_name": "HBoxModel",
            "_view_module": "@jupyter-widgets/controls",
            "_model_module_version": "1.5.0",
            "_view_count": null,
            "_view_module_version": "1.5.0",
            "box_style": "",
            "layout": "IPY_MODEL_2cbc308aa8254f968e2876167a6af218",
            "_model_module": "@jupyter-widgets/controls",
            "children": [
              "IPY_MODEL_00020e947d4d42c9af0692eba2a4580e",
              "IPY_MODEL_9a774019d10d4a8cb1b9e31224006c46"
            ]
          }
        },
        "2cbc308aa8254f968e2876167a6af218": {
          "model_module": "@jupyter-widgets/base",
          "model_name": "LayoutModel",
          "state": {
            "_view_name": "LayoutView",
            "grid_template_rows": null,
            "right": null,
            "justify_content": null,
            "_view_module": "@jupyter-widgets/base",
            "overflow": null,
            "_model_module_version": "1.2.0",
            "_view_count": null,
            "flex_flow": null,
            "width": null,
            "min_width": null,
            "border": null,
            "align_items": null,
            "bottom": null,
            "_model_module": "@jupyter-widgets/base",
            "top": null,
            "grid_column": null,
            "overflow_y": null,
            "overflow_x": null,
            "grid_auto_flow": null,
            "grid_area": null,
            "grid_template_columns": null,
            "flex": null,
            "_model_name": "LayoutModel",
            "justify_items": null,
            "grid_row": null,
            "max_height": null,
            "align_content": null,
            "visibility": null,
            "align_self": null,
            "height": null,
            "min_height": null,
            "padding": null,
            "grid_auto_rows": null,
            "grid_gap": null,
            "max_width": null,
            "order": null,
            "_view_module_version": "1.2.0",
            "grid_template_areas": null,
            "object_position": null,
            "object_fit": null,
            "grid_auto_columns": null,
            "margin": null,
            "display": null,
            "left": null
          }
        },
        "00020e947d4d42c9af0692eba2a4580e": {
          "model_module": "@jupyter-widgets/controls",
          "model_name": "FloatProgressModel",
          "state": {
            "_view_name": "ProgressView",
            "style": "IPY_MODEL_ffe24499bd2742bf8d72a7f644939e55",
            "_dom_classes": [],
            "description": "100%",
            "_model_name": "FloatProgressModel",
            "bar_style": "success",
            "max": 7,
            "_view_module": "@jupyter-widgets/controls",
            "_model_module_version": "1.5.0",
            "value": 7,
            "_view_count": null,
            "_view_module_version": "1.5.0",
            "orientation": "horizontal",
            "min": 0,
            "description_tooltip": null,
            "_model_module": "@jupyter-widgets/controls",
            "layout": "IPY_MODEL_801683ee6e7e43118c45fa8ccdd6fb4b"
          }
        },
        "9a774019d10d4a8cb1b9e31224006c46": {
          "model_module": "@jupyter-widgets/controls",
          "model_name": "HTMLModel",
          "state": {
            "_view_name": "HTMLView",
            "style": "IPY_MODEL_5d2d3f42750c477180657b8880ed0285",
            "_dom_classes": [],
            "description": "",
            "_model_name": "HTMLModel",
            "placeholder": "​",
            "_view_module": "@jupyter-widgets/controls",
            "_model_module_version": "1.5.0",
            "value": " 7/7 [00:19&lt;00:00,  2.74s/it]",
            "_view_count": null,
            "_view_module_version": "1.5.0",
            "description_tooltip": null,
            "_model_module": "@jupyter-widgets/controls",
            "layout": "IPY_MODEL_47bf7b72a1a142d7ba3fef624a283913"
          }
        },
        "ffe24499bd2742bf8d72a7f644939e55": {
          "model_module": "@jupyter-widgets/controls",
          "model_name": "ProgressStyleModel",
          "state": {
            "_view_name": "StyleView",
            "_model_name": "ProgressStyleModel",
            "description_width": "initial",
            "_view_module": "@jupyter-widgets/base",
            "_model_module_version": "1.5.0",
            "_view_count": null,
            "_view_module_version": "1.2.0",
            "bar_color": null,
            "_model_module": "@jupyter-widgets/controls"
          }
        },
        "801683ee6e7e43118c45fa8ccdd6fb4b": {
          "model_module": "@jupyter-widgets/base",
          "model_name": "LayoutModel",
          "state": {
            "_view_name": "LayoutView",
            "grid_template_rows": null,
            "right": null,
            "justify_content": null,
            "_view_module": "@jupyter-widgets/base",
            "overflow": null,
            "_model_module_version": "1.2.0",
            "_view_count": null,
            "flex_flow": null,
            "width": null,
            "min_width": null,
            "border": null,
            "align_items": null,
            "bottom": null,
            "_model_module": "@jupyter-widgets/base",
            "top": null,
            "grid_column": null,
            "overflow_y": null,
            "overflow_x": null,
            "grid_auto_flow": null,
            "grid_area": null,
            "grid_template_columns": null,
            "flex": null,
            "_model_name": "LayoutModel",
            "justify_items": null,
            "grid_row": null,
            "max_height": null,
            "align_content": null,
            "visibility": null,
            "align_self": null,
            "height": null,
            "min_height": null,
            "padding": null,
            "grid_auto_rows": null,
            "grid_gap": null,
            "max_width": null,
            "order": null,
            "_view_module_version": "1.2.0",
            "grid_template_areas": null,
            "object_position": null,
            "object_fit": null,
            "grid_auto_columns": null,
            "margin": null,
            "display": null,
            "left": null
          }
        },
        "5d2d3f42750c477180657b8880ed0285": {
          "model_module": "@jupyter-widgets/controls",
          "model_name": "DescriptionStyleModel",
          "state": {
            "_view_name": "StyleView",
            "_model_name": "DescriptionStyleModel",
            "description_width": "",
            "_view_module": "@jupyter-widgets/base",
            "_model_module_version": "1.5.0",
            "_view_count": null,
            "_view_module_version": "1.2.0",
            "_model_module": "@jupyter-widgets/controls"
          }
        },
        "47bf7b72a1a142d7ba3fef624a283913": {
          "model_module": "@jupyter-widgets/base",
          "model_name": "LayoutModel",
          "state": {
            "_view_name": "LayoutView",
            "grid_template_rows": null,
            "right": null,
            "justify_content": null,
            "_view_module": "@jupyter-widgets/base",
            "overflow": null,
            "_model_module_version": "1.2.0",
            "_view_count": null,
            "flex_flow": null,
            "width": null,
            "min_width": null,
            "border": null,
            "align_items": null,
            "bottom": null,
            "_model_module": "@jupyter-widgets/base",
            "top": null,
            "grid_column": null,
            "overflow_y": null,
            "overflow_x": null,
            "grid_auto_flow": null,
            "grid_area": null,
            "grid_template_columns": null,
            "flex": null,
            "_model_name": "LayoutModel",
            "justify_items": null,
            "grid_row": null,
            "max_height": null,
            "align_content": null,
            "visibility": null,
            "align_self": null,
            "height": null,
            "min_height": null,
            "padding": null,
            "grid_auto_rows": null,
            "grid_gap": null,
            "max_width": null,
            "order": null,
            "_view_module_version": "1.2.0",
            "grid_template_areas": null,
            "object_position": null,
            "object_fit": null,
            "grid_auto_columns": null,
            "margin": null,
            "display": null,
            "left": null
          }
        }
      }
    }
  },
  "cells": [
    {
      "cell_type": "code",
      "metadata": {
        "colab": {
          "base_uri": "https://localhost:8080/"
        },
        "id": "0YAax2uxCNmH",
        "outputId": "1cf4e456-8202-476a-ca68-22718dad91fd"
      },
      "source": [
        "from google.colab import drive\n",
        "drive.mount('/content/drive')"
      ],
      "execution_count": null,
      "outputs": [
        {
          "output_type": "stream",
          "text": [
            "Mounted at /content/drive\n"
          ],
          "name": "stdout"
        }
      ]
    },
    {
      "cell_type": "code",
      "metadata": {
        "id": "ZyJ8kaNzCBs2"
      },
      "source": [
        "!pip3 install transformers\n",
        "!pip3 install fairseq\n",
        "!pip3 install fastbpe"
      ],
      "execution_count": null,
      "outputs": []
    },
    {
      "cell_type": "code",
      "metadata": {
        "id": "y3v0nhplD3v4"
      },
      "source": [
        "!pip install pytorch-pretrained-bert pytorch-nlp"
      ],
      "execution_count": null,
      "outputs": []
    },
    {
      "cell_type": "code",
      "metadata": {
        "id": "-5l3tDnPCdAE",
        "colab": {
          "base_uri": "https://localhost:8080/"
        },
        "outputId": "7c7a5006-32f6-49cf-b4f1-207706d484ed"
      },
      "source": [
        "!ln -s \"/content/drive/MyDrive/VNPT/ChatbotATTT/PhoBERT_base_transformers.tar.gz\" \"/content/\""
      ],
      "execution_count": null,
      "outputs": [
        {
          "output_type": "stream",
          "text": [
            "ln: failed to create symbolic link '/content/PhoBERT_base_transformers.tar.gz': File exists\n"
          ],
          "name": "stdout"
        }
      ]
    },
    {
      "cell_type": "code",
      "metadata": {
        "colab": {
          "base_uri": "https://localhost:8080/"
        },
        "id": "XzQ6J7a6D480",
        "outputId": "ae5a8639-fac7-4e61-b2f8-ada39cb3e059"
      },
      "source": [
        "# !wget https://public.vinai.io/PhoBERT_base_transformers.tar.gz\n",
        "!tar -xzvf PhoBERT_base_transformers.tar.gz"
      ],
      "execution_count": null,
      "outputs": [
        {
          "output_type": "stream",
          "text": [
            "PhoBERT_base_transformers/\n",
            "PhoBERT_base_transformers/config.json\n",
            "PhoBERT_base_transformers/bpe.codes\n",
            "PhoBERT_base_transformers/model.bin\n",
            "PhoBERT_base_transformers/dict.txt\n"
          ],
          "name": "stdout"
        }
      ]
    },
    {
      "cell_type": "code",
      "metadata": {
        "colab": {
          "base_uri": "https://localhost:8080/"
        },
        "id": "-2jX-Xt7EXNT",
        "outputId": "cbc7bb1a-fbe2-45f9-ff08-0121514e5d62"
      },
      "source": [
        "!ls PhoBERT_base_transformers"
      ],
      "execution_count": null,
      "outputs": [
        {
          "output_type": "stream",
          "text": [
            "bpe.codes  config.json\tdict.txt  model.bin\n"
          ],
          "name": "stdout"
        }
      ]
    },
    {
      "cell_type": "code",
      "metadata": {
        "colab": {
          "base_uri": "https://localhost:8080/"
        },
        "id": "5NcRnFJeBU3P",
        "outputId": "f77a2d56-c13e-407f-b29e-a060c447aa34"
      },
      "source": [
        "import torch\n",
        "import argparse\n",
        "\n",
        "from transformers import RobertaConfig\n",
        "from transformers import RobertaModel\n",
        "\n",
        "from fairseq.data.encoders.fastbpe import fastBPE\n",
        "from fairseq.data import Dictionary\n",
        "\n",
        "# Load model\n",
        "config = RobertaConfig.from_pretrained(\n",
        "    \"PhoBERT_base_transformers/config.json\"\n",
        ")\n",
        "phobert = RobertaModel.from_pretrained(\n",
        "    \"PhoBERT_base_transformers/model.bin\",\n",
        "    config=config\n",
        ")\n",
        "\n",
        "# Load BPE encoder \n",
        "parser = argparse.ArgumentParser()\n",
        "parser.add_argument('--bpe-codes', \n",
        "    default=\"PhoBERT_base_transformers/bpe.codes\",\n",
        "    required=False,\n",
        "    type=str\n",
        ")\n",
        "# args = parser.parse_args('--bpe-codes phobert/bpe.codes'.split())\n",
        "args = parser.parse_args('--bpe-codes PhoBERT_base_transformers/bpe.codes'.split())\n",
        "\n",
        "bpe = fastBPE(args)"
      ],
      "execution_count": null,
      "outputs": [
        {
          "output_type": "stream",
          "text": [
            "You are using a model of type bert to instantiate a model of type roberta. This is not supported for all configurations of models and can yield errors.\n",
            "Some weights of the model checkpoint at PhoBERT_base_transformers/model.bin were not used when initializing RobertaModel: ['lm_head.layer_norm.bias', 'lm_head.dense.bias', 'lm_head.dense.weight', 'lm_head.decoder.bias', 'lm_head.decoder.weight', 'lm_head.layer_norm.weight', 'lm_head.bias']\n",
            "- This IS expected if you are initializing RobertaModel from the checkpoint of a model trained on another task or with another architecture (e.g. initializing a BertForSequenceClassification model from a BertForPreTraining model).\n",
            "- This IS NOT expected if you are initializing RobertaModel from the checkpoint of a model that you expect to be exactly identical (initializing a BertForSequenceClassification model from a BertForSequenceClassification model).\n"
          ],
          "name": "stderr"
        }
      ]
    },
    {
      "cell_type": "code",
      "metadata": {
        "colab": {
          "base_uri": "https://localhost:8080/"
        },
        "id": "UV-SHk0tBU3S",
        "outputId": "d7a4346b-16ae-4487-deb6-ced18c1b24be"
      },
      "source": [
        "# Load the dictionary  \n",
        "vocab = Dictionary()\n",
        "vocab.add_from_file(\"PhoBERT_base_transformers/dict.txt\")\n",
        "\n",
        "# INPUT TEXT IS WORD-SEGMENTED!\n",
        "line = \"Tôi là sinh_viên trường đại_học Công_nghệ .\"  \n",
        "\n",
        "# Encode the line using fastBPE & Add prefix <s> and suffix </s> \n",
        "subwords = '<s> ' + bpe.encode(line) + ' </s>'\n",
        "\n",
        "# Map subword tokens to corresponding indices in the dictionary\n",
        "input_ids = vocab.encode_line(subwords, append_eos=False, add_if_not_exist=False).long().tolist()\n",
        "\n",
        "# Convert into torch tensor\n",
        "all_input_ids = torch.tensor([input_ids], dtype=torch.long)\n",
        "\n",
        "# Extract features  \n",
        "with torch.no_grad():  \n",
        "    features = phobert(all_input_ids)  \n",
        "  \n",
        "# Represent each word by the contextualized embedding of its first subword token  \n",
        "# i. Get indices of the first subword tokens of words in the input sentence \n",
        "listSWs = subwords.split()  \n",
        "firstSWindices = []  \n",
        "for ind in range(1, len(listSWs) - 1):  \n",
        "    if not listSWs[ind - 1].endswith(\"@@\"):  \n",
        "        firstSWindices.append(ind)  \n",
        "\n",
        "# ii. Extract the corresponding contextualized embeddings  \n",
        "words = line.split()  \n",
        "assert len(firstSWindices) == len(words)  \n",
        "vectorSize = features[0][0, 0, :].size()[0]  \n",
        "for word, index in zip(words, firstSWindices):  \n",
        "    print(word + \" --> \" + \" \".join([str(features[0][0, index, :][_ind].item()) for _ind in range(vectorSize)]))\n",
        "    # print(word + \" --> \" + listSWs[index] + \" --> \" + \" \".join([str(features[0][0, index, :][_ind].item()) for _ind in range(vectorSize)]))"
      ],
      "execution_count": null,
      "outputs": [
        {
          "output_type": "stream",
          "text": [
            "Tôi --> -0.030567409470677376 0.87613445520401 -0.4924100339412689 -0.9476602673530579 0.02015243098139763 0.5592480301856995 0.2763005197048187 0.01437461469322443 0.09938712418079376 -0.08303448557853699 -0.44714874029159546 0.27915751934051514 -0.10159946978092194 -0.25028982758522034 0.17597085237503052 -0.08196261525154114 0.03303902596235275 0.3587888479232788 0.029551437124609947 0.19151173532009125 -0.14574287831783295 -0.2245657593011856 0.08834182471036911 -0.07890170067548752 -0.305070161819458 -0.2082889974117279 0.4843690097332001 -0.04391155019402504 -0.22101444005966187 -0.18358932435512543 0.1879049390554428 -0.032220639288425446 0.3729306757450104 -0.2990648150444031 0.2838117182254791 0.4236410856246948 -0.30126112699508667 -0.4472338557243347 0.5702935457229614 -0.10562129318714142 0.5556037425994873 0.7379555702209473 0.5314483642578125 -0.09778386354446411 -0.23535698652267456 0.538425862789154 0.343632310628891 0.2269972413778305 0.02095741219818592 0.12358848750591278 -0.41271379590034485 0.5600104928016663 -0.2621844410896301 -0.095065638422966 0.3198244273662567 -0.2176729291677475 -0.16212373971939087 0.1844598352909088 0.3260520398616791 0.0070401751436293125 -0.0425880029797554 0.46717971563339233 0.3605402410030365 0.31376633048057556 0.18652695417404175 -0.49506255984306335 -0.35432279109954834 0.3259381651878357 0.3356727361679077 0.47258460521698 0.38985952734947205 0.948632538318634 -0.42845985293388367 0.43525373935699463 -0.15656094253063202 -0.5266134738922119 -0.0651400163769722 0.35619056224823 0.22395873069763184 0.19004657864570618 -0.7669481635093689 0.010752099566161633 0.1589077264070511 -0.14485445618629456 -0.32295382022857666 0.3466546833515167 -0.1108984723687172 -0.535283625125885 0.14196732640266418 -0.08294565975666046 0.2682577967643738 0.41894713044166565 -0.2573811113834381 0.7008212208747864 -0.24120037257671356 0.21123331785202026 0.607397198677063 -0.22653569281101227 0.9341748952865601 0.7487274408340454 -0.31818756461143494 0.07014501839876175 0.06593897193670273 -0.0809030756354332 0.02842526324093342 -0.9037443995475769 -0.05993000790476799 0.23826159536838531 0.6682400107383728 0.13875821232795715 0.11318906396627426 0.3389591872692108 -0.049673061817884445 0.5851361751556396 -0.034324388951063156 -0.5255714058876038 -0.3738337755203247 -0.036997754126787186 0.8139280676841736 -0.15222357213497162 0.010075995698571205 0.4985150098800659 0.5803657174110413 0.19592222571372986 0.33654433488845825 -0.39218389987945557 -0.022728323936462402 -0.1666972041130066 -0.03325820341706276 0.2078358680009842 0.048292215913534164 -0.5421392321586609 -0.1690695434808731 -0.3211454749107361 0.09110061824321747 0.2071816772222519 -0.020447736606001854 0.13378113508224487 -0.2364075779914856 -0.30522385239601135 -0.0009280903032049537 -0.3847848176956177 -0.06991661339998245 0.439678430557251 -0.050484925508499146 -0.2011551558971405 0.663189709186554 -0.22549843788146973 -0.34177106618881226 1.0186024904251099 -0.27292919158935547 0.4545775353908539 -0.8197119235992432 -0.2891010344028473 0.41264668107032776 0.4669388234615326 -0.1765693575143814 0.04989583045244217 0.05861806496977806 -0.29291728138923645 0.1476290225982666 -0.018694031983613968 -0.10551051795482635 0.10612162202596664 -0.03566262498497963 0.2459949404001236 -0.408125102519989 0.2207110971212387 -0.15428858995437622 0.37078428268432617 -0.4999432861804962 -0.03227530047297478 0.1280178725719452 -0.05395768955349922 0.3133375942707062 -0.20011475682258606 0.7850446701049805 0.393981397151947 0.29520469903945923 -0.23121970891952515 -0.06917204707860947 -0.10926277935504913 0.2673521041870117 -0.019451411440968513 0.42845994234085083 0.20407766103744507 -0.4212542474269867 -0.7768731117248535 0.019328827038407326 0.10246673226356506 0.6437168121337891 0.540578305721283 -0.6042276620864868 1.0266176462173462 0.2998548746109009 0.09636460244655609 -0.16916681826114655 0.26966193318367004 -0.6873467564582825 0.18595212697982788 -0.09152880311012268 -0.18284910917282104 0.13286611437797546 -0.6833969950675964 -0.8995200991630554 0.022759998217225075 0.23139260709285736 -0.0038738700095564127 0.5089020133018494 0.4874374568462372 0.18764008581638336 0.3591746687889099 0.23930659890174866 -0.6339912414550781 -1.0137733221054077 -0.4096902906894684 0.4729286730289459 -0.07552850991487503 -0.43060290813446045 -0.10424651205539703 -0.3445284366607666 0.3242549002170563 -0.6077090501785278 0.39498332142829895 0.09702681005001068 0.7725260257720947 0.4027644097805023 -0.5068529844284058 -0.02846495434641838 0.38544243574142456 -0.1045430600643158 0.2850116491317749 -0.2941324710845947 0.4977116882801056 0.35371503233909607 0.03914507105946541 0.21024730801582336 0.04260847344994545 -0.45480266213417053 0.13588035106658936 0.2491205483675003 -0.22809474170207977 -0.5268281102180481 0.012729352340102196 -0.013915047980844975 0.24474075436592102 -0.34193918108940125 0.23008765280246735 -0.8471142649650574 0.20148742198944092 -0.36742207407951355 -0.2519937753677368 0.07696542888879776 0.13491404056549072 -0.15539805591106415 0.2707073390483856 -0.18371500074863434 0.08130134642124176 -0.399442195892334 0.31391435861587524 0.37110191583633423 -0.19368495047092438 0.3163345754146576 -0.16961728036403656 -0.33208420872688293 0.3846544027328491 0.7220792174339294 -0.040720488876104355 0.29662689566612244 0.3532419204711914 -0.31945085525512695 0.6899575591087341 0.526954174041748 -0.13614843785762787 -0.17417220771312714 0.008355946280062199 0.35128188133239746 0.4756559729576111 0.36781907081604004 0.44923126697540283 0.45493221282958984 -0.26473385095596313 -0.22127974033355713 0.06738841533660889 0.27894338965415955 0.6714969277381897 0.5644599199295044 -0.5172268748283386 -0.41448721289634705 0.10299872606992722 -0.48981237411499023 0.03719448298215866 1.116041660308838 -0.16362658143043518 -0.027963271364569664 -0.4893732964992523 0.1521092653274536 -0.11990188807249069 0.21251240372657776 -0.21292677521705627 -0.054446250200271606 -0.28635868430137634 0.36836376786231995 -0.9548797011375427 -1.0399190187454224 0.18178600072860718 -0.3055034577846527 -0.43060651421546936 0.8540745377540588 -0.18136657774448395 -0.41860342025756836 -0.646723210811615 0.1091170683503151 0.2701679766178131 -0.3570631742477417 0.2655859589576721 -0.3616722822189331 -0.7837963700294495 -0.7104977965354919 -0.15818150341510773 0.45902836322784424 -0.3292525112628937 -0.08516865223646164 -0.29739144444465637 -0.14055058360099792 0.11331584304571152 -0.30070188641548157 0.5571627020835876 0.24541622400283813 0.5455725193023682 -0.15468478202819824 -0.016586918383836746 -0.11226466298103333 -0.10650791972875595 -0.01832389272749424 -0.208177387714386 0.18591544032096863 0.11819157004356384 -1.3565202951431274 -0.9142919778823853 -0.27872368693351746 0.10431092977523804 -0.7460907697677612 0.09202946722507477 0.9350609183311462 0.13902804255485535 -0.2371119111776352 -0.10276955366134644 -0.5634925365447998 -0.18898580968379974 0.01946837082505226 -0.24231848120689392 -0.17601563036441803 0.20162568986415863 -0.10466606169939041 -1.1182812452316284 -0.2876553535461426 0.30311617255210876 0.4101243019104004 -0.28784969449043274 0.08859983831644058 0.07213664054870605 -0.016553498804569244 -0.17224940657615662 0.4432334899902344 -0.0270828977227211 -0.6365494728088379 0.957630455493927 0.14849722385406494 -0.586199939250946 -0.20613674819469452 -0.08013654500246048 0.27834558486938477 0.533149778842926 -0.21434910595417023 -0.37228140234947205 -0.013369999825954437 -0.076433926820755 0.13454470038414001 -0.027565166354179382 -0.4090641438961029 -0.10466769337654114 -0.34816285967826843 0.012571857310831547 0.26420432329177856 0.5474926829338074 0.6659862995147705 0.5596795082092285 0.00942561961710453 0.2585136592388153 0.3309880197048187 0.4102015495300293 0.4343086779117584 -0.13532030582427979 0.14181627333164215 -0.049525752663612366 -0.45174455642700195 -0.025346998125314713 0.043971672654151917 0.2983948588371277 -0.03150740638375282 -0.5250804424285889 -0.4118693470954895 0.38132983446121216 -0.07050485163927078 -0.021174363791942596 0.6183410286903381 -0.3108150064945221 -0.3183380961418152 -0.34440165758132935 -0.3272565007209778 0.36016497015953064 0.2268192172050476 0.5488588213920593 0.13899636268615723 0.06608912348747253 -0.4025380611419678 -0.5908146500587463 0.2868218719959259 0.17260009050369263 0.09258613735437393 -0.6308485269546509 -0.3661547899246216 -0.4924832880496979 0.04663467779755592 -0.36105823516845703 -0.41315799951553345 -0.23194466531276703 0.15249815583229065 -0.0671996921300888 -0.47350171208381653 0.5522722601890564 0.37867414951324463 -0.18144769966602325 0.2247038185596466 0.5151349902153015 0.1649446040391922 -0.4042995572090149 0.1584835648536682 -0.2959590554237366 0.48428666591644287 0.6792169213294983 -0.6157708168029785 -0.4476616382598877 -0.056607604026794434 0.07036911696195602 0.9214069247245789 0.20715034008026123 -0.3100660443305969 0.5721058249473572 -0.7215012907981873 0.1644713431596756 0.055668581277132034 -0.6872677803039551 0.45100826025009155 0.16300836205482483 0.7224311232566833 0.31389421224594116 0.06600033491849899 0.020665043964982033 0.6508870720863342 0.6292588710784912 0.8814515471458435 0.07018056511878967 0.13989445567131042 0.18288904428482056 0.2944648861885071 -0.00021988613298162818 -0.14186877012252808 -0.42717528343200684 -0.025108547881245613 0.23109781742095947 0.30924785137176514 0.19204188883304596 0.2460019737482071 -0.01800704188644886 0.006805021315813065 -0.144347682595253 -0.1200939416885376 -0.24516041576862335 -0.13043618202209473 0.3538578450679779 0.17351087927818298 -0.5119312405586243 0.06642887741327286 0.16726425290107727 0.32132449746131897 -0.035354893654584885 -0.2966100871562958 -0.1874491274356842 0.002226258395239711 0.048811208456754684 0.37411385774612427 0.4958033561706543 -0.548507571220398 0.398651659488678 -0.06386490911245346 -0.0747467502951622 -0.04770304635167122 -0.2579074203968048 -0.025777895003557205 -0.25466617941856384 -0.5947693586349487 0.044616181403398514 0.24649247527122498 0.07778582721948624 1.0843853950500488 -0.13341061770915985 -0.14056891202926636 0.026406733319163322 -0.35135436058044434 -0.17809459567070007 0.3940594494342804 -0.1995600163936615 0.7890881896018982 -0.05286077782511711 -0.4234194755554199 0.016725651919841766 -0.020403336733579636 0.36764445900917053 -0.14613117277622223 0.4640451669692993 0.09612879902124405 -0.0010413974523544312 0.006929138209670782 0.0523792989552021 -0.5722074508666992 -0.11439507454633713 0.35545462369918823 -0.06879407912492752 -0.5066865086555481 0.38129329681396484 0.15780819952487946 0.05115803703665733 0.2655159533023834 0.30221056938171387 0.0761154517531395 -0.3322070837020874 0.1753857284784317 -0.22722677886486053 0.8010308146476746 0.3981281816959381 -0.23880773782730103 0.027701685205101967 -0.6691410541534424 -0.5447834134101868 -0.528755784034729 0.5502960681915283 -0.44979700446128845 -0.576566219329834 -0.3731178641319275 -0.15724197030067444 0.6300925612449646 0.46827200055122375 -0.47090354561805725 0.016550716012716293 -0.5261290073394775 0.5033048987388611 0.15362274646759033 -0.9227104187011719 -0.11070520430803299 -0.19156275689601898 0.5108799338340759 0.7692318558692932 -0.2630169689655304 0.1104653999209404 0.48255643248558044 0.07635806500911713 -0.35835137963294983 0.3153485953807831 -0.15833422541618347 0.10930202901363373 0.040994640439748764 -0.12334572523832321 -0.23903146386146545 0.186403289437294 -0.20696617662906647 0.7464665770530701 -0.46261894702911377 -0.6779361367225647 0.264224112033844 -0.23841693997383118 -0.13639719784259796 0.28434011340141296 0.5595088601112366 0.004181856755167246 -0.17396856844425201 0.39596855640411377 0.3412753939628601 -0.1402803659439087 2.274172782897949 0.1379527598619461 0.09992202371358871 0.07486996054649353 0.33001983165740967 -0.4246543347835541 0.09846280515193939 0.20122136175632477 0.8436619639396667 0.13197152316570282 0.010545378550887108 -0.05371103435754776 0.28262338042259216 -0.360731840133667 0.5307980179786682 -0.2761279344558716 0.23424799740314484 0.006356752477586269 0.1323847472667694 -0.2162773460149765 -0.3662160634994507 -0.386174738407135 0.056978579610586166 0.5228383541107178 0.06680244207382202 0.2848314642906189 0.32020193338394165 -0.37639790773391724 -0.3422669470310211 -0.2116784006357193 -0.36339104175567627 0.2606355845928192 -0.6676196455955505 0.047966599464416504 0.260432630777359 -0.5221739411354065 -0.9294039011001587 0.22512854635715485 0.31295332312583923 -0.0543040968477726 -0.08370097726583481 -0.06692014634609222 -0.3142684996128082 0.5877491235733032 0.27188563346862793 -1.1390039920806885 -0.17744873464107513 0.15485547482967377 0.18088462948799133 0.20259031653404236 0.0884975790977478 0.7287383079528809 0.36251208186149597 -0.11012345552444458 -0.04672540724277496 0.3535034656524658 0.29183313250541687 0.08638385683298111 0.34538182616233826 0.14674082398414612 0.07421490550041199 0.4025016129016876 -0.1979488879442215 -0.3320508301258087 -0.18493953347206116 0.08325009793043137 -0.2490779310464859 0.08174389600753784 0.8626308441162109 -0.02666596509516239 -0.3204859495162964 -0.2981186807155609 0.21336479485034943 0.2281838357448578 0.1897633671760559 -0.21160370111465454 -0.11082795262336731 0.3251325488090515 -0.06050111725926399 -0.3306257724761963 0.20265375077724457 0.2866232991218567 -0.17543534934520721 1.3771281242370605 0.7654323577880859 -0.4592360854148865 -0.4233299493789673 0.44705936312675476 0.16367657482624054 -0.007283524610102177 0.46558475494384766 -0.16466858983039856 0.6944599151611328 1.1062935590744019 0.6233653426170349 -0.17904293537139893 -0.2134125530719757 0.18569587171077728 0.8361933827400208 -0.4491743743419647 0.10838470607995987 -0.4178561270236969 0.4175207316875458 0.29496070742607117 -0.37487924098968506 -0.20002619922161102 0.05870642513036728 0.5449400544166565 -0.4790392518043518 0.014053999446332455 0.16533169150352478 0.293580025434494 0.7268931269645691 0.33624979853630066 -0.08165909349918365 -0.7720904350280762 -0.028096377849578857 0.09999676048755646 -0.08029045164585114 0.45088958740234375 0.6567581295967102 -0.1261189728975296 0.10234450548887253 0.2378273606300354 0.8525466322898865 0.23701731860637665 0.14079013466835022 0.2118990421295166 -0.04035656899213791 -0.16202470660209656 -0.20803630352020264 -0.5897080898284912 -0.05767979845404625 -0.22691276669502258 0.07121311873197556 -0.28874853253364563 0.624389111995697 -0.6937344074249268 0.45928794145584106 -0.02209421806037426 1.3285791873931885 0.4287570118904114 -0.02645597979426384 -0.5590649843215942 0.21463406085968018 0.12990601360797882 -0.5330633521080017 -0.18413521349430084 -0.08058875054121017 0.2994483411312103 0.7555572390556335 -0.2902590036392212 -0.28389114141464233 -0.14362645149230957 0.2992519438266754 -0.06645218282938004 0.27582135796546936 -0.4945577383041382 -0.15243574976921082 0.10523086786270142 -0.23082780838012695 0.8298815488815308 0.16117440164089203 0.07874983549118042 -0.3082740604877472 -0.16935424506664276 0.32071685791015625 -0.25387442111968994 -0.2682221233844757 0.19632646441459656 -0.10685717314481735 0.5172886252403259 -0.2698177099227905 -0.16115480661392212 0.324853777885437 -0.047661192715168 -0.5919032096862793 -0.41784045100212097\n",
            "là --> 0.2244817465543747 0.5282313823699951 -0.3842574656009674 -0.6709940433502197 0.5170542001724243 0.17830447852611542 0.627987265586853 -0.7533602118492126 0.023049181327223778 -0.0019707016181200743 -0.32155072689056396 -0.009131691418588161 -0.44920089840888977 -0.3450643718242645 0.4979604482650757 -0.22550944983959198 -0.18459247052669525 0.001154126599431038 0.2930610179901123 -0.17188312113285065 0.4301804006099701 -0.6579297184944153 -0.13751639425754547 0.01673116162419319 -0.25617778301239014 0.2588651478290558 0.6507087349891663 0.19840534031391144 0.29806438088417053 -0.287480890750885 -0.11876705288887024 -0.18844589591026306 0.6982495188713074 -0.2614845335483551 0.5195608735084534 0.23706181347370148 -0.6564141511917114 -0.6215404868125916 0.6678878664970398 0.4537733793258667 -0.0961565226316452 0.7630801796913147 -0.42761194705963135 -0.10838103294372559 -0.10471396148204803 0.4721390902996063 0.9203705787658691 0.03767191991209984 0.141903817653656 0.21050406992435455 -0.06813722848892212 0.6846609115600586 -0.43872809410095215 -0.18930652737617493 -0.27931323647499084 0.2996596693992615 -0.15951211750507355 0.2036544680595398 0.8083261847496033 -0.30804821848869324 0.02458033710718155 0.06671463698148727 -0.0735006108880043 0.2972239851951599 0.39150553941726685 -0.14019061625003815 -0.017444783821702003 -0.043976154178380966 0.3581112325191498 0.32313767075538635 0.05242850258946419 0.8422956466674805 -0.46395593881607056 0.47995516657829285 0.03609180822968483 0.15005411207675934 0.0686812549829483 0.5020513534545898 0.5222631692886353 0.13018275797367096 -0.6117561459541321 0.31232887506484985 -0.02989167720079422 0.31547120213508606 -0.4167746305465698 0.0711415708065033 -0.04367787018418312 -0.39927613735198975 0.01838034577667713 0.026175126433372498 0.6766819953918457 0.3303017318248749 0.09290377795696259 0.21019022166728973 -0.36252713203430176 -0.3493865430355072 0.39499542117118835 -0.5605059266090393 1.101974368095398 0.7428478598594666 -0.6596695184707642 0.20185807347297668 0.16054168343544006 -0.18600213527679443 -0.30073192715644836 -0.2729239761829376 -0.08265102654695511 0.41577959060668945 0.47018980979919434 -0.43842563033103943 0.13484936952590942 0.880652666091919 0.4577374756336212 0.30408525466918945 0.2392842024564743 -0.002436594106256962 -0.23016728460788727 0.10486295819282532 0.666231632232666 0.25558575987815857 0.35690033435821533 0.34831106662750244 0.37349820137023926 0.22434605658054352 0.3392011523246765 -0.1949026882648468 0.03371228650212288 0.38502371311187744 -0.09410616010427475 0.26388245820999146 0.14501868188381195 -0.532277524471283 0.14351564645767212 0.7962298393249512 -0.2312469780445099 -0.2627709209918976 0.5811670422554016 0.5533997416496277 -0.5169143676757812 -0.3231280446052551 -0.1612117737531662 -0.19261963665485382 -0.19714298844337463 0.5432778596878052 -0.14729875326156616 -0.48991745710372925 0.6272572875022888 -0.13565272092819214 -0.5730970501899719 0.8252511620521545 -0.10010380297899246 0.30038806796073914 -0.5986418724060059 0.09610041230916977 -0.03479710966348648 0.3884691596031189 -0.08282510936260223 0.37819617986679077 0.5131091475486755 -0.2839004695415497 -0.03796418011188507 -0.22203560173511505 0.2130545675754547 0.004068266600370407 -0.25468334555625916 0.008890971541404724 -0.5035193562507629 0.12956713140010834 -0.30229467153549194 0.32733818888664246 -0.6911608576774597 -0.046326786279678345 -0.1201348826289177 0.30921974778175354 0.14874407649040222 -0.1494694948196411 0.15705327689647675 0.16913482546806335 0.3022630512714386 -0.4141322076320648 -0.16124944388866425 -0.2869408428668976 0.10101985931396484 0.11187427490949631 0.3369843661785126 0.12481902539730072 0.09626644104719162 -0.9832757711410522 -0.6474096775054932 -0.5507564544677734 0.5351642966270447 0.21608036756515503 -0.1812654733657837 0.6493441462516785 0.22234074771404266 -0.2837267816066742 -0.3865033984184265 0.14325037598609924 -0.045448530465364456 0.20950745046138763 -0.21090354025363922 -0.46424782276153564 0.3141078054904938 -0.6633639931678772 -0.5955976843833923 -0.23108382523059845 0.3587722182273865 0.26596733927726746 0.41061505675315857 0.6641654968261719 -0.045237425714731216 0.1834246963262558 0.016759218648076057 -0.04880902171134949 -0.19946935772895813 0.040432460606098175 -0.10119703412055969 -0.18022626638412476 -0.2778957188129425 0.17251037061214447 0.267505407333374 0.13710962235927582 -1.0232690572738647 0.4268299639225006 -0.060216087847948074 0.8153860569000244 0.43793222308158875 -0.21717804670333862 -0.12727656960487366 0.010326785035431385 0.0420987643301487 -0.03226608410477638 -0.3391197621822357 0.21537338197231293 0.22251483798027039 -0.05888267606496811 0.3094937801361084 0.30848634243011475 -0.4066426753997803 0.5772643089294434 0.2016625553369522 -0.0632697269320488 -1.0027532577514648 0.14313197135925293 0.0075552091002464294 0.3945317566394806 -0.3271602988243103 0.0848451480269432 -0.8159562349319458 0.11956649273633957 -0.30276885628700256 0.03750770539045334 0.09300577640533447 -0.027516478672623634 -0.015294310636818409 0.5678904056549072 0.07585558295249939 -0.13408951461315155 -0.07606939226388931 0.14583845436573029 0.006021365523338318 -0.5503836870193481 0.029051346704363823 -0.6612796187400818 -0.4606272578239441 0.022921549156308174 0.42499807476997375 -0.08652213215827942 -0.5749932527542114 0.4630904495716095 -0.3269492983818054 0.5860071778297424 0.3061782419681549 0.2563588321208954 -0.398360013961792 0.5747522115707397 0.4927753508090973 0.6780461072921753 -0.26639336347579956 0.5062439441680908 0.6474679112434387 0.0336872898042202 -0.0026815361343324184 -0.2628559172153473 0.5257875323295593 0.7500871419906616 0.23487195372581482 -0.4156906306743622 -0.417206346988678 -0.1307106912136078 -0.689180850982666 -0.40909838676452637 0.5829749703407288 0.11679629236459732 -0.2301427721977234 -0.556846559047699 -0.2447987198829651 -0.2535656690597534 -0.26829832792282104 -0.5090283155441284 0.133087620139122 -0.35734522342681885 0.1894136220216751 -0.8372018337249756 -0.17286613583564758 -0.12494457513093948 -0.18260934948921204 -0.376212477684021 0.6410609483718872 0.1564939171075821 -0.2727809250354767 -0.4817710220813751 0.0990823432803154 0.15061210095882416 0.06959931552410126 0.5524365901947021 -0.5747061967849731 -0.7310028672218323 -0.9085184335708618 -0.3432314991950989 0.3382010757923126 -0.41549959778785706 -0.3884620666503906 -0.047336727380752563 0.04730207473039627 0.012651200406253338 -0.21353451907634735 0.10773106664419174 0.2946034073829651 0.30280622839927673 0.07911425828933716 0.3524057865142822 0.09756750613451004 -0.148180291056633 -0.1567854881286621 -0.9316681623458862 -0.18193906545639038 0.48803237080574036 -0.7788108587265015 -0.7550703883171082 -0.00809705164283514 0.363850474357605 -0.6115895509719849 0.25117912888526917 0.5853992700576782 -0.027635687962174416 -0.013353213667869568 -0.5961281061172485 -0.6762964129447937 -0.3434756100177765 -0.16624601185321808 -0.5062658190727234 -0.33235403895378113 0.28246453404426575 -0.1516643762588501 -0.7788183093070984 -0.3657122254371643 -0.07708483934402466 0.3793494999408722 -0.5208860635757446 0.2957986295223236 0.034483570605516434 0.11964050680398941 0.037872064858675 0.18198925256729126 0.24832145869731903 0.18019339442253113 1.0369378328323364 -0.3208997845649719 0.07268042117357254 0.11231327056884766 0.25163424015045166 0.11482998728752136 0.47610053420066833 -0.1763123869895935 -0.3034144937992096 0.3369982838630676 -0.5723285675048828 -0.24797844886779785 -0.03876863047480583 -0.4489712417125702 -0.24669064581394196 -0.31965771317481995 -0.20389236509799957 0.3591195344924927 0.2173822969198227 0.774438738822937 -0.02577722631394863 -0.17555159330368042 -0.266059011220932 0.19263258576393127 -0.11640407145023346 -0.34135422110557556 -0.415748655796051 -0.20821242034435272 -0.3882230222225189 -0.20352661609649658 -0.14962363243103027 -0.1416195034980774 0.13272622227668762 -0.33344751596450806 -0.35906529426574707 -0.5842356085777283 0.3311621844768524 0.06877397745847702 -0.39422255754470825 0.22300894558429718 -0.21095974743366241 -0.25119227170944214 -0.42693203687667847 0.09905735403299332 0.18068827688694 0.5122073888778687 0.24731972813606262 0.5334455370903015 0.013526871800422668 -0.6689672470092773 -0.5671309232711792 0.4069356620311737 0.10038411617279053 0.10761531442403793 -0.6310716271400452 -0.3200317919254303 -0.7827538847923279 0.19740097224712372 -0.0565691702067852 0.16810427606105804 -0.3247881233692169 -0.27248409390449524 0.0723937600851059 -0.30895185470581055 0.09396732598543167 0.5542826652526855 0.14664334058761597 0.2585735619068146 0.06346188485622406 0.18805035948753357 -0.19737908244132996 0.1658399999141693 -0.3032415509223938 1.1949082612991333 0.7061886787414551 -0.6009117364883423 -0.2035418450832367 0.5864468216896057 -0.34030377864837646 0.22364257276058197 0.7359575629234314 -0.11772677302360535 0.40429720282554626 -0.670825183391571 0.3653425872325897 -0.1813659816980362 -0.6401007175445557 0.30208227038383484 0.4054388403892517 0.14969903230667114 0.11083918809890747 0.07112018764019012 0.2606949508190155 0.4714195132255554 0.3390296995639801 0.4811426103115082 0.29940590262413025 -0.1325545459985733 0.30616554617881775 0.37536004185676575 0.05756630748510361 -0.12207058817148209 -0.4115263521671295 -0.19209447503089905 0.7191915512084961 0.45131009817123413 0.5759509801864624 -0.21353697776794434 -0.049732647836208344 -0.2030300498008728 0.26379773020744324 0.4947558045387268 -0.3950640857219696 -0.10397183895111084 0.3486504852771759 -0.12024051696062088 -0.23086559772491455 0.3515503704547882 -0.033636268228292465 0.4316234290599823 0.26998865604400635 -0.00673030037432909 -0.14009162783622742 -0.027233745902776718 0.2820231020450592 0.12825265526771545 0.29517510533332825 -0.4596487283706665 0.07794248312711716 -0.2542199194431305 -0.2097252756357193 0.09812893718481064 0.2045527994632721 0.04395228996872902 0.48951616883277893 -0.33862394094467163 -0.1098429411649704 0.1592826247215271 0.440207839012146 0.7546182870864868 0.2548433244228363 0.06052811071276665 0.22313135862350464 -0.4930531680583954 0.059666816145181656 0.6981756091117859 0.07096050679683685 0.4456486403942108 0.13438566029071808 0.011470949277281761 0.5368005037307739 -0.1046384945511818 0.38914743065834045 0.2177548110485077 0.19199123978614807 0.33287951350212097 0.2004527896642685 0.5628402233123779 0.19546686112880707 -0.351860910654068 0.041967909783124924 0.3983383774757385 -0.20503826439380646 -0.5360026955604553 0.44176873564720154 0.8325226902961731 0.03991998732089996 0.187100350856781 0.560330867767334 0.08433831483125687 -0.42607828974723816 -0.3623863756656647 0.05038740858435631 0.37211185693740845 0.3949577510356903 -0.11683833599090576 -0.33407118916511536 -0.4056541323661804 -0.07553951442241669 0.02297370135784149 0.7967474460601807 -0.13551658391952515 -0.10140025615692139 -0.38339701294898987 -0.17147713899612427 0.017487790435552597 0.632072925567627 0.05667167529463768 0.05542460083961487 -0.15385311841964722 0.5525039434432983 0.772750973701477 -1.1670438051223755 0.10965321958065033 -0.0008519971161149442 0.7686047554016113 0.3466022312641144 -0.17051802575588226 -0.02971380390226841 0.09755989164113998 0.12250073254108429 -0.5580803751945496 0.1037248745560646 0.26620936393737793 0.1813434213399887 -0.18387582898139954 -0.30727890133857727 -0.2026910036802292 0.3826528489589691 0.0289088636636734 0.7624306082725525 -0.511370062828064 -0.5944423079490662 0.09621452540159225 -0.6175121665000916 0.060755666345357895 0.16020320355892181 0.5107859969139099 -0.3142821490764618 -0.3875691294670105 0.46869516372680664 0.47248420119285583 -0.002768279518932104 1.6632119417190552 0.3046298027038574 0.2357206493616104 0.047966986894607544 0.09143081307411194 -0.6262468099594116 0.08335399627685547 0.09430355578660965 0.4321271777153015 0.17591632902622223 0.2358337938785553 0.10541611164808273 -0.3020547032356262 -0.3820727467536926 -0.20879678428173065 0.18018652498722076 0.33160534501075745 0.17235933244228363 -0.13703294098377228 -0.24899382889270782 -0.254862904548645 -0.28556907176971436 -0.2165883332490921 0.3582739531993866 0.5552070736885071 0.35566604137420654 0.2258049100637436 -0.36032235622406006 -0.19269929826259613 -0.10156185925006866 0.1007624939084053 0.44546154141426086 -0.3311136066913605 0.18036790192127228 0.06496388465166092 -0.4904862642288208 -0.6316196918487549 0.4790748357772827 0.36211633682250977 -0.0940064787864685 -0.15629810094833374 0.26503464579582214 -0.5935975313186646 0.3166266679763794 0.29320427775382996 -0.7105588316917419 -0.3095177710056305 0.18256497383117676 -0.27130886912345886 0.3423985540866852 -0.2912006080150604 0.49393656849861145 0.15488825738430023 -0.7567766308784485 -0.2402227818965912 -0.05803908407688141 0.11790905147790909 0.200340136885643 0.8111489415168762 0.1313488483428955 -0.04707120358943939 0.7035747766494751 0.39516374468803406 -0.3136039674282074 0.3282341957092285 0.023810118436813354 -0.2107527256011963 0.05998505651950836 0.22528456151485443 0.016203906387090683 -0.1674310564994812 -0.6353939771652222 0.43544021248817444 -0.09365800023078918 0.22432127594947815 -0.4251198172569275 -0.35194531083106995 0.489277184009552 0.05135522037744522 0.02081906422972679 -0.1387329399585724 0.30625754594802856 -0.21002823114395142 0.759932279586792 0.4674091041088104 -0.43034830689430237 -0.28319644927978516 -0.0037925573997199535 0.35649359226226807 -0.11756981909275055 0.11498475074768066 -0.2780883014202118 0.5421016216278076 0.622021496295929 0.4485800862312317 -0.11857961118221283 -0.3738985061645508 -0.0763620063662529 0.5483591556549072 -0.5842161774635315 0.3374647796154022 -0.5299375057220459 0.18427181243896484 -0.1641663759946823 0.01690935157239437 -0.3976076543331146 -0.27957475185394287 0.4143931567668915 -0.8355962634086609 0.4129428565502167 -0.0017025477718561888 -0.03883744403719902 0.5538702011108398 0.6356970071792603 0.3456971049308777 -1.5165263414382935 -0.035283077508211136 0.35951897501945496 -0.37766581773757935 0.36443451046943665 0.39335817098617554 -0.4780360758304596 -0.13668669760227203 0.9403958320617676 0.8781402111053467 0.2645058035850525 -0.4514426290988922 0.5604196786880493 -0.08184106647968292 -0.43789491057395935 -0.3700888752937317 -0.11316139996051788 0.2065465897321701 -0.07865899056196213 0.24972566962242126 -0.26777052879333496 0.29324010014533997 -0.3903611898422241 0.43888014554977417 0.23798975348472595 0.8317409157752991 0.47955843806266785 0.7643856406211853 0.05358294025063515 -0.01044702809303999 -0.08993836492300034 -0.3673955202102661 0.16956409811973572 -0.4046870172023773 0.27890506386756897 0.2935473918914795 -0.3874325752258301 -0.3563403785228729 -0.14062656462192535 0.4048810601234436 0.4247593283653259 0.3646188974380493 -0.740501880645752 0.07997641712427139 0.3328346908092499 0.10024991631507874 0.7736033797264099 -0.15863168239593506 0.8146564960479736 -0.20466986298561096 -0.21581116318702698 0.5286317467689514 -0.2842702865600586 0.05059654265642166 0.300441175699234 -0.24481026828289032 0.6968187689781189 -0.008769904263317585 -0.23208418488502502 0.3780454993247986 -0.34373798966407776 -0.19439102709293365 -0.24445132911205292\n",
            "sinh_viên --> -0.060465071350336075 -0.08757511526346207 0.18232573568820953 -0.3783777356147766 -0.057513587176799774 0.3649783432483673 -0.08805493265390396 0.0003378128749318421 0.0646316260099411 -0.15846750140190125 -0.35370221734046936 0.19777828454971313 0.5248526930809021 0.17638562619686127 0.11183079332113266 -0.8407935500144958 0.36735302209854126 0.1813545972108841 -0.21595312654972076 0.40705859661102295 0.150983527302742 -0.193160280585289 0.18460465967655182 0.34232357144355774 -0.2401532381772995 0.03308719024062157 0.43871182203292847 0.16198231279850006 -0.1573675125837326 -0.567486584186554 -0.004667818546295166 -0.26878491044044495 -0.1874132603406906 -0.22641128301620483 0.541037380695343 0.6771112084388733 -0.10405515134334564 0.07282732427120209 0.5147671103477478 0.33847057819366455 0.010757080279290676 0.6747305989265442 -0.3285512626171112 -0.35468000173568726 0.22065448760986328 -0.11269449442625046 0.05952342972159386 -0.22512012720108032 -0.42430317401885986 0.28583770990371704 -0.06106303632259369 -0.11811945587396622 -0.3290335536003113 -0.42992937564849854 0.5568881630897522 -0.1708652228116989 -0.3199085593223572 0.024471962824463844 0.3040485084056854 0.04737834632396698 0.1675291508436203 -0.1859486997127533 0.6061187386512756 -0.4937523603439331 0.19055722653865814 -0.4443768560886383 -0.23449327051639557 0.2406146228313446 0.05450458079576492 -0.26096245646476746 -0.23436149954795837 1.5027612447738647 -0.5876874923706055 0.4699362814426422 -0.3934234082698822 -0.3534538745880127 -0.007370251230895519 0.3796032667160034 0.7566443681716919 0.16900144517421722 0.003378280671313405 -1.0928648710250854 -0.6389514207839966 0.09184113144874573 -0.40169188380241394 0.8093646168708801 -0.2413211315870285 -0.18470627069473267 -0.12608984112739563 0.10338233411312103 0.2683817744255066 -0.8138355612754822 -0.34347057342529297 0.4822925627231598 0.30996912717819214 0.08427374064922333 -0.1622140258550644 -0.24274949729442596 0.8233294486999512 0.5316472053527832 -0.24591532349586487 -0.4445376396179199 0.3735983371734619 -0.4185587465763092 0.002262527821585536 -0.8282902836799622 -0.29085949063301086 0.23251035809516907 0.414302796125412 0.26779600977897644 0.2330312877893448 -0.20063060522079468 0.14311352372169495 0.2700335383415222 -0.3191368877887726 0.4341103136539459 0.5260238647460938 -0.07585255801677704 0.0025804738979786634 -0.05234489589929581 -0.26533031463623047 -0.11215882748365402 -0.37580299377441406 -0.09098012745380402 -0.17734158039093018 0.4424644112586975 0.2984418570995331 -0.1807655394077301 0.2574407458305359 0.12561234831809998 0.1853303462266922 -1.4434175491333008 -0.3306156396865845 0.4802195727825165 -0.2250944972038269 -0.4489123821258545 -0.12213553488254547 -0.12923097610473633 -0.31296250224113464 -0.5272566080093384 0.21294564008712769 0.2693285346031189 -0.03678005188703537 -0.6410583257675171 -0.41793328523635864 -0.4969748556613922 1.4839072227478027 -0.03944803774356842 0.14254340529441833 0.596569299697876 0.23776403069496155 0.3899664282798767 -0.17394670844078064 -0.037240833044052124 -0.17358893156051636 0.028672106564044952 -0.258100301027298 0.054725904017686844 0.5141841769218445 0.2965547740459442 0.14459013938903809 0.11697244644165039 -0.20215635001659393 0.0670919343829155 -0.053626421838998795 0.12726446986198425 -0.3708852529525757 -0.13550375401973724 -0.3219512403011322 -0.09592082351446152 0.04429300129413605 0.2066076099872589 -0.16310669481754303 -0.12812143564224243 0.45685747265815735 0.2785007357597351 -0.5919129848480225 0.46773162484169006 0.5711992979049683 -0.4467504918575287 0.18230779469013214 0.2437731921672821 0.29453012347221375 0.3858787417411804 0.3762269616127014 0.23244284093379974 -0.15191073715686798 -0.5166669487953186 -0.13702599704265594 0.5556309223175049 -0.006142313592135906 0.41461899876594543 0.6374173164367676 0.27185317873954773 -0.07075352966785431 -0.07583480328321457 0.027434496209025383 0.5084615349769592 -0.26418226957321167 -0.30806827545166016 0.03773696348071098 -0.48744988441467285 -0.197356715798378 -0.648780345916748 -0.31786292791366577 -0.004863021429628134 -0.25276121497154236 0.07185322046279907 0.2719927430152893 0.692269504070282 0.5845915079116821 0.827948808670044 0.029409490525722504 0.09831559658050537 -0.3641960024833679 -0.39022091031074524 -0.06675447523593903 -0.5203041434288025 0.020956967025995255 -0.11523307859897614 0.072378970682621 -0.37760260701179504 0.4834388792514801 0.16425184905529022 0.3244747221469879 0.018317097797989845 0.2336321473121643 -0.5936060547828674 -0.226353257894516 0.008466792292892933 0.1712164431810379 -0.45297297835350037 -0.032049983739852905 0.11476191133260727 -0.15826749801635742 0.194978266954422 0.261290967464447 0.0829223170876503 1.0248805284500122 -0.011660340242087841 0.2946234345436096 0.2983497083187103 -0.27410611510276794 -0.1524435430765152 -0.16677699983119965 0.2422996610403061 -0.05953213572502136 0.35332512855529785 -0.2205408364534378 0.3402745723724365 -0.6170050501823425 0.47345176339149475 0.37030085921287537 0.29855865240097046 0.42588749527931213 -0.5084995031356812 -0.23118767142295837 0.4103125333786011 -0.11082649976015091 0.701966404914856 0.2501169443130493 -0.12478215992450714 -0.30710405111312866 -0.34558185935020447 -0.5645639896392822 -0.0923650860786438 0.08874624967575073 0.37296655774116516 -0.07361789047718048 -0.15663516521453857 -0.2805846929550171 0.16347578167915344 0.19146418571472168 -0.04442787170410156 0.24231134355068207 0.2052110731601715 0.2705961763858795 0.781519889831543 0.6374118328094482 -0.28631463646888733 -0.24135291576385498 -0.2437681257724762 0.24971185624599457 -0.09522563964128494 0.16076545417308807 -0.32918214797973633 -0.3246196210384369 0.0258792694658041 -0.2246883362531662 0.032014016062021255 0.019913343712687492 0.39059361815452576 0.22950193285942078 -0.5408830046653748 0.12431423366069794 -0.2016873061656952 0.1184387132525444 0.025452520698308945 -0.014462864026427269 0.11229413002729416 0.3923608958721161 -0.142446368932724 -0.16937397420406342 -0.7696645855903625 -0.15624983608722687 0.5563433170318604 0.20236703753471375 -0.31058964133262634 0.1540336310863495 0.5132657289505005 0.04974452406167984 -0.10147952288389206 -0.30423757433891296 0.14540047943592072 0.2062339186668396 -0.017833691090345383 0.11805741488933563 -0.4433760643005371 -0.44809412956237793 -0.07037624716758728 -0.4409104883670807 -0.0757267028093338 -0.39109939336776733 0.08061569184064865 -0.3935721218585968 0.15212629735469818 -0.4719146192073822 0.20802612602710724 0.08164499700069427 -0.4141874313354492 0.0659724548459053 0.2880209982395172 -0.052220165729522705 -0.18401576578617096 0.19089928269386292 0.2970549166202545 0.0627831295132637 -0.347452312707901 -1.8778114318847656 -0.5352514386177063 0.055465783923864365 -0.09921495616436005 -0.09300769120454788 0.36644822359085083 -0.4279188811779022 -0.19479124248027802 0.8849433064460754 0.014381355606019497 -0.23460273444652557 -0.23549720644950867 -0.40802955627441406 0.04987748712301254 0.08523212373256683 0.4135153591632843 -0.2433919459581375 0.0007346807979047298 -0.05569600313901901 -0.20523601770401 0.7948365211486816 0.020418237894773483 -0.28275513648986816 0.582984447479248 0.568965494632721 0.7610561847686768 0.17632068693637848 -0.29251712560653687 0.3627752661705017 0.6363532543182373 -0.23424500226974487 -0.13249199092388153 0.1692374050617218 -0.1432933360338211 0.2944333553314209 0.0782267302274704 0.4127166271209717 0.30935773253440857 -0.05963145196437836 0.1754506379365921 -0.01776559092104435 -0.054063230752944946 0.08358583599328995 0.2905702590942383 -0.7191914319992065 -0.6675334572792053 -0.2220449596643448 -0.19914548099040985 0.020236555486917496 -0.12106774002313614 0.3782222270965576 0.13114821910858154 -0.5057945251464844 0.39486226439476013 0.35321056842803955 -0.13332583010196686 -0.14187000691890717 -0.15811960399150848 -0.18747305870056152 0.503325343132019 0.01596243306994438 -0.15605925023555756 0.04676511511206627 -0.12192389369010925 -0.9844722151756287 -0.24037326872348785 0.1904004067182541 -0.22438165545463562 0.043239325284957886 -0.03046129085123539 0.038359519094228745 -0.31577789783477783 -0.003945927135646343 -0.28870683908462524 -0.3127009868621826 0.5341801643371582 -0.13970012962818146 0.3999267816543579 -0.008463802747428417 -0.21163445711135864 0.16603915393352509 -0.11442135274410248 0.3464012145996094 -0.18841758370399475 -0.04918939620256424 -0.7821235656738281 0.06709234416484833 0.15461920201778412 -0.02183721773326397 -0.06915009021759033 0.011281413957476616 0.18094836175441742 0.8484067916870117 0.235765740275383 0.4467771649360657 -0.20561008155345917 0.7907768487930298 0.04731324315071106 0.4429031014442444 0.5422839522361755 0.17896756529808044 0.07940898835659027 -0.05003391578793526 0.7715975046157837 -0.03032839111983776 0.07942722737789154 0.10323527455329895 -0.01969733089208603 0.8576614260673523 -0.422280877828598 -0.03503698110580444 0.5153843760490417 0.07388413697481155 0.09371010959148407 -0.03280710428953171 0.04778733104467392 0.17914238572120667 -0.1667652130126953 -0.3249087333679199 0.031058087944984436 -0.6191518902778625 -0.19049377739429474 -0.06790916621685028 0.016893446445465088 -0.044093456119298935 -0.22733086347579956 0.021385129541158676 0.10991125553846359 -0.07901706546545029 0.14787182211875916 -0.3380575478076935 -0.37072280049324036 -0.10763019323348999 -0.0335083082318306 0.45596450567245483 -0.05091731622815132 0.2563152611255646 0.510226309299469 -0.03343338146805763 -0.07945065200328827 -0.1654484122991562 0.2658165693283081 0.6120853424072266 -0.3635825514793396 -0.4464034140110016 -0.02001364529132843 -0.6381675601005554 -0.7401716113090515 0.012683202512562275 0.12196189910173416 0.15411333739757538 -0.013566425070166588 -0.315608412027359 0.09164100140333176 0.8459407687187195 0.09893165528774261 -0.2354477494955063 0.6287658214569092 -0.27221935987472534 0.248279869556427 0.5175707340240479 -0.566308319568634 -0.4518817365169525 -0.006792345084249973 0.11642469465732574 0.1969953179359436 0.321294367313385 0.6940243244171143 0.2728327214717865 0.2297150194644928 0.029418548569083214 -0.04252596199512482 0.27261805534362793 0.10744799673557281 0.37922367453575134 -0.20268744230270386 -0.8120602369308472 0.43701067566871643 0.6241123080253601 0.11336121708154678 0.21411103010177612 0.11376047134399414 0.09261683374643326 -0.7576891779899597 0.2529051899909973 0.07108733803033829 -0.6197354197502136 -0.5157908797264099 -0.29843804240226746 -0.24793294072151184 0.24230456352233887 0.1825575977563858 -0.15082687139511108 0.46616750955581665 0.274101585149765 -0.4208996593952179 -0.0171409472823143 0.857661247253418 -0.5785171985626221 -0.15102222561836243 0.08251194655895233 -0.22595027089118958 0.5717043280601501 -0.13307593762874603 0.05969247221946716 -0.1646408587694168 0.3093876242637634 -0.258357435464859 1.037143588066101 0.23782673478126526 0.3541193902492523 -0.34669291973114014 -0.12781034409999847 0.6677001714706421 0.7534689903259277 0.0822119265794754 0.35658618807792664 0.07238595187664032 -0.366057425737381 -0.02224040776491165 -0.13753950595855713 -0.5610932111740112 0.2699010372161865 -0.08637295663356781 0.2227494716644287 0.45281708240509033 0.4543188810348511 -0.16106633841991425 -0.1543700397014618 -1.0670496225357056 0.6189879775047302 -0.06396334618330002 0.08133725821971893 -0.6874586939811707 -0.1052539050579071 0.126020610332489 -0.2355869710445404 0.4082407057285309 -0.38429519534111023 0.5949451923370361 0.47007620334625244 -0.48146259784698486 0.2767781615257263 -0.11473169922828674 0.23092813789844513 -0.6108673810958862 0.27589094638824463 -0.05183401331305504 -0.28685858845710754 -0.3098461329936981 0.6979793310165405 0.08885566890239716 2.2363991737365723 0.07625766843557358 -0.10965071618556976 0.01717538759112358 0.02000235952436924 -0.20251180231571198 -0.07313334941864014 -0.45145153999328613 0.17371897399425507 0.7006323337554932 -0.02358723245561123 -0.5789228081703186 0.08726217597723007 -0.09545518457889557 0.3093762993812561 0.5819026231765747 0.0183878056704998 -0.37946686148643494 0.11304174363613129 0.304645836353302 -1.2544304132461548 0.603222131729126 -0.07843812555074692 0.5813177824020386 -0.06639765202999115 -0.3682956099510193 -0.13768909871578217 -0.11807204782962799 -0.3009270429611206 0.19291122257709503 -0.08676330745220184 0.14237497746944427 0.08957194536924362 0.11989846080541611 0.3981848955154419 -0.04320494458079338 -0.034320343285799026 -0.2791615426540375 -0.09142208844423294 -0.0005930213956162333 -0.21522483229637146 -0.19830448925495148 0.37825724482536316 0.21020783483982086 0.2638515532016754 0.04438912123441696 -0.2823851406574249 0.3135773837566376 0.16337457299232483 0.060565028339624405 -0.08060707151889801 0.41192758083343506 0.08660545200109482 0.16904757916927338 0.23234522342681885 -0.2685364782810211 0.967610776424408 0.05637518689036369 0.23706477880477905 -0.36617326736450195 0.1809469610452652 0.07337601482868195 0.2685322165489197 -0.12991073727607727 0.32702741026878357 0.1589873731136322 0.7278479933738708 0.28075110912323 0.7366868257522583 0.3277830481529236 -0.1333085596561432 0.1641969084739685 0.34509050846099854 0.019209502264857292 0.1233832836151123 0.5200874209403992 0.030081531032919884 -0.46876728534698486 0.19752807915210724 -0.5389241576194763 -0.43663841485977173 0.5843260884284973 0.00041304025216959417 1.3224656581878662 0.020710723474621773 -0.23430180549621582 -0.6930439472198486 0.5284892320632935 -0.24701321125030518 0.43048912286758423 -0.33464962244033813 0.774998128414154 0.7764358520507812 0.682169497013092 0.022245898842811584 -0.10323677211999893 -0.18111500144004822 0.13481317460536957 0.14218935370445251 0.7942835688591003 0.3943745791912079 -0.23045207560062408 -0.33172106742858887 -0.24409660696983337 0.21922434866428375 0.2931099236011505 0.23923048377037048 0.30578991770744324 -0.3157940208911896 -0.6806491017341614 -0.22564977407455444 -0.06312240660190582 -0.41935285925865173 0.2617451250553131 -0.36904799938201904 -0.2715763747692108 0.26355451345443726 0.182615265250206 0.7798552513122559 0.24430526793003082 0.36089345812797546 -0.37514472007751465 0.0800640881061554 -0.04458112269639969 -0.17785660922527313 0.23265595734119415 -0.11941302567720413 0.6044434905052185 -0.16410452127456665 -0.10873618721961975 0.45098668336868286 -0.18218256533145905 -0.2705402374267578 -0.12841235101222992 0.0418904572725296 -0.15011678636074066 -0.0385625846683979 -0.03086194396018982 -0.6019191741943359 0.08307670056819916 0.5813143849372864 0.033861786127090454 0.05803724750876427 0.7266281843185425 0.13011421263217926 0.30526289343833923 -0.06019476428627968 0.1527765393257141 0.10085722804069519 -0.0853327065706253 -0.04798099026083946 -0.17866505682468414 0.5586994290351868 -0.4659668803215027 -0.23792122304439545 0.36391276121139526 0.3831753432750702 0.036909930408000946 -0.19121775031089783 0.4749121069908142 0.626349151134491 0.26576298475265503 0.17338596284389496 0.32913443446159363 0.41721832752227783 0.08961378037929535 0.08586904406547546 0.4803723096847534 -0.8919253945350647 0.5792140960693359 -0.2389383316040039 -0.3636612594127655 -0.32656240463256836 -0.123875193297863 0.41341161727905273 -0.10085266083478928 -0.5804371237754822 0.4960674047470093\n",
            "trường --> 0.24795691668987274 0.024260079488158226 0.1988169401884079 0.8203388452529907 -0.17910470068454742 0.0915457159280777 -0.047803230583667755 -0.226965069770813 -0.4969054162502289 -0.19140586256980896 0.409089595079422 -0.31464508175849915 -0.4964575469493866 -0.06506175547838211 0.38843441009521484 0.032260216772556305 0.5674017071723938 0.17368987202644348 0.4729328751564026 0.05092932656407356 0.3168083429336548 0.45981746912002563 -0.053032733500003815 0.6664915084838867 0.5046303272247314 -0.2800845801830292 -0.15078043937683105 0.4218728542327881 -0.21401645243167877 -0.08210046589374542 -0.33033841848373413 -0.08983448147773743 0.11411838233470917 0.09206739068031311 1.0961143970489502 0.6100353002548218 -0.15025171637535095 0.31672486662864685 -0.1547483205795288 0.42163899540901184 -0.2792346775531769 0.4841707944869995 0.16522875428199768 0.07333952188491821 0.09211578220129013 0.10057569295167923 0.017307471483945847 0.022071203216910362 0.024843012914061546 0.2180209904909134 0.3027535080909729 0.34530001878738403 -0.5600343942642212 1.0532832145690918 0.2316749393939972 -0.1161140725016594 0.351458340883255 -0.36387622356414795 0.3068299889564514 0.3053539991378784 0.07775486260652542 -1.0476126670837402 0.08691888302564621 -0.07766835391521454 -0.008485582657158375 -0.03150710463523865 -0.09152723848819733 0.1837693750858307 0.05668533220887184 0.1466611921787262 -0.12296884506940842 0.9645166397094727 -0.7232818603515625 0.8598520755767822 -0.34892481565475464 0.08047499507665634 -0.18073688447475433 0.1315821260213852 0.043155401945114136 0.274186372756958 0.05908476933836937 -0.616897702217102 0.062011051923036575 0.20814919471740723 -0.08681249618530273 0.8775404095649719 -0.524881899356842 0.2932020425796509 0.007074269931763411 0.016534920781850815 0.23373375833034515 -0.31826528906822205 0.06567356735467911 0.5388571619987488 -0.10590056329965591 -0.10548365116119385 -0.48398032784461975 -0.3351837396621704 0.5373507738113403 -0.10494564473628998 -0.00950404442846775 -0.5016723275184631 0.3622000813484192 -0.4254046082496643 -0.1577199250459671 -1.0010868310928345 -0.18408484756946564 -0.05899955704808235 0.003079509362578392 0.2724017798900604 0.052709631621837616 -0.08116494864225388 -0.09063876420259476 -0.2584671676158905 0.0856817290186882 0.2122962325811386 0.7797684073448181 0.07412254065275192 0.5713397860527039 0.12815332412719727 0.13582685589790344 -0.349528968334198 -0.439162939786911 -0.4174864590167999 -0.3560946583747864 -0.3081513047218323 0.05255330726504326 -0.18432344496250153 -0.07191607356071472 0.10176098346710205 0.22892625629901886 -1.13106107711792 -0.011047447100281715 0.5008876919746399 0.4885560870170593 0.34769174456596375 -0.07426867634057999 -0.0774092897772789 -0.40218275785446167 -0.13739247620105743 -1.0939581394195557 -0.27610912919044495 0.5160079598426819 0.025173554196953773 -0.34199059009552 -0.2255551815032959 0.57140052318573 0.1576707363128662 -0.022639483213424683 -0.475930392742157 -0.5338354110717773 -0.10910805314779282 -0.1236795037984848 -0.10397754609584808 0.13709253072738647 -0.13895152509212494 -0.7001246809959412 0.526304304599762 0.40092018246650696 -0.22026276588439941 -0.1451333612203598 -0.3328259587287903 -0.1652814894914627 0.05844038724899292 0.0002654440177138895 0.35047802329063416 -0.07655821740627289 0.4892735183238983 -0.013461477123200893 0.3527955710887909 0.12174785882234573 -0.10273712128400803 0.1598770022392273 0.004183832090348005 0.4241706132888794 0.18414679169654846 0.017720242962241173 0.18730385601520538 0.4115346074104309 0.3866790235042572 0.7103850245475769 0.4537906050682068 0.8794243335723877 -0.022249042987823486 0.1374971717596054 0.3269648253917694 -0.41540172696113586 -0.4098969101905823 -0.41252872347831726 0.3717595934867859 0.17739306390285492 0.2962719202041626 -0.01203214842826128 -0.04321138188242912 0.14572669565677643 -0.059330590069293976 0.3910996615886688 0.010180862620472908 -0.28409886360168457 -0.3590151071548462 0.3333415389060974 0.669342577457428 -0.016240976750850677 -0.9422420859336853 0.07997256517410278 -0.10907215625047684 0.20227976143360138 0.4731101095676422 0.35861077904701233 0.6720970273017883 0.4932977557182312 0.4635862708091736 -0.1219141036272049 -0.09317020326852798 -0.2431923747062683 0.08428223431110382 0.37396129965782166 -0.561477780342102 0.040242306888103485 0.4579184353351593 0.09325301647186279 -0.14036324620246887 -0.026582714170217514 0.5190688967704773 0.45743298530578613 0.4123384654521942 0.19391702115535736 0.09320396929979324 -0.07552449405193329 -0.08245433121919632 -0.0917072668671608 -0.4435410797595978 0.17968128621578217 0.246868297457695 0.022520003840327263 0.23990008234977722 0.14239349961280823 0.01580645889043808 -0.08420372754335403 -0.2629051208496094 -0.32575348019599915 0.1685192883014679 -0.13212060928344727 -0.4708380401134491 0.238025963306427 0.2786676585674286 0.025158226490020752 0.3151458203792572 -1.0062111616134644 0.14268670976161957 -0.6672173142433167 0.41285932064056396 -0.1912257820367813 -0.18100003898143768 0.2922583222389221 -0.12149245291948318 0.03720451146364212 -0.0721760094165802 -0.41668373346328735 0.5214092135429382 0.003404529532417655 -0.2189330756664276 -0.21475374698638916 -0.44363272190093994 -0.37934550642967224 -0.17145954072475433 0.23314297199249268 -0.67720627784729 -0.31594163179397583 0.3861916959285736 0.3317686915397644 0.28303807973861694 -0.5682652592658997 -0.02092454582452774 0.46582067012786865 0.019328230991959572 0.6497207880020142 1.2013628482818604 -0.043718960136175156 0.2703372538089752 0.015097718685865402 0.23669198155403137 -0.26474833488464355 0.07889349013566971 0.03637266159057617 0.7444546222686768 -0.11352785676717758 -0.2754155993461609 -0.6598889231681824 0.20814843475818634 -0.4393932521343231 0.3398415148258209 0.18676747381687164 0.9929358959197998 0.20644904673099518 -0.1554446667432785 0.0012912919046357274 -0.2518042325973511 0.06819938123226166 0.16605857014656067 0.1385561227798462 -0.44364944100379944 -0.3808704912662506 -0.20195452868938446 0.06294231116771698 -0.26897093653678894 0.024887841194868088 -0.04165685549378395 -0.43904563784599304 0.46940818428993225 0.21095888316631317 -0.5758044123649597 -0.4571854770183563 -0.10852371901273727 -0.12024030834436417 0.11742605268955231 -0.13733935356140137 0.09137911349534988 -0.30685779452323914 -0.46664169430732727 -0.11338554322719574 -0.07481429725885391 -0.32623738050460815 0.04378998279571533 0.9447301626205444 0.15739232301712036 0.49636855721473694 0.15279456973075867 -0.5017367005348206 -0.13455097377300262 0.338897168636322 -0.20959362387657166 -0.4530927538871765 -0.06743327528238297 0.12607145309448242 -0.5260031223297119 0.06460939347743988 0.1349155157804489 -0.9008657932281494 -0.9462042450904846 0.09169215708971024 0.42733892798423767 -0.5044512748718262 -0.43732497096061707 0.07910127192735672 0.08131944388151169 0.2427479326725006 0.18437640368938446 0.3123212456703186 0.6328237056732178 0.130256786942482 -0.010636535473167896 -0.04924822971224785 -0.12483429908752441 -0.22560027241706848 -0.5970288515090942 0.002163901226595044 -0.2633647620677948 -0.2431790679693222 0.17751476168632507 0.5032784342765808 0.07447339594364166 0.22536197304725647 0.04584275931119919 -0.013354980386793613 0.048501864075660706 -0.086527518928051 0.59605872631073 0.30047258734703064 -0.5252864360809326 -0.03541836142539978 0.1533070057630539 0.40704232454299927 0.39705339074134827 -0.11878976970911026 0.17209790647029877 0.051859740167856216 -0.370731920003891 -0.04670727998018265 -0.2239174246788025 0.3339437246322632 -0.1215679794549942 0.4398537278175354 -0.2682145833969116 -0.18864835798740387 -0.3122071623802185 0.020269421860575676 -0.6576714515686035 -0.031244879588484764 -0.23058485984802246 -0.5549560189247131 0.09120354801416397 -0.3836211562156677 -0.19959230720996857 -0.01725548319518566 -0.16160467267036438 -0.5694416761398315 0.18973374366760254 -0.13532111048698425 -0.008329873904585838 0.33572450280189514 0.08653264492750168 -0.18029513955116272 -0.6024497151374817 0.24709486961364746 0.13115143775939941 0.2608673870563507 -0.2852833569049835 -0.47112056612968445 0.2116628885269165 0.3260239064693451 0.356414258480072 0.0020735072903335094 -0.15402568876743317 0.49289670586586 -0.6399961709976196 -0.24751555919647217 -0.3928450345993042 0.12864845991134644 -0.15696442127227783 0.03574386239051819 -0.21416692435741425 -0.026995768770575523 -1.0240263938903809 -0.044358327984809875 0.5675534009933472 -0.05416067689657211 -0.09911579638719559 -0.19868798553943634 0.6651339530944824 0.28149527311325073 0.1990906298160553 0.49519872665405273 -0.869505763053894 -0.11175168305635452 0.2756234407424927 -0.7262530326843262 0.13704487681388855 0.27995607256889343 -0.13448789715766907 0.16990390419960022 0.26218411326408386 -0.18501371145248413 0.17912496626377106 -0.5024122595787048 0.021031729876995087 0.7034597396850586 -0.9062414765357971 0.10061278194189072 -0.45390453934669495 -0.19895879924297333 0.10120192170143127 0.45031818747520447 -0.2867751717567444 0.23283879458904266 -0.09293826669454575 -0.13319577276706696 -0.1491798758506775 -0.2268073558807373 0.11376780271530151 -0.03494200482964516 -0.7676961421966553 0.21453247964382172 0.16968750953674316 0.39080747961997986 0.6474013924598694 1.0331933498382568 0.09262403845787048 -0.4191519618034363 0.15988248586654663 0.07917414605617523 0.14237849414348602 0.18121656775474548 -0.22750291228294373 0.008402837440371513 0.2025412619113922 0.3998022675514221 -0.07066125422716141 -0.16694283485412598 0.03779255226254463 0.43992018699645996 -0.5803099870681763 -0.16626694798469543 0.22689874470233917 0.3410886228084564 0.0353236123919487 0.34177806973457336 0.23923452198505402 0.18993116915225983 -0.04833698645234108 0.13833926618099213 -0.2767968475818634 0.4262239336967468 -0.20281966030597687 0.3065081238746643 1.2507110834121704 -0.44100454449653625 0.560517430305481 0.19507192075252533 -0.16474777460098267 -0.3553529679775238 0.24880598485469818 0.8097808361053467 -0.18869474530220032 -0.3286338150501251 0.5463279485702515 0.09190116822719574 0.09240888059139252 -0.43162739276885986 0.028902294114232063 -0.3673097491264343 0.5373334288597107 -0.5134337544441223 0.30220451951026917 -0.36006951332092285 0.43261268734931946 0.841751754283905 -0.022794578224420547 0.24962420761585236 -0.29669874906539917 0.08076336979866028 -0.2608751058578491 0.19307291507720947 0.2016952782869339 -0.590162456035614 -0.0859992578625679 0.17143256962299347 -0.2701883018016815 0.4165506064891815 -0.02257467620074749 -0.37397247552871704 0.9093807339668274 0.17600136995315552 -0.16902846097946167 -0.351482093334198 -0.2994247376918793 -0.3201652467250824 0.07966353744268417 -0.5281373858451843 -0.36808493733406067 0.0507948212325573 0.4265749752521515 -0.291576087474823 -0.08693891763687134 -0.05407038703560829 -0.18376663327217102 0.07741867005825043 0.08729256689548492 0.269483745098114 0.5849759578704834 0.04360209032893181 0.637438952922821 0.2742098569869995 -0.12264004349708557 0.17768928408622742 -0.1491638720035553 0.27288174629211426 0.06265883147716522 0.3240150511264801 -0.3164673447608948 0.21976712346076965 0.015900779515504837 -0.07314661145210266 0.27389103174209595 0.5473067760467529 0.0707492083311081 0.37663447856903076 -0.04391664266586304 0.6844086050987244 -0.03780578449368477 0.37944531440734863 0.05486877262592316 0.3010302782058716 -0.3179970979690552 -0.20696155726909637 0.29416680335998535 0.036656152456998825 0.5287718772888184 0.34127411246299744 -0.3821297585964203 0.152638241648674 0.06452678889036179 -0.06490819156169891 -0.5440125465393066 0.2721119225025177 0.7819990515708923 -0.7566444277763367 -0.4002627432346344 0.31912729144096375 0.5274569988250732 2.4638404846191406 0.39041823148727417 0.2298726737499237 -0.603747546672821 0.22325259447097778 -0.9055155515670776 0.5311380624771118 -0.45292139053344727 -0.06737279891967773 0.022472774609923363 -0.04419685900211334 0.507187008857727 -0.06556431204080582 -0.167592853307724 -0.017788773402571678 0.24972788989543915 -0.43154168128967285 -0.0804845318198204 0.27589547634124756 0.653081476688385 -1.6367193460464478 0.4940356910228729 0.3004927635192871 0.40441688895225525 0.6431783437728882 0.055475879460573196 0.058988433331251144 0.4057358205318451 0.21691198647022247 0.01343702431768179 0.059760984033346176 -0.1503530889749527 -0.5146198868751526 -0.30146247148513794 0.1701325625181198 -0.6338059902191162 -0.06797953695058823 -0.16390471160411835 0.4994564950466156 -0.28925374150276184 -0.5534703731536865 -0.15293821692466736 0.22623921930789948 0.46235090494155884 0.030152326449751854 -0.4973629415035248 0.19233718514442444 0.05326974764466286 0.45304253697395325 -0.30699700117111206 0.10209839791059494 -0.8519302010536194 0.15931753814220428 -0.9462330341339111 -0.24093449115753174 -0.5007176995277405 0.6090561151504517 0.06716177612543106 0.1268836110830307 -0.06956060975790024 -0.3336908221244812 0.13149739801883698 0.3957451581954956 0.4138157367706299 0.6285241842269897 0.16732583940029144 0.8879932165145874 -0.10655941069126129 0.21957921981811523 0.49786365032196045 0.2180871069431305 0.3198286294937134 0.1947590559720993 0.29529714584350586 -0.05568607896566391 -0.038081541657447815 -0.26107704639434814 -0.1773744374513626 0.42631691694259644 0.1602901816368103 -0.4154405891895294 0.5523017644882202 0.07315157353878021 1.0299924612045288 0.6984474062919617 -0.1623242348432541 0.2149035483598709 0.03332928568124771 -0.2697509527206421 0.3163151443004608 -0.2547057867050171 0.1936621218919754 0.485025554895401 0.5562073588371277 0.09618905186653137 0.1304236501455307 0.06379326432943344 0.10217639058828354 0.08462285250425339 0.4497954547405243 0.13385972380638123 -0.07644087076187134 -0.8668568134307861 0.05080853030085564 0.3072749078273773 0.23607109487056732 0.2862687110900879 0.5249967575073242 -0.26148319244384766 -0.35110408067703247 -0.23931248486042023 -0.217039555311203 -0.7966236472129822 0.060900382697582245 -0.09709955006837845 0.5862231850624084 0.0718531608581543 0.1732671707868576 0.0767802819609642 0.028694789856672287 0.5936672687530518 0.07838544249534607 0.2311142534017563 0.1565546840429306 -0.2333158552646637 -0.7683830261230469 0.0467207245528698 0.23836779594421387 -0.27060580253601074 -0.33159875869750977 -0.25073549151420593 -0.02674848772585392 0.4011824429035187 -0.1319395899772644 0.20203813910484314 0.04240453988313675 -0.25701141357421875 -0.2799007296562195 -0.8003994226455688 0.6953513622283936 -0.3987472951412201 0.08329521119594574 0.2897918224334717 0.6111595630645752 0.23722980916500092 0.23850353062152863 0.2936686873435974 0.6565788388252258 0.04584098234772682 -0.26350918412208557 -0.8637891411781311 -0.07344269752502441 0.7638940811157227 0.034406308084726334 -0.5008719563484192 0.6063501238822937 0.06876581907272339 -0.39018911123275757 0.14763441681861877 0.5655750632286072 0.22001159191131592 0.1627611517906189 0.12113769352436066 -0.013875409960746765 0.16995246708393097 -0.5563424825668335 0.17439784109592438 0.4286116659641266 -0.5261927247047424 -0.05527853965759277 -0.04953619837760925 0.03584982454776764 -0.08295124769210815 0.1323283314704895 0.20118491351604462 0.04164470359683037 -0.20480358600616455 -0.05644506216049194\n",
            "đại_học --> 0.09314895421266556 0.02847316861152649 0.3227611482143402 -0.15368200838565826 -0.15963487327098846 0.38805267214775085 0.4355655610561371 -0.3056071996688843 0.031250424683094025 -0.2553088665008545 -0.1309952735900879 -0.14876995980739594 0.23990489542484283 -0.5683073401451111 0.023613812401890755 -0.07644495368003845 -0.26900243759155273 0.4653885066509247 0.4060618579387665 0.16607052087783813 0.4305408298969269 -0.041610218584537506 -0.12978596985340118 1.1348693370819092 0.4980897009372711 -0.15325608849525452 0.46201619505882263 0.4941275119781494 -0.05656712129712105 -0.10235177725553513 -0.11839748919010162 -0.0784025713801384 0.29319533705711365 -0.11141758412122726 0.37394171953201294 0.37310582399368286 -0.24017316102981567 -0.08665770292282104 0.3146798014640808 0.2835218608379364 -0.1516912281513214 0.7548173069953918 -0.5362470746040344 -0.4281429946422577 0.21263796091079712 -0.029875194653868675 -0.35733503103256226 0.17841020226478577 0.30732232332229614 0.2781164348125458 0.1648925095796585 0.24941925704479218 0.3141084313392639 0.08841203153133392 0.502102792263031 -0.1837945133447647 -0.028217174112796783 0.25686243176460266 0.304738312959671 -0.08874291926622391 0.0008267437806352973 -1.0454503297805786 -0.11598706245422363 -0.45716214179992676 -0.006792973726987839 -0.408923476934433 0.4453878402709961 0.31235823035240173 -0.1558045893907547 0.27177658677101135 0.5409031510353088 1.5598886013031006 -0.3259502649307251 0.889428436756134 -0.25538304448127747 0.4937123954296112 -0.00961761549115181 0.12662868201732635 0.40739840269088745 0.19079264998435974 -0.24471358954906464 -0.6418499946594238 0.26556652784347534 0.16117927432060242 0.06052941828966141 0.7909717559814453 0.29138362407684326 0.02714025229215622 0.03496858850121498 -0.14470715820789337 0.16993576288223267 -0.14207212626934052 -0.7478758692741394 0.6594563722610474 0.49715468287467957 0.14322152733802795 -0.5486831068992615 0.258642315864563 0.7147928476333618 -0.16465376317501068 -0.03012586198747158 -0.3673572838306427 0.5516192317008972 -0.22535641491413116 -0.7120534181594849 -0.39756104350090027 0.2010430246591568 0.2632651627063751 0.40638476610183716 0.2294560968875885 0.1429411619901657 -0.3517273962497711 -0.07733437418937683 0.20031487941741943 0.1517411768436432 0.16422873735427856 0.4142308533191681 0.16158993542194366 0.6367965936660767 -0.090847909450531 -0.8973761796951294 0.17152376472949982 -0.5910692811012268 -0.20918013155460358 -0.7114287614822388 -0.05075995996594429 0.13644066452980042 -0.16601940989494324 0.006634840276092291 0.062256745994091034 0.37018096446990967 -0.7842683792114258 -0.3114475607872009 0.3023415803909302 -0.1808118224143982 0.16550607979297638 0.24995717406272888 -0.06444644182920456 -0.27007511258125305 -0.3425070643424988 -0.502501904964447 0.3503497242927551 0.14542296528816223 0.2825469374656677 -0.6860672235488892 -0.6809161901473999 0.025073176249861717 -0.0686277523636818 -0.26606687903404236 0.5822114944458008 0.6522696614265442 -0.12617947161197662 -0.012106785550713539 -0.2497091144323349 -0.09895487874746323 -0.12921704351902008 0.5126475095748901 0.4644447863101959 0.6707555055618286 0.9874072670936584 -0.19562649726867676 -0.27231907844543457 0.18771249055862427 0.19135403633117676 -0.08898919820785522 -0.03732418268918991 0.3618307411670685 0.20646452903747559 0.0027826144360005856 -0.497701495885849 0.011176777072250843 0.09805741906166077 -0.08001873642206192 0.10997787117958069 0.000898615806363523 0.2737361490726471 -0.526760458946228 -0.03714098408818245 0.4315304756164551 0.06511949747800827 -0.04588906466960907 0.38931983709335327 0.3490080237388611 -0.18254275619983673 0.05596858263015747 0.3417804539203644 -0.07075387984514236 0.07896837592124939 -0.3014143109321594 0.3102092742919922 -0.047058846801519394 -0.24041792750358582 0.26119330525398254 0.09521149098873138 0.5544376373291016 0.12103807181119919 -0.5722152590751648 -0.04652547463774681 -0.38090774416923523 -0.3121356964111328 0.41618937253952026 0.018320398405194283 -0.0965244323015213 -0.30916526913642883 0.03820950165390968 -0.17960692942142487 0.08131508529186249 0.14934861660003662 0.3652665913105011 -0.12573450803756714 0.40298765897750854 0.253591924905777 -0.3279132544994354 -0.16818752884864807 -0.4804335832595825 -0.2465118020772934 0.08024494349956512 -0.22942376136779785 -0.006821579299867153 -0.10238192230463028 0.1263941079378128 -0.0093082832172513 -0.04909965395927429 0.18102869391441345 0.02772349864244461 0.3688184916973114 -0.006271979305893183 0.17384538054466248 -0.31444528698921204 -0.06096397712826729 0.2039717137813568 -0.19873382151126862 -0.5556600689888 -0.38536813855171204 -0.25256747007369995 0.43914368748664856 0.5236934423446655 0.03483298048377037 0.4676089584827423 0.08882346004247665 -0.060861196368932724 0.12549540400505066 -0.1763658970594406 -0.47683003544807434 0.26784226298332214 -0.14734326303005219 0.01631384715437889 0.2930489480495453 -1.6311055421829224 0.4370204508304596 0.08423535525798798 0.6696943640708923 0.7489410638809204 -0.1964043378829956 0.2523336112499237 -0.23197373747825623 -0.3542455732822418 0.29790621995925903 -0.44549232721328735 0.3609336018562317 -0.0433327816426754 -0.20987412333488464 -0.45281240344047546 -0.007118245121091604 -0.48232439160346985 -0.21981781721115112 0.10315637290477753 0.3539370596408844 0.5496535897254944 0.4597127139568329 0.38216158747673035 0.270749568939209 -0.010045497678220272 0.6719927787780762 0.49357473850250244 -0.4875416159629822 0.24461008608341217 0.7809292078018188 0.41419053077697754 -0.30434146523475647 0.6026522517204285 -0.36623817682266235 -0.25909531116485596 -0.17262907326221466 -0.29150888323783875 0.11752640455961227 -0.608379065990448 0.07029890269041061 -0.4082792103290558 -0.1109514832496643 0.015850026160478592 0.24951975047588348 0.5161716938018799 0.6882485747337341 0.27586036920547485 -0.4432348608970642 -0.21355178952217102 -0.3949536681175232 -0.2511312961578369 -0.11557333171367645 0.266514390707016 -1.1050039529800415 -0.3443392813205719 -0.6191362142562866 -0.5738798379898071 0.7574709057807922 -0.16164758801460266 -0.03803880512714386 0.37705397605895996 0.8816360831260681 -0.17144832015037537 -0.7584415674209595 -0.12601417303085327 0.03391612693667412 -0.4277309477329254 0.30096322298049927 0.08059431612491608 0.021020730957388878 -0.46861881017684937 -0.13804788887500763 -0.6141964793205261 -0.14053763449192047 -0.5766456127166748 0.03207968547940254 -0.3086707890033722 0.46115005016326904 0.5824170708656311 0.2603733539581299 0.8182467222213745 -0.29903385043144226 -0.08547043055295944 0.3910578191280365 0.07336495816707611 0.05660547316074371 0.03311992064118385 0.1054433062672615 -0.5964612364768982 -0.12092247605323792 -1.483464002609253 -0.5900461673736572 0.03445518761873245 0.14335371553897858 -0.6196172833442688 -0.4837130606174469 0.4935052990913391 0.29703474044799805 0.1361636221408844 0.06644048541784286 -0.24856919050216675 0.582260012626648 0.0624488964676857 0.009105784818530083 -0.1351729780435562 -0.24301382899284363 -0.16330614686012268 -0.4452362656593323 -0.3511505126953125 -0.042702481150627136 -0.41186845302581787 0.43434715270996094 0.09105022996664047 0.12569400668144226 0.1249242052435875 0.5391732454299927 0.0929984375834465 -0.20691239833831787 0.029105376452207565 0.3128487765789032 0.1974094957113266 -0.03382188826799393 0.016090301796793938 -0.1003660336136818 0.95285964012146 0.4953172206878662 0.34922367334365845 0.0685291588306427 0.28785842657089233 0.16642233729362488 -0.16122223436832428 0.007412177976220846 0.3577848970890045 0.2082601934671402 -0.46586671471595764 -0.19760911166667938 -0.3090050220489502 -0.0786275863647461 -0.004140237811952829 -0.7403109669685364 0.304514080286026 0.07281870394945145 -0.42985761165618896 0.6481753587722778 -0.3348207175731659 -0.1473042219877243 0.18617670238018036 -0.09047748893499374 -0.006227073259651661 0.37836945056915283 0.47309771180152893 -0.3182888925075531 0.6391260027885437 0.2567655146121979 -0.4102942943572998 -0.3262251913547516 0.09422014653682709 0.0674503967165947 -0.057122327387332916 -0.030570127069950104 0.37221911549568176 -0.32143163681030273 -0.22749604284763336 0.8114101886749268 0.5969858765602112 0.06615114957094193 0.11104626208543777 -0.6301025152206421 0.2783523499965668 -0.1309603899717331 -0.1389313042163849 -0.40790244936943054 0.4690893590450287 0.4301961064338684 0.07097651809453964 -0.5029415488243103 0.01843610778450966 0.15858377516269684 0.4661639928817749 -0.11299356818199158 0.27397477626800537 -0.4294096529483795 0.33861202001571655 0.26932746171951294 0.22731243073940277 -0.5778942704200745 -0.5752653479576111 0.5518693923950195 -0.1646246314048767 0.4821130633354187 0.15254755318164825 0.21078741550445557 0.13085860013961792 0.34418344497680664 0.1597127467393875 -0.11904983222484589 -0.2481776922941208 -0.643215000629425 1.0859968662261963 -0.16125264763832092 -0.48192769289016724 0.03138143941760063 0.4187955856323242 0.1109321117401123 -0.09737137705087662 -0.09295240044593811 0.3005620837211609 -0.2717364430427551 -0.20028474926948547 -0.07354485243558884 0.09266985207796097 0.6888411641120911 -0.027419855818152428 -0.1807345151901245 0.07312518358230591 0.030646903440356255 0.20424784719944 0.11482525616884232 -0.0011396666523069143 -0.01782985031604767 -0.208170548081398 0.3725559711456299 0.3614025115966797 -0.09611392766237259 0.40169981122016907 -0.04811742529273033 0.2305336892604828 0.5127101540565491 -0.018049929291009903 0.17110691964626312 -0.5063499808311462 0.3915484845638275 0.37933963537216187 -0.36950165033340454 -0.13919232785701752 -0.14760702848434448 0.11270907521247864 -0.16348502039909363 0.28175726532936096 0.19247709214687347 0.01242972444742918 -0.18482379615306854 -0.2612208425998688 0.06037632003426552 0.5795835852622986 -0.11735095083713531 -0.258065789937973 0.3250904381275177 -0.3606467545032501 0.2228108048439026 0.17809942364692688 -0.333330363035202 -0.48435696959495544 0.09374867379665375 0.23335011303424835 -0.3151077628135681 0.43026190996170044 -0.2373960018157959 0.14453674852848053 -0.2448704093694687 0.4040343761444092 0.13993027806282043 -0.09329165518283844 0.4739135503768921 0.18622274696826935 0.43556052446365356 -0.39635366201400757 0.20273460447788239 0.8723417520523071 -0.5617801547050476 0.29962635040283203 0.1790243238210678 0.7483604550361633 -0.5198144912719727 -0.0010494728339836001 0.3127638101577759 -0.19281955063343048 0.0074094063602387905 -0.006843630224466324 -0.3726111948490143 0.13416197896003723 -0.11800342053174973 0.2033199667930603 0.7514489889144897 0.30565834045410156 -0.2969440221786499 -0.5920374989509583 -0.2768133580684662 0.03020637109875679 -0.15347248315811157 -0.18225808441638947 -0.28592896461486816 0.3650626838207245 -0.4570882320404053 -0.07725027203559875 -0.3513592779636383 0.7830001711845398 -0.04016531631350517 0.5734166502952576 0.37799346446990967 0.614514946937561 0.012610848061740398 0.17417743802070618 0.6531651020050049 0.2769533693790436 -0.24800632894039154 0.4444635808467865 -0.012773684225976467 -0.3088419437408447 0.31478896737098694 -0.3495076894760132 -0.587565541267395 -0.05840814858675003 0.36437729001045227 -0.07904025167226791 0.4418829679489136 -0.03214613348245621 -0.0347866453230381 0.04945109784603119 0.03928274288773537 0.10789685696363449 -0.23479335010051727 0.5847524404525757 -0.4193745255470276 0.10456505417823792 -0.0471138097345829 -0.2805387079715729 0.41522476077079773 -0.345930814743042 0.1173783466219902 0.22511327266693115 -0.5545629262924194 -0.12388192862272263 -0.20905429124832153 0.24872557818889618 0.15629695355892181 0.3258858025074005 -0.2951083779335022 0.40294504165649414 -0.24346168339252472 0.21657878160476685 -0.0435577929019928 1.6430763006210327 -0.6061794757843018 0.36742645502090454 -0.3442808985710144 -0.17718584835529327 -0.4806574881076813 -0.040119074285030365 0.2826537787914276 -0.2045205533504486 0.3951985538005829 0.15116237103939056 0.015016402117908001 0.18800614774227142 -0.43138983845710754 -0.06343069672584534 0.4856891930103302 -0.3243374526500702 -0.2041291892528534 0.1759006679058075 -0.037929363548755646 -1.506538987159729 0.46694454550743103 -0.24612510204315186 0.5545857548713684 0.47895535826683044 -0.318093478679657 0.06227105110883713 -0.3000997304916382 -0.7081919312477112 0.27971208095550537 -0.30129000544548035 0.19214430451393127 -0.3765834867954254 0.49973735213279724 0.42687878012657166 -0.4087635576725006 0.3122861981391907 -0.23354841768741608 -0.16987702250480652 0.3440573513507843 0.3043174743652344 -0.5835630297660828 -0.04999697208404541 -0.12637200951576233 0.03439779207110405 -1.3934485912322998 -0.5277908444404602 0.21047967672348022 -0.17762258648872375 -0.10449803620576859 0.3520621359348297 0.7652460336685181 0.09873159229755402 -0.046704087406396866 -0.12621839344501495 -0.14951308071613312 -0.03301432356238365 -0.23720867931842804 0.16116546094417572 -0.2929876446723938 0.10564123094081879 0.0002545712050050497 0.20247940719127655 -0.5938254594802856 0.39808762073516846 0.20588891208171844 -0.044515494257211685 0.18558360636234283 0.3667525351047516 0.4625219404697418 -0.020692067220807076 0.036410972476005554 0.016658812761306763 -0.02797027863562107 0.013586034998297691 -0.3373379409313202 -0.30882856249809265 0.044465672224760056 0.44412025809288025 -0.19170792400836945 -0.27933868765830994 0.8325504660606384 0.038367774337530136 0.006674983073025942 -0.26606640219688416 -0.05849983170628548 -0.23057369887828827 0.21576176583766937 0.15681828558444977 -0.04623156413435936 -1.318142056465149 0.9356777667999268 0.5173911452293396 1.273101568222046 0.7430706024169922 0.36844727396965027 0.3612230122089386 0.37267163395881653 -0.3798310160636902 0.9781726002693176 0.5422440767288208 0.026661230251193047 -0.38981154561042786 0.07551473379135132 -0.0742715448141098 0.0281582772731781 -0.06998568028211594 -0.6183815598487854 -0.21394115686416626 -0.3625706434249878 0.4136430323123932 -0.35308781266212463 -0.11380869150161743 0.23029617965221405 -0.29606419801712036 0.2187047004699707 0.179788738489151 0.25503239035606384 -1.1890854835510254 -0.0704343318939209 0.07866673916578293 0.10097116231918335 0.4281758964061737 0.13281108438968658 0.0400233156979084 -1.0417227745056152 0.026550816372036934 0.3900713622570038 -0.06374731659889221 -0.17001831531524658 0.6759764552116394 -0.17323240637779236 0.08233081549406052 0.42731332778930664 0.008173462934792042 0.30822476744651794 0.3697552978992462 -0.3523709177970886 -0.16236929595470428 -0.07568544894456863 0.3682418465614319 -0.1708827167749405 0.16379980742931366 -0.015707504004240036 0.11551246792078018 0.2565380036830902 0.40552687644958496 0.21618953347206116 0.24948041141033173 0.12269634753465652 0.24131810665130615 -0.774014949798584 0.41195040941238403 -0.21432490646839142 -0.5312321186065674 -0.018911676481366158 0.8210460543632507 0.06407647579908371 -0.02827949821949005 0.33897268772125244 0.533421516418457 0.2617397606372833 0.3822299838066101 -0.22336237132549286 -0.027611102908849716 0.41316837072372437 0.13087198138237 0.24447843432426453 -0.016754958778619766 0.024545099586248398 0.20150235295295715 -0.8520829677581787 -0.24548175930976868 -0.15216858685016632 0.018333187326788902 0.2623370885848999 -0.27158570289611816 0.18759658932685852\n",
            "Công_nghệ --> 0.26876118779182434 0.16754238307476044 -0.39318883419036865 -0.3008417785167694 -0.15068300068378448 -0.5581684112548828 0.23878803849220276 0.5303978323936462 -0.4083139896392822 0.010116644203662872 -0.49371808767318726 -0.10559751093387604 0.160978764295578 -0.21395620703697205 -0.02167115919291973 -0.10771249979734421 0.4252192974090576 0.33060675859451294 0.08279766887426376 0.20160390436649323 -0.08806295692920685 -0.1576993763446808 0.7670590281486511 0.6772956252098083 -0.4058588445186615 0.19160732626914978 -0.09613513946533203 0.25573569536209106 -0.6398627161979675 0.4353400468826294 0.20861537754535675 -0.2975803315639496 -0.20204751193523407 -0.4495701193809509 0.44615864753723145 0.2520122230052948 0.0808653011918068 -0.09574081003665924 0.46621665358543396 0.028782159090042114 -0.6067948937416077 -0.08818262070417404 0.6829895377159119 -0.11164487153291702 -0.44564753770828247 -0.10700983554124832 0.11821813136339188 0.7061605453491211 -0.18172095715999603 0.24890701472759247 -0.0562657006084919 0.10100015997886658 -0.021064812317490578 -0.5915595293045044 0.25682833790779114 -0.18823841214179993 0.276364803314209 -0.39250868558883667 0.5809716582298279 0.22924284636974335 -0.06598357111215591 -0.47792571783065796 0.4879884123802185 0.11487679183483124 0.5293744206428528 -0.014667636714875698 -0.38248616456985474 0.082889623939991 -0.3058086335659027 -0.06576986610889435 0.29135099053382874 0.1631610244512558 0.07503698021173477 -0.03595098480582237 -0.31069415807724 -0.45882248878479004 0.1843274086713791 -0.04349695146083832 0.0036275945603847504 0.10342979431152344 -0.40539664030075073 -0.24975477159023285 -0.045342154800891876 -0.0008755463059060276 -0.1048402339220047 0.8000160455703735 -0.7834978103637695 -0.025055410340428352 -0.1491101235151291 -0.17246407270431519 0.08104108273983002 0.14675405621528625 -0.2997680902481079 -0.15289020538330078 0.40516504645347595 0.4332565367221832 0.39079588651657104 -0.22241367399692535 0.01840701326727867 0.0315263457596302 -0.5074542164802551 -0.17397288978099823 0.105045847594738 0.3147945702075958 -0.5017101168632507 -0.014058198779821396 0.0930405780673027 0.6645842790603638 0.024888018146157265 -0.21203193068504333 0.5284261703491211 0.0037741847336292267 -0.48738986253738403 -0.22634148597717285 0.16032510995864868 -0.18455874919891357 -0.12626373767852783 -0.4673796594142914 0.03743348643183708 -0.20382609963417053 -0.32206302881240845 0.12301840633153915 0.0890827402472496 0.23534981906414032 0.5893698334693909 0.5515707731246948 -0.033669788390398026 -0.09246109426021576 -0.5916704535484314 0.5989799499511719 -0.12281323224306107 -0.7194879651069641 0.03084808774292469 -0.40262484550476074 -0.09033297002315521 0.13063263893127441 0.21248359978199005 -0.5203680992126465 -0.3772135078907013 0.3344380855560303 -0.12432797253131866 0.5484546422958374 -0.08030685037374496 -0.5702071189880371 -1.289746642112732 -0.4179163873195648 0.730991542339325 -0.19894488155841827 -0.24100977182388306 0.34328699111938477 0.17487388849258423 0.22952690720558167 -0.24750152230262756 0.1820778250694275 0.10489078611135483 -0.4202727675437927 0.12149416655302048 -0.020382864400744438 -0.6677882075309753 0.6223453283309937 0.268988698720932 0.007397871930152178 0.7182229161262512 0.4812925457954407 -0.17614078521728516 -0.2983737289905548 0.250714510679245 -0.08537822216749191 -0.1340896487236023 0.7521498203277588 -0.17045892775058746 0.026404133066534996 -0.12749284505844116 -0.4959695637226105 0.6553086042404175 0.17879310250282288 -0.19830448925495148 -0.13148824870586395 0.31471848487854004 0.3318486213684082 0.2248561531305313 0.3385871350765228 0.19401994347572327 0.16764284670352936 -0.7875556945800781 -0.17752885818481445 -0.3886042535305023 0.01525732222944498 -0.2398960292339325 -0.45217540860176086 -0.011681721545755863 -0.268025666475296 -0.14500826597213745 0.46979373693466187 -0.4241452217102051 -0.02319939061999321 -0.5104271173477173 0.009867130778729916 -0.12149535864591599 -0.08298678696155548 1.122201919555664 -0.732345461845398 0.4983513355255127 0.054768241941928864 -0.8901132345199585 -0.21373972296714783 -0.1339409053325653 0.2168363332748413 -0.07672884315252304 -0.5823128819465637 0.4624776840209961 -0.1207757368683815 0.19979417324066162 0.36974474787712097 -0.2612783908843994 -0.8238415718078613 0.5854563117027283 0.502467930316925 -0.10124003887176514 -0.3320763111114502 -0.4860675632953644 -0.24853631854057312 0.17090366780757904 -0.7873289585113525 0.5971013903617859 0.5260080099105835 0.6084813475608826 -0.24835409224033356 0.4715012311935425 0.16489189863204956 -0.12150781601667404 0.03006492741405964 0.061015497893095016 -0.6048587560653687 -0.05792578309774399 -0.10620241612195969 -0.08036747574806213 0.010401817038655281 -0.09027567505836487 0.10645228624343872 -0.17530956864356995 -0.09395670145750046 -0.6689493656158447 0.27196967601776123 0.22304481267929077 -0.1519506871700287 0.6085590720176697 0.4625450074672699 -1.0982905626296997 -0.6471558809280396 0.4456053674221039 0.48518699407577515 0.3538191318511963 0.3032595217227936 0.2017042189836502 0.5428383350372314 0.1677466183900833 0.05673941224813461 -0.14233843982219696 0.4623912572860718 -0.20118901133537292 0.19504307210445404 0.03740021586418152 0.08140521496534348 0.40591537952423096 -0.36515265703201294 0.6296555399894714 0.020602840930223465 0.23351386189460754 -0.10625726729631424 -0.2724817991256714 0.7634819746017456 -0.24081973731517792 -0.7845442891120911 0.10516107827425003 0.06837195158004761 0.49231454730033875 -0.16907645761966705 0.4179271161556244 -0.01624862477183342 -0.2479763776063919 -0.33859583735466003 0.1338057816028595 -0.4982309341430664 0.20735372602939606 -0.025691431015729904 -0.4201197624206543 0.42115890979766846 0.046658966690301895 0.11251907795667648 0.5795494318008423 -0.600307285785675 0.12696652114391327 0.6519181132316589 -0.09748325496912003 0.8188682198524475 0.06563722342252731 0.09971684962511063 0.39127883315086365 0.12154832482337952 0.030455879867076874 0.28210023045539856 -0.3411913812160492 0.6818898320198059 0.21710637211799622 0.14539621770381927 -0.8107479810714722 0.2636507749557495 -0.47887885570526123 -0.3213042616844177 -0.22495730221271515 -0.13262693583965302 -0.07301734387874603 0.022700881585478783 -0.09697024524211884 0.5560713410377502 -0.5709341168403625 -0.28917330503463745 -0.05479978024959564 0.45238563418388367 -0.230686217546463 0.14825525879859924 -0.5782329440116882 0.5870545506477356 -0.8621121048927307 -0.16749133169651031 0.18422850966453552 -0.1438097208738327 0.4574584364891052 0.2160971313714981 0.017012903466820717 -0.42938947677612305 0.17388057708740234 0.07469424605369568 0.5832635164260864 -0.18200837075710297 0.06701403856277466 0.32438594102859497 -1.335894227027893 0.09092739224433899 0.25070151686668396 0.02596215344965458 -0.001022260868921876 -0.08193834125995636 -0.9181128144264221 0.3766772747039795 -1.038143277168274 -0.30867472290992737 0.09477781504392624 0.4109640419483185 0.06417251378297806 -0.36328020691871643 -0.4175315201282501 -0.28805801272392273 -0.35680437088012695 -0.08201035857200623 -0.16841241717338562 0.21773816645145416 0.32937461137771606 0.008328157477080822 0.2726071774959564 -0.037290994077920914 0.7470945119857788 0.24266789853572845 0.3815493881702423 -0.09702081233263016 0.18266178667545319 0.052303995937108994 0.16957268118858337 0.3283964991569519 0.20506152510643005 -0.008870149031281471 0.08055344223976135 0.2948998510837555 -0.4695810377597809 0.0539841465651989 0.28209009766578674 0.21479105949401855 0.06276276707649231 -0.10309529304504395 0.28327682614326477 0.3135169744491577 -0.5210855007171631 0.3886871337890625 -0.41592854261398315 0.5071836113929749 0.04488445073366165 -0.7469658255577087 0.15494099259376526 -0.1679733395576477 -0.053301285952329636 0.4898635745048523 0.39568719267845154 -0.31902235746383667 -0.025258032605051994 0.19772695004940033 0.29100242257118225 0.054921720176935196 -0.10511863231658936 0.6148864030838013 -0.7132632732391357 -0.1634565144777298 0.6618723273277283 0.0035608536563813686 0.2721688151359558 0.208860844373703 -0.15228873491287231 0.46423351764678955 -0.4478767514228821 0.6554874777793884 0.3032592833042145 1.3407411575317383 0.6968516707420349 1.3151715993881226 -0.07665059715509415 0.28393256664276123 -0.0687023177742958 0.16846013069152832 0.1317584216594696 -0.21080385148525238 -0.10935944318771362 -0.9100731015205383 0.43925151228904724 -0.26705464720726013 0.2312353551387787 0.22579486668109894 0.21840673685073853 0.051257677376270294 0.41544726490974426 -0.2768014967441559 -0.3130120635032654 -0.7982595562934875 0.8808200359344482 -0.545335590839386 -0.16694697737693787 0.670795738697052 0.472090482711792 0.17346270382404327 0.17241258919239044 -0.04810408875346184 0.18937575817108154 0.8108008503913879 0.16622310876846313 -0.5380016565322876 0.17194880545139313 -0.2685326635837555 0.2672707736492157 1.2763206958770752 0.21417246758937836 1.430141806602478 -0.38071146607398987 -0.4208078682422638 -0.3352564573287964 -0.42019572854042053 0.5574811100959778 -0.031927239149808884 -0.06707191467285156 0.5720374584197998 -0.09499307721853256 -0.004865582566708326 0.30384787917137146 0.49147719144821167 0.2103322446346283 0.9229164123535156 0.14934292435646057 0.4550461173057556 -0.3326990008354187 0.022267896682024002 -0.27374720573425293 -0.22014763951301575 0.34805452823638916 -0.04445715621113777 -0.1054675281047821 -0.08304610103368759 0.058090999722480774 -0.1420915573835373 0.11969009041786194 -0.4478645324707031 -0.13695216178894043 -0.5660448670387268 -0.004889618139714003 -0.41317370533943176 0.4985204041004181 0.014450594782829285 0.16155113279819489 -0.10122369229793549 0.08185747265815735 -0.31768590211868286 -0.2822085916996002 0.23636354506015778 -0.9605038166046143 0.05784819275140762 0.5226985216140747 -0.19449476897716522 0.1906752586364746 0.3076745569705963 0.4750751554965973 0.64345782995224 -0.0005577537813223898 -0.34746143221855164 -0.995229959487915 0.03843133896589279 -0.22887609899044037 -0.1232767254114151 0.9669352769851685 0.3989013135433197 -0.09529845416545868 0.22800809144973755 0.16646534204483032 -0.12150166183710098 0.015008566901087761 -0.06530793011188507 -0.2184973806142807 0.2915947735309601 -0.22963793575763702 -0.2910737991333008 -0.029743773862719536 0.02266739495098591 -1.0567550659179688 0.4021517038345337 0.09478919208049774 -0.30095571279525757 0.3489760756492615 -0.29848673939704895 0.6329508423805237 -0.17590713500976562 -0.4245999753475189 0.08266653120517731 0.43059495091438293 -0.08654084801673889 0.3316844701766968 -0.17628729343414307 0.6497173309326172 -0.642699658870697 0.057713013142347336 0.07201728969812393 -0.3372761309146881 0.1513892412185669 -0.18643516302108765 0.2741885483264923 0.2700624167919159 -0.27484744787216187 0.26948031783103943 -0.18340960144996643 -0.5454040169715881 -0.06751871854066849 0.31696784496307373 0.1626303642988205 0.32293498516082764 -0.5501084923744202 0.23567305505275726 0.1906563937664032 0.2043028622865677 0.5748358368873596 -0.5633625984191895 0.049283843487501144 0.7305208444595337 -0.5824831128120422 0.22995086014270782 0.1869204342365265 0.27267777919769287 -0.11298707127571106 0.32965222001075745 0.5731752514839172 0.3309558629989624 -0.47069236636161804 -0.108474001288414 -0.07557740062475204 0.09333841502666473 -0.13231144845485687 0.38210973143577576 -0.1125536635518074 -0.4148435890674591 0.088253915309906 -0.3123917281627655 0.7006002068519592 -0.11397481709718704 0.041392982006073 0.4088013470172882 -0.4818241000175476 0.25584784150123596 0.008473141118884087 -0.8351552486419678 0.39519721269607544 0.5910584330558777 0.20666025578975677 0.2018302083015442 0.10977119207382202 0.1938130408525467 -0.06749030202627182 0.5684058666229248 0.7112216949462891 -0.1685599386692047 -0.30481937527656555 0.006106825545430183 -0.05875736474990845 -0.17561377584934235 0.8582704067230225 0.28784480690956116 -0.10105477273464203 -0.12440923601388931 0.13119463622570038 0.43788471817970276 0.3570677936077118 0.2239384949207306 0.31977057456970215 0.2949325740337372 0.08228149265050888 -0.19055043160915375 0.17711663246154785 0.03985283523797989 0.28655242919921875 -0.33522263169288635 0.7055609226226807 -0.213534876704216 0.10845007002353668 0.14460259675979614 -0.34641769528388977 -0.6357182264328003 -0.3078468441963196 0.3653406500816345 0.07812454551458359 -0.28454747796058655 0.5042639374732971 -0.009404493495821953 0.5483391284942627 -0.7502060532569885 -0.2671058475971222 0.21281041204929352 0.1309352070093155 -0.12295904010534286 -0.21995507180690765 0.5475945472717285 0.6281350255012512 -0.14923927187919617 -0.6017731428146362 -0.49691563844680786 0.44733935594558716 -0.7040291428565979 0.1832883507013321 0.30923187732696533 0.33203020691871643 0.1500641256570816 -0.3307029902935028 -0.2601398825645447 0.20453284680843353 0.6657351851463318 0.42848047614097595 0.18516679108142853 0.6728674173355103 0.06131308153271675 0.6968426704406738 -0.268537312746048 0.45973631739616394 -0.03706737980246544 -0.11445513367652893 0.3253517746925354 -0.18070976436138153 0.6516491770744324 -0.07118541747331619 -0.5862306356430054 -0.2928325831890106 -0.6790063381195068 0.436363160610199 -0.06970882415771484 0.3576848804950714 0.3325853943824768 -0.18784542381763458 0.20649860799312592 -0.036319077014923096 0.07310019433498383 0.32283225655555725 -0.326569139957428 -0.5674318075180054 -0.28469234704971313 -0.14250867068767548 0.6212092041969299 -0.26989343762397766 0.274631530046463 0.04155586659908295 -0.51025390625 0.07359505444765091 0.1959223747253418 -0.08269482105970383 0.3578677773475647 0.2050033062696457 0.04958686605095863 0.011565189808607101 0.36890745162963867 0.23661266267299652 0.5131629705429077 -0.11856764554977417 0.48877260088920593 -0.019380049780011177 0.4152910113334656 -0.2970927357673645 -0.011830153875052929 -0.24981728196144104 0.060403432697057724 0.6431894302368164 -0.06008058041334152 -0.1175973042845726 0.28373047709465027 0.2630806267261505 0.04860769584774971 0.013403634540736675 0.030505187809467316 0.37847328186035156 0.3726411759853363 0.022540928795933723 0.010183878242969513 0.25827673077583313 -0.2252577692270279 0.38189059495925903 -0.21656492352485657 0.27030014991760254 0.5804758667945862 -0.6259133815765381 -0.2659517824649811 -0.6121886372566223 -0.4494238793849945 0.035294704139232635 0.2247275859117508 -0.2451193928718567 0.16141949594020844 -0.31208980083465576 0.41096317768096924 0.03990386426448822 0.5429463982582092 0.4666668474674225 0.21956437826156616 -0.1396956443786621 -0.2714540362358093 0.32515448331832886 -0.30410513281822205 -0.12752413749694824 -0.18601378798484802 0.3722674548625946 0.21144993603229523 0.30901336669921875 -0.6373512744903564 -0.1306568682193756 0.3079729676246643 0.025783304125070572 -0.2630164921283722 -0.16808010637760162 0.3819775879383087 -0.08818381279706955 -0.34014803171157837 -0.27021241188049316 -0.2937052547931671 0.21317648887634277 0.3539223372936249 0.15579754114151 -0.1477348804473877 0.26688528060913086 -0.8774363398551941 0.4296049475669861 0.31395313143730164 0.5389869213104248 -0.0585673451423645 0.4297023117542267 -0.15494988858699799 -0.267341285943985 -0.1358771026134491 0.22949498891830444 -0.1911543309688568 0.04940136522054672\n",
            ". --> -0.31457221508026123 1.0226353406906128 -0.12312094867229462 -0.7562216520309448 -0.28594067692756653 0.3766307234764099 -1.0984386205673218 -0.05284305661916733 -0.19416482746601105 0.17388421297073364 0.006758066359907389 0.8314185738563538 -0.13246549665927887 -0.3034977614879608 -0.11385004967451096 0.009725009091198444 0.31768250465393066 0.7085569500923157 -0.5507754683494568 0.06638891249895096 0.11225979030132294 0.19231268763542175 -0.20214423537254333 0.17798268795013428 -0.4172906279563904 -0.5248273015022278 0.12596139311790466 0.33163270354270935 0.4558682143688202 -0.20567889511585236 -0.2571679949760437 -0.16397994756698608 0.08758893609046936 -0.4831658601760864 0.6189290881156921 0.3894164562225342 -0.13366885483264923 -0.4278329610824585 -0.2600151300430298 -0.028927823528647423 -0.13138243556022644 0.5955081582069397 0.8126673698425293 0.1531638354063034 0.2962872385978699 0.2842298448085785 -0.13893552124500275 -0.04849730432033539 0.48907774686813354 0.3316733241081238 -0.6666226387023926 -0.260680615901947 -0.1751321703195572 0.5312073230743408 1.1389538049697876 0.17206136882305145 -0.3537188768386841 0.46492233872413635 0.29248493909835815 -0.23068350553512573 0.20011813938617706 0.14740899205207825 -0.22994022071361542 -0.11571722477674484 -0.0738457590341568 0.10580751299858093 -0.14503908157348633 0.22106759250164032 -0.034702595323324203 0.31221821904182434 0.732505738735199 -0.3011406362056732 -0.006215941626578569 0.003694388782605529 -0.2568303048610687 -0.6399102807044983 -0.7368928790092468 0.8328291773796082 -0.0911702886223793 0.17113280296325684 0.0527111291885376 -0.293000191450119 0.09647896140813828 0.1384151130914688 0.06599155813455582 0.2693580985069275 0.2695910334587097 -0.18868868052959442 -0.5300037860870361 0.2517782151699066 0.0765024870634079 0.07363621145486832 0.11658602207899094 0.5141952037811279 0.3169427812099457 0.2646924555301666 0.7023473978042603 -0.37942227721214294 1.210775375366211 0.41295313835144043 -0.31072109937667847 0.5336204767227173 0.3285677433013916 -0.213349387049675 0.2407039999961853 -0.8319509029388428 0.40113261342048645 -0.10976411402225494 0.2881174087524414 0.3680782616138458 0.21185019612312317 0.11927555501461029 -0.11066503077745438 0.2349117249250412 -0.3792665898799896 0.09651124477386475 -0.8555489182472229 0.1334197223186493 -0.37106555700302124 0.13086764514446259 0.07705745846033096 -0.6621566414833069 0.020773867145180702 0.18375027179718018 0.11470723897218704 0.007764996960759163 0.05474356934428215 -0.2601098120212555 -0.00043614773312583566 0.42997878789901733 0.010351259261369705 -1.396683931350708 -0.24385274946689606 0.16157640516757965 -0.3372156023979187 -0.4401278495788574 0.5428785681724548 0.30137571692466736 -0.6062977313995361 -0.387043297290802 0.1788969188928604 -0.4267991781234741 -0.027214255183935165 0.1525527536869049 -0.2105897217988968 -0.4267823100090027 0.32357630133628845 -0.26050686836242676 -0.37225931882858276 -0.1204151064157486 -0.6369667053222656 -0.01624651998281479 -0.6680886149406433 0.09148088842630386 0.5893824100494385 0.029396284371614456 -0.34571439027786255 0.6247696280479431 0.43024662137031555 0.3928121030330658 0.402762234210968 -0.8737013936042786 -0.6605886220932007 0.45035842061042786 0.15395000576972961 -0.02797769196331501 -0.8429983258247375 0.2675788998603821 0.8606211543083191 0.11167675256729126 0.14180444180965424 -0.06492883712053299 0.3296676576137543 -0.11169835925102234 0.16163195669651031 0.4291265308856964 0.20966190099716187 0.5051034092903137 -0.23242954909801483 -0.2230534851551056 -0.018506888300180435 -0.1399097591638565 0.10776212066411972 0.2751409113407135 0.16098493337631226 -0.708301842212677 -0.04482867568731308 -1.1023194789886475 0.011139667592942715 -0.5753753185272217 0.23544378578662872 0.1838458925485611 0.1274237483739853 0.38742274045944214 -0.49230778217315674 0.010099759325385094 -0.06469441205263138 -0.2633633613586426 -0.5130355954170227 -0.306427001953125 -0.38131362199783325 0.04656359180808067 0.7233255505561829 -0.13431106507778168 -1.113326907157898 0.053591590374708176 -0.012470601126551628 0.12664733827114105 0.23791912198066711 0.5965955257415771 0.3322693705558777 0.7965407371520996 0.6250246167182922 0.4561675190925598 -0.2862537205219269 -0.7259992957115173 0.4187493920326233 0.10067731887102127 -0.3979951739311218 -0.14659488201141357 0.15246568620204926 -0.273276150226593 -0.6601836681365967 0.3166465759277344 -0.19189439713954926 0.61478590965271 -0.01640305668115616 -0.5227755308151245 0.28423717617988586 0.16338388621807098 -0.05502728372812271 0.3765353560447693 0.07838527858257294 -0.028114793822169304 0.04255490005016327 0.12707559764385223 0.19581113755702972 -0.2060905396938324 0.09605405479669571 0.21106992661952972 0.33051401376724243 -0.05487693473696709 -0.7064625024795532 -0.013925592415034771 -0.13727150857448578 0.6714358329772949 -0.12384811043739319 -0.1267419308423996 -1.0963268280029297 0.11687638610601425 0.5919699668884277 0.4915464222431183 0.6232373714447021 0.0252563264220953 0.002065302338451147 0.07758209109306335 -0.3699367046356201 -0.27805188298225403 -0.3945443630218506 -0.14506813883781433 0.535542368888855 0.4020901322364807 -0.20700803399085999 -0.12248104065656662 -0.15410171449184418 -0.23482616245746613 1.1871528625488281 -0.21952129900455475 0.03125040605664253 0.2750273644924164 -0.17075863480567932 0.09115935117006302 0.04489178955554962 0.2946491241455078 -0.3090629577636719 0.2793160080909729 0.23915965855121613 0.39200204610824585 0.38557982444763184 0.7636086940765381 0.02387242577970028 0.1918932944536209 0.1669737547636032 -0.13640634715557098 0.34187793731689453 0.6362558603286743 0.3408208191394806 0.12445578724145889 -0.6136613488197327 0.6340303421020508 -0.7613951563835144 -0.0501466803252697 0.299722284078598 -0.09802554547786713 -0.18313997983932495 0.13191251456737518 -0.14415623247623444 -0.15108047425746918 0.3679404854774475 -1.1492079496383667 -0.49454501271247864 0.2119617909193039 0.6648254990577698 -0.4096531271934509 -0.35627275705337524 0.492761492729187 0.3460032343864441 -0.1408718228340149 0.09886264055967331 -0.2919306457042694 -0.5634815692901611 -0.543697714805603 0.5705195665359497 0.09388574212789536 -0.7292414307594299 0.344991534948349 0.06121145933866501 -0.30011776089668274 -0.5294336080551147 -0.22987228631973267 -0.34142908453941345 -0.3613368570804596 -0.2898067533969879 0.39246290922164917 0.6415728330612183 -0.025519169867038727 0.5665412545204163 0.15112845599651337 -0.01161094568669796 0.42605626583099365 -0.4152926504611969 -0.04577502980828285 0.5842231512069702 -0.1941867470741272 -0.49547258019447327 0.6336162090301514 -0.052266675978899 -0.15579570829868317 -0.8404862880706787 -0.2012380212545395 -0.088541679084301 -0.5981966257095337 -0.184820294380188 0.44215452671051025 0.6930868625640869 -0.06590624153614044 0.1824338287115097 0.28861409425735474 0.4283815324306488 -0.13785743713378906 -0.16273291409015656 -0.18288317322731018 -0.06623529642820358 0.2784673869609833 -0.172441303730011 -0.36799368262290955 -0.12956012785434723 0.029639549553394318 0.31795281171798706 0.06257417798042297 -0.4412461221218109 -0.34898078441619873 0.33257460594177246 0.3461882770061493 0.4897599220275879 -0.5507900714874268 -0.23969779908657074 0.48573026061058044 -0.01791929267346859 -0.5720835328102112 -0.23058776557445526 -0.0014078515814617276 0.10634412616491318 0.11666306108236313 0.00940761249512434 -0.25997504591941833 0.032376669347286224 -0.5362206697463989 0.5159862637519836 0.3099829852581024 -0.2532588243484497 0.17719371616840363 -0.5790442228317261 -0.23505182564258575 0.2805005609989166 0.32282301783561707 0.5525761842727661 0.07201161980628967 0.06991151720285416 0.10728318989276886 0.06882871687412262 -0.20546327531337738 -0.39662736654281616 -0.37438952922821045 -0.01689186505973339 0.6110665202140808 0.29131442308425903 0.2031397670507431 -0.099216528236866 0.2402108609676361 0.5821294188499451 0.2743052542209625 -0.11440590769052505 -0.39601147174835205 0.1158454641699791 0.06511279940605164 -0.02975562959909439 -0.26857778429985046 -0.21164943277835846 0.25711092352867126 -0.6593905687332153 0.938023030757904 0.0880395919084549 0.43252021074295044 0.4137568771839142 -0.6209349036216736 0.16772407293319702 -0.15789732336997986 0.12980985641479492 -0.4667087495326996 -0.358023464679718 -0.4689983129501343 0.22002975642681122 0.07432331144809723 0.5954785346984863 0.0077876560389995575 -0.021455472335219383 -0.2391059696674347 0.26403868198394775 -0.10551032423973083 -0.4216800034046173 -0.07443174719810486 0.0002629695227369666 -0.49680256843566895 0.6414371132850647 0.4020313620567322 -0.34678488969802856 0.20666266977787018 0.25142568349838257 -0.6357256174087524 0.4453015625476837 0.44060957431793213 -0.12915095686912537 -0.2085692435503006 -0.422623872756958 -0.073490209877491 0.7883414030075073 -0.0808539018034935 0.16889922320842743 0.04653707146644592 -0.47485804557800293 -0.16186852753162384 -0.029610993340611458 -0.5747712850570679 0.5238420367240906 0.2759553790092468 0.1725224256515503 -0.2109660655260086 0.2305825650691986 0.4048905670642853 0.4086844325065613 0.680840253829956 0.387669175863266 -0.06589091569185257 -0.23972728848457336 0.698359489440918 -0.009479383006691933 -0.2488662451505661 -0.40430667996406555 -0.345664381980896 0.02922283671796322 0.7544558048248291 0.3679758310317993 0.09232502430677414 0.4055989682674408 0.17835484445095062 0.2514147162437439 0.3029348850250244 -0.04811495542526245 0.36469724774360657 0.29524749517440796 -0.3478245437145233 -0.30330827832221985 0.08611695468425751 0.08456985652446747 -0.3718967139720917 -0.20000506937503815 0.619816780090332 0.026104040443897247 -0.12427321821451187 -0.326378732919693 0.6422871947288513 0.9558504819869995 0.4014045000076294 -0.08737301826477051 0.3880053162574768 0.5046347379684448 0.15043102204799652 -0.3416762053966522 -0.4982278645038605 -0.15475009381771088 0.04948587343096733 -0.29822781682014465 -0.25897216796875 0.7943232655525208 0.6739868521690369 0.7444299459457397 0.14783510565757751 0.27889901399612427 -0.0019519272027537227 -0.014815133064985275 0.15849067270755768 -0.11204764246940613 0.306759774684906 -0.24174922704696655 0.6024317145347595 -0.33723151683807373 -0.2503688335418701 0.14300334453582764 0.2831873297691345 -0.20536388456821442 -0.10231515020132065 -0.29122987389564514 -0.06867802888154984 -0.8796143531799316 -0.3716760575771332 -0.504525899887085 0.5754473805427551 0.5873861312866211 0.20804649591445923 -0.2257448136806488 -0.07911086082458496 0.2921726703643799 0.7150149345397949 -0.09421693533658981 -0.0077514550648629665 0.48437270522117615 -0.17486414313316345 -0.1989867389202118 0.09660681337118149 0.6965106725692749 -0.2961048185825348 0.289623886346817 0.14959578216075897 -0.2813151478767395 -0.31762686371803284 0.09984306246042252 0.7519283294677734 -0.13906137645244598 -0.2917655110359192 0.02851753495633602 -0.19221092760562897 0.4584130048751831 -0.05199791491031647 -0.696332573890686 -0.12529256939888 0.32473549246788025 0.30784156918525696 0.1466907262802124 -0.07910462468862534 0.10844704508781433 -0.1085483729839325 0.5496651530265808 0.27513226866722107 0.05341542512178421 -0.16944892704486847 0.12809830904006958 0.26504045724868774 -0.21636319160461426 0.13510115444660187 0.12580128014087677 0.04380057007074356 0.2824383080005646 -0.23125340044498444 -0.2094270884990692 0.572037935256958 0.2187119573354721 0.5241993069648743 -0.26293545961380005 -0.3147224187850952 -0.14250433444976807 -0.17922762036323547 0.6344503164291382 0.56166672706604 0.06399019062519073 -0.4219220280647278 -0.5016423463821411 0.22691676020622253 0.3072798252105713 -0.18870194256305695 1.9125311374664307 0.2170868068933487 0.0029399346094578505 0.2765061557292938 0.4647102653980255 -0.21445611119270325 -0.09025222063064575 0.7619300484657288 0.06465885788202286 0.1880360245704651 0.34346047043800354 -0.02026730589568615 0.03734264150261879 -0.24569110572338104 0.2045825719833374 -0.4954913854598999 -0.11711224913597107 -0.4622838795185089 0.16912828385829926 -0.4593003988265991 -1.593431830406189 -0.19393907487392426 -0.0058167423121631145 -0.2377375364303589 -0.4860277473926544 0.20435196161270142 0.2700681686401367 -0.05540197715163231 -0.41933855414390564 -0.14032812416553497 -0.27466338872909546 0.35081228613853455 -0.6022635698318481 0.25942614674568176 0.3268400728702545 0.18212735652923584 -0.2653923034667969 -0.07648427784442902 0.19878734648227692 0.45667165517807007 -0.07761253416538239 -0.6463699340820312 -0.46692848205566406 0.08786231279373169 0.20053988695144653 -0.449969083070755 -0.6454660892486572 0.2025315761566162 0.2942637503147125 0.12138764560222626 0.3440019488334656 0.2434280961751938 0.23486296832561493 -0.2925155460834503 -0.016541415825486183 0.6250754594802856 -0.158449187874794 0.32554030418395996 0.7840935587882996 0.03907158970832825 -0.011875048279762268 0.39929693937301636 0.14028224349021912 -0.21228808164596558 0.12933501601219177 -0.08897503465414047 -0.3088236451148987 0.10464588552713394 0.41238221526145935 0.5739995837211609 -0.08804535120725632 -0.010357401333749294 0.11474546045064926 -0.07359065115451813 0.1848451793193817 -0.09702429175376892 0.1714436411857605 -0.6876317262649536 0.04120844975113869 -0.058213960379362106 -0.2699396312236786 0.23691195249557495 0.1952422708272934 0.5638213157653809 0.5880120992660522 -0.675672709941864 -0.016827289015054703 0.45756784081459045 -0.9072616100311279 0.3458794951438904 0.32546770572662354 0.370312362909317 0.3076910078525543 -0.005099653732031584 0.5585440993309021 -0.18193304538726807 -0.2364962249994278 0.23185397684574127 0.024277016520500183 -0.4624848961830139 0.027612771838903427 0.3083086907863617 0.27476587891578674 0.16257639229297638 0.2165435552597046 -0.37212875485420227 -0.18732930719852448 0.38122257590293884 -0.61411452293396 0.23052337765693665 0.8900716304779053 0.09334670007228851 0.19004008173942566 0.5642821788787842 -0.3242094814777374 0.24331429600715637 0.4247552752494812 0.29364901781082153 0.10228154808282852 0.172772616147995 -0.18624086678028107 0.14916925132274628 0.06274320185184479 0.5013431310653687 0.2599110007286072 -0.3979644477367401 0.27568161487579346 0.36358699202537537 0.07933937758207321 0.37269872426986694 -0.2354779690504074 -0.2677323520183563 -0.42184874415397644 -0.3252754807472229 0.3842819035053253 0.0852535218000412 0.5109487175941467 0.2540312707424164 -0.2705497443675995 0.41619038581848145 0.5268716812133789 -0.5124443173408508 -0.40757304430007935 0.26876452565193176 -0.41672077775001526 -0.38007181882858276 0.019209416583180428 -0.17245624959468842 0.0043624406680464745 0.8541600108146667 -0.21761301159858704 0.241814523935318 -0.08684559911489487 0.0687277689576149 -0.2938097417354584 0.09457620978355408 0.20448103547096252 0.27736884355545044 -0.2998562455177307 0.0048008752055466175 -0.4230177402496338 0.038366030901670456 0.13567326962947845 0.11257568746805191 0.1354626566171646 0.17499569058418274 -0.5928460955619812 0.09038026630878448 0.3449823260307312 0.0879368707537651 -0.29592421650886536 0.5695379376411438 -0.38289815187454224 0.3640197515487671 0.17089244723320007 0.09119106084108353 0.009616170078516006 -0.4131266176700592\n"
          ],
          "name": "stdout"
        }
      ]
    },
    {
      "cell_type": "code",
      "metadata": {
        "id": "Jao7tjVsnJKD"
      },
      "source": [
        "label_names = ['Chinh tri Xa hoi','Doi song','Khoa hoc','Kinh doanh','Phap luat','Suc khoe','The gioi','The thao','Van hoa','Vi tinh']"
      ],
      "execution_count": null,
      "outputs": []
    },
    {
      "cell_type": "code",
      "metadata": {
        "id": "VvCDMv-4yg2k"
      },
      "source": [
        "train_path = '/content/drive/MyDrive/VNPT/ChatbotATTT/VNTCData/Train_Full/*/*.txt'\n",
        "test_path = '/content/drive/MyDrive/VNPT/ChatbotATTT/VNTCData/Test_Full/Test_Full/*/*.txt'"
      ],
      "execution_count": null,
      "outputs": []
    },
    {
      "cell_type": "code",
      "metadata": {
        "id": "tC3SBQuMtLbZ"
      },
      "source": [
        "import glob2\n",
        "from tqdm import tqdm\n",
        "\n",
        "train_path = '/content/drive/MyDrive/VNPT/ChatbotATTT/VNTCData/Train_Full/*/*.txt'\n",
        "test_path = '/content/drive/MyDrive/VNPT/ChatbotATTT/VNTCData/Test_Full/Test_Full/*/*.txt'\n",
        "\n",
        "# Hàm đọc file txt\n",
        "def read_txt(path):\n",
        "  with open(path, 'r', encoding='utf-16') as f:\n",
        "    data = f.read()\n",
        "  return data\n",
        "\n",
        "# Hàm tạo dữ liệu huấn luyện cho tập train và test\n",
        "def make_data(path):\n",
        "  texts = []\n",
        "  labels = []\n",
        "  for file_path in tqdm(glob2.glob(train_path)):\n",
        "    try:\n",
        "      content = read_txt(file_path)\n",
        "      label = file_path.split('/')[1]\n",
        "      texts.append(content)\n",
        "      labels.append(label)\n",
        "    except:\n",
        "      next\n",
        "  return texts, labels\n",
        "\n",
        "text_train, label_train = make_data(train_path)\n",
        "text_test, label_test = make_data(test_path)\n"
      ],
      "execution_count": null,
      "outputs": []
    },
    {
      "cell_type": "code",
      "metadata": {
        "id": "SiQ6e4P8u_Ax"
      },
      "source": [
        "import os\n",
        "from tqdm import tqdm\n",
        "import numpy as np\n",
        "\n",
        "# Hàm đọc file txt\n",
        "def read_txt(path):\n",
        "  with open(path, 'r', encoding='utf-16') as f:\n",
        "    data = f.read()\n",
        "  return data\n",
        "\n",
        "def loaddata(dataset, num):\n",
        "    texts = []\n",
        "    labels = []   \n",
        "    #lặp qua các folder trong thư mục datasets\n",
        "    # count = np.array([0,0,0,0,0,0,0,0,0,0 ], dtype = 'int32')\n",
        "    i = 0\n",
        "    for folder in os.listdir(dataset):\n",
        "\n",
        "        if folder in ['Chinh tri Xa hoi']: label = 0\n",
        "        elif folder in ['Doi song']: label = 1\n",
        "        # elif folder in ['Khoa hoc']: label = 2\n",
        "        # elif folder in ['Kinh doanh']: label = 3\n",
        "        # elif folder in ['Phap luat']: label = 4\n",
        "        # elif folder in ['Suc khoe']: label = 5\n",
        "        # elif folder in ['The gioi']: label = 6\n",
        "        # elif folder in ['The thao']: label = 7\n",
        "        # elif folder in ['Van hoa']: label = 8\n",
        "        # elif folder in ['Vi tinh']: label = 9\n",
        "        if i <10:  \n",
        "          count = 0\n",
        "          i+=1\n",
        "          for file in tqdm(os.listdir(os.path.join(dataset, folder))):\n",
        "\n",
        "              path_ = os.path.join(os.path.join(dataset, folder), file)\n",
        "\n",
        "              if count < 1000:  \n",
        "                content = read_txt(path_)\n",
        "                # label = path_.split('/')[num]\n",
        "                # [0]\n",
        "\n",
        "                texts.append(content)\n",
        "                labels.append(label)\n",
        "                count +=1\n",
        "          \n",
        "    return texts, labels\n"
      ],
      "execution_count": null,
      "outputs": []
    },
    {
      "cell_type": "code",
      "metadata": {
        "id": "epCkCgJwyaBw"
      },
      "source": [
        "text_train_, label_train_ = loaddata('/content/drive/MyDrive/VNPT/ChatbotATTT/VNTCData/Train_Full/2', 8)\n",
        "text_test_, label_test_ = loaddata('/content/drive/MyDrive/VNPT/ChatbotATTT/VNTCData/Test_Full/Test_Full/2', 9)"
      ],
      "execution_count": null,
      "outputs": []
    },
    {
      "cell_type": "code",
      "metadata": {
        "id": "4CGYjOivPFfW"
      },
      "source": [
        "import pickle\n",
        "\n",
        "def _save_pkl(path, obj):\n",
        "  with open(path, 'wb') as f:\n",
        "    pickle.dump(obj, f)\n",
        "\n",
        "\n",
        "# Lưu lại các files\n",
        "_save_pkl('/content/drive/MyDrive/VNPT/ChatbotATTT/VNTCData/500data/text_train_5000.pkl', text_train_)\n",
        "_save_pkl('/content/drive/MyDrive/VNPT/ChatbotATTT/VNTCData/500data/label_train_5000.pkl', label_train_)\n",
        "_save_pkl('/content/drive/MyDrive/VNPT/ChatbotATTT/VNTCData/500data/text_test_5000.pkl', text_test_)\n",
        "_save_pkl('/content/drive/MyDrive/VNPT/ChatbotATTT/VNTCData/500data/label_test_5000.pkl', label_test_)"
      ],
      "execution_count": null,
      "outputs": []
    },
    {
      "cell_type": "code",
      "metadata": {
        "id": "MQqCXzBodndE"
      },
      "source": [
        "import pickle\n",
        "\n",
        "def _load_pkl(path):\n",
        "  with open(path, 'rb') as f:\n",
        "    obj = pickle.load(f)\n",
        "  return obj\n",
        "\n",
        "# # Load lại dữ liệu\n",
        "# X = _load_pkl('/content/drive/MyDrive/VNPT/ChatbotATTT/X1.pkl')\n",
        "# y = _load_pkl('/content/drive/MyDrive/VNPT/ChatbotATTT/y1.pkl')"
      ],
      "execution_count": null,
      "outputs": []
    },
    {
      "cell_type": "code",
      "metadata": {
        "id": "n-y_NSg8pNG3"
      },
      "source": [
        "text_train_ = _load_pkl('/content/drive/MyDrive/VNPT/ChatbotATTT/VNTCData/500data/text_train_5000.pkl')\n",
        "label_train_ = _load_pkl('/content/drive/MyDrive/VNPT/ChatbotATTT/VNTCData/500data/label_train_5000.pkl')\n",
        "text_test_ = _load_pkl('/content/drive/MyDrive/VNPT/ChatbotATTT/VNTCData/500data/text_test_5000.pkl')\n",
        "label_test_ = _load_pkl('/content/drive/MyDrive/VNPT/ChatbotATTT/VNTCData/500data/label_test_5000.pkl')"
      ],
      "execution_count": null,
      "outputs": []
    },
    {
      "cell_type": "code",
      "metadata": {
        "colab": {
          "base_uri": "https://localhost:8080/"
        },
        "id": "s-6wC4j6MCdO",
        "outputId": "9db15f15-0ae3-451e-8be6-b09e169d7fed"
      },
      "source": [
        "print(len(text_train_))\n",
        "print(len(label_train_))\n",
        "print(len(text_test_))\n",
        "print(len(label_test_))"
      ],
      "execution_count": null,
      "outputs": [
        {
          "output_type": "stream",
          "text": [
            "2000\n",
            "2000\n",
            "2000\n",
            "2000\n"
          ],
          "name": "stdout"
        }
      ]
    },
    {
      "cell_type": "code",
      "metadata": {
        "id": "69ZRCedRD8lZ"
      },
      "source": [
        "import torch\n",
        "from torch.utils.data import TensorDataset, DataLoader, RandomSampler, SequentialSampler\n",
        "from keras.preprocessing.sequence import pad_sequences\n",
        "from sklearn.model_selection import train_test_split\n",
        "from pytorch_pretrained_bert import BertTokenizer, BertConfig\n",
        "from pytorch_pretrained_bert import BertAdam, BertForSequenceClassification\n",
        "from tqdm import tqdm, trange\n",
        "import pandas as pd\n",
        "import io\n",
        "import numpy as np\n",
        "import matplotlib.pyplot as plt\n",
        "% matplotlib inline"
      ],
      "execution_count": null,
      "outputs": []
    },
    {
      "cell_type": "code",
      "metadata": {
        "colab": {
          "base_uri": "https://localhost:8080/",
          "height": 35
        },
        "id": "Jfm6jmPTECnw",
        "outputId": "5347a054-203d-48f4-cc4a-334de79b1be9"
      },
      "source": [
        "device = torch.device(\"cuda\" if torch.cuda.is_available() else \"cpu\")\n",
        "n_gpu = torch.cuda.device_count()\n",
        "torch.cuda.get_device_name(0)"
      ],
      "execution_count": null,
      "outputs": [
        {
          "output_type": "execute_result",
          "data": {
            "application/vnd.google.colaboratory.intrinsic+json": {
              "type": "string"
            },
            "text/plain": [
              "'Tesla T4'"
            ]
          },
          "metadata": {
            "tags": []
          },
          "execution_count": 9
        }
      ]
    },
    {
      "cell_type": "code",
      "metadata": {
        "id": "jbAs4085FHG9",
        "colab": {
          "base_uri": "https://localhost:8080/"
        },
        "outputId": "c99c374a-1dea-43d5-a7d1-f6715340215c"
      },
      "source": [
        "MAX_LEN = 256\n",
        "tokenizer_ = BertTokenizer.from_pretrained('bert-base-uncased', do_lower_case=True)\n",
        "def tokenize_and_trim(sent):\n",
        "  tokens = tokenizer_.tokenize(sent)\n",
        "  return tokens[:MAX_LEN - 1] + [tokens[-1]]\n",
        "\n",
        "# tokenized_texts = [tokenize_and_trim(sent) for sent in sentences]"
      ],
      "execution_count": null,
      "outputs": [
        {
          "output_type": "stream",
          "text": [
            "100%|██████████| 231508/231508 [00:00<00:00, 852803.56B/s]\n"
          ],
          "name": "stderr"
        }
      ]
    },
    {
      "cell_type": "code",
      "metadata": {
        "id": "9hPLQypVzo46"
      },
      "source": [
        "# tokenizer_ = BertTokenizer.from_pretrained('bert-base-uncased', do_lower_case=True)\n",
        "# tokenizer = GPT2Tokenizer.from_pretrained(\"gpt2\")\n",
        "tokenized_texts_train = [tokenize_and_trim(sent) for sent in text_train_]\n",
        "# print (\"Tokenize the first training sentence:\")\n",
        "# print (tokenized_texts_train[0])\n",
        "input_ids_train = [tokenizer_.convert_tokens_to_ids(x) for x in tokenized_texts_train]"
      ],
      "execution_count": null,
      "outputs": []
    },
    {
      "cell_type": "code",
      "metadata": {
        "id": "AUqUS5KJqgEM"
      },
      "source": [
        "tokenized_texts_test = [tokenize_and_trim(sent) for sent in text_test_]\n",
        "# print (\"Tokenize the first testing sentence:\")\n",
        "# print (tokenized_texts_test[0])\n",
        "input_ids_test = [tokenizer_.convert_tokens_to_ids(x) for x in tokenized_texts_test]"
      ],
      "execution_count": null,
      "outputs": []
    },
    {
      "cell_type": "code",
      "metadata": {
        "id": "Ycys25PVKCai"
      },
      "source": [
        "# Đệm thêm vào các chuỗi đầu vào\n",
        "input_ids_train_ = pad_sequences(input_ids_train, maxlen=MAX_LEN, dtype=\"long\", truncating=\"post\", padding=\"post\")\n",
        "input_ids_test_ = pad_sequences(input_ids_test, maxlen=MAX_LEN, dtype=\"long\", truncating=\"post\", padding=\"post\")"
      ],
      "execution_count": null,
      "outputs": []
    },
    {
      "cell_type": "code",
      "metadata": {
        "id": "6ZW3JBVoJxjS"
      },
      "source": [
        "# Tạo mảng chứa các attention mask\n",
        "attention_masks = []\n",
        "\n",
        "# Tạo mask chứa các giá trị 1 cho mỗi koten và 0 cho các giá trị đệm\n",
        "for seq in input_ids_train_:\n",
        "  seq_mask = [float(i>0) for i in seq]\n",
        "  attention_masks.append(seq_mask)\n"
      ],
      "execution_count": null,
      "outputs": []
    },
    {
      "cell_type": "code",
      "metadata": {
        "id": "AxI-I2sXfXc0"
      },
      "source": [
        "# !git clone https://github.com/huggingface/transformers.git"
      ],
      "execution_count": null,
      "outputs": []
    },
    {
      "cell_type": "code",
      "metadata": {
        "id": "B6gWVfIBksj4"
      },
      "source": [
        "from sklearn.model_selection import train_test_split\n",
        "\n",
        "train_inputs, validation_inputs, train_labels, validation_labels = train_test_split(input_ids_train_, label_train_, random_state=2018, test_size=0.1)\n",
        "train_masks, validation_masks, _, _ = train_test_split(attention_masks, input_ids_train_, random_state=2018, test_size=0.1)"
      ],
      "execution_count": null,
      "outputs": []
    },
    {
      "cell_type": "code",
      "metadata": {
        "id": "WjF-E39EkeBp"
      },
      "source": [
        "train_inputs = torch.tensor(train_inputs)\n",
        "validation_inputs = torch.tensor(validation_inputs)\n",
        "train_labels = torch.tensor(train_labels)\n",
        "validation_labels = torch.tensor(validation_labels)\n",
        "train_masks = torch.tensor(train_masks)\n",
        "validation_masks = torch.tensor(validation_masks)"
      ],
      "execution_count": null,
      "outputs": []
    },
    {
      "cell_type": "code",
      "metadata": {
        "id": "lWMQUkKe0MuM"
      },
      "source": [
        "# lựa chọn batch size sử dụng huấn luyện. Với fine-tuning BERT, các tác giả khuyến nghị đặt giá trị này là 16 hoặc 32\n",
        "batch_size = 32\n",
        "# Tạo iterator với DataLoader. Điều này sẽ giúp tiết kiệm bộ nhớ khi huấn luyện. Khác với vòng lặp, với một iterator thì toàn bộ dataset sẽ không cần phải nạp lên bộ nhớ\n",
        "train_data = TensorDataset(train_inputs, train_masks, train_labels)\n",
        "train_sampler = RandomSampler(train_data)\n",
        "train_dataloader = DataLoader(train_data, sampler=train_sampler, batch_size=batch_size)\n",
        "\n",
        "validation_data = TensorDataset(validation_inputs, validation_masks, validation_labels)\n",
        "validation_sampler = SequentialSampler(validation_data)\n",
        "validation_dataloader = DataLoader(validation_data, sampler=validation_sampler, batch_size=batch_size)"
      ],
      "execution_count": null,
      "outputs": []
    },
    {
      "cell_type": "code",
      "metadata": {
        "colab": {
          "base_uri": "https://localhost:8080/"
        },
        "id": "j_rnPXoV22Ud",
        "outputId": "f2f4c268-ece7-425c-a700-72b44df095a5"
      },
      "source": [
        "# from transformers import RobertaForSequenceClassification, RobertaConfig, AdamW\n",
        "# config = RobertaConfig.from_pretrained(\n",
        "#     \"PhoBERT_base_transformers/config.json\", from_tf=False, output_hidden_states=False,\n",
        "# )\n",
        "\n",
        "# phobert = RobertaModel.from_pretrained(\n",
        "#     \"PhoBERT_base_transformers/model.bin\",\n",
        "#     config=config\n",
        "# )\n",
        "phobert.cuda()"
      ],
      "execution_count": null,
      "outputs": [
        {
          "output_type": "execute_result",
          "data": {
            "text/plain": [
              "RobertaModel(\n",
              "  (embeddings): RobertaEmbeddings(\n",
              "    (word_embeddings): Embedding(64001, 768, padding_idx=0)\n",
              "    (position_embeddings): Embedding(258, 768, padding_idx=0)\n",
              "    (token_type_embeddings): Embedding(1, 768)\n",
              "    (LayerNorm): LayerNorm((768,), eps=1e-05, elementwise_affine=True)\n",
              "    (dropout): Dropout(p=0.1, inplace=False)\n",
              "  )\n",
              "  (encoder): RobertaEncoder(\n",
              "    (layer): ModuleList(\n",
              "      (0): RobertaLayer(\n",
              "        (attention): RobertaAttention(\n",
              "          (self): RobertaSelfAttention(\n",
              "            (query): Linear(in_features=768, out_features=768, bias=True)\n",
              "            (key): Linear(in_features=768, out_features=768, bias=True)\n",
              "            (value): Linear(in_features=768, out_features=768, bias=True)\n",
              "            (dropout): Dropout(p=0.1, inplace=False)\n",
              "          )\n",
              "          (output): RobertaSelfOutput(\n",
              "            (dense): Linear(in_features=768, out_features=768, bias=True)\n",
              "            (LayerNorm): LayerNorm((768,), eps=1e-05, elementwise_affine=True)\n",
              "            (dropout): Dropout(p=0.1, inplace=False)\n",
              "          )\n",
              "        )\n",
              "        (intermediate): RobertaIntermediate(\n",
              "          (dense): Linear(in_features=768, out_features=3072, bias=True)\n",
              "        )\n",
              "        (output): RobertaOutput(\n",
              "          (dense): Linear(in_features=3072, out_features=768, bias=True)\n",
              "          (LayerNorm): LayerNorm((768,), eps=1e-05, elementwise_affine=True)\n",
              "          (dropout): Dropout(p=0.1, inplace=False)\n",
              "        )\n",
              "      )\n",
              "      (1): RobertaLayer(\n",
              "        (attention): RobertaAttention(\n",
              "          (self): RobertaSelfAttention(\n",
              "            (query): Linear(in_features=768, out_features=768, bias=True)\n",
              "            (key): Linear(in_features=768, out_features=768, bias=True)\n",
              "            (value): Linear(in_features=768, out_features=768, bias=True)\n",
              "            (dropout): Dropout(p=0.1, inplace=False)\n",
              "          )\n",
              "          (output): RobertaSelfOutput(\n",
              "            (dense): Linear(in_features=768, out_features=768, bias=True)\n",
              "            (LayerNorm): LayerNorm((768,), eps=1e-05, elementwise_affine=True)\n",
              "            (dropout): Dropout(p=0.1, inplace=False)\n",
              "          )\n",
              "        )\n",
              "        (intermediate): RobertaIntermediate(\n",
              "          (dense): Linear(in_features=768, out_features=3072, bias=True)\n",
              "        )\n",
              "        (output): RobertaOutput(\n",
              "          (dense): Linear(in_features=3072, out_features=768, bias=True)\n",
              "          (LayerNorm): LayerNorm((768,), eps=1e-05, elementwise_affine=True)\n",
              "          (dropout): Dropout(p=0.1, inplace=False)\n",
              "        )\n",
              "      )\n",
              "      (2): RobertaLayer(\n",
              "        (attention): RobertaAttention(\n",
              "          (self): RobertaSelfAttention(\n",
              "            (query): Linear(in_features=768, out_features=768, bias=True)\n",
              "            (key): Linear(in_features=768, out_features=768, bias=True)\n",
              "            (value): Linear(in_features=768, out_features=768, bias=True)\n",
              "            (dropout): Dropout(p=0.1, inplace=False)\n",
              "          )\n",
              "          (output): RobertaSelfOutput(\n",
              "            (dense): Linear(in_features=768, out_features=768, bias=True)\n",
              "            (LayerNorm): LayerNorm((768,), eps=1e-05, elementwise_affine=True)\n",
              "            (dropout): Dropout(p=0.1, inplace=False)\n",
              "          )\n",
              "        )\n",
              "        (intermediate): RobertaIntermediate(\n",
              "          (dense): Linear(in_features=768, out_features=3072, bias=True)\n",
              "        )\n",
              "        (output): RobertaOutput(\n",
              "          (dense): Linear(in_features=3072, out_features=768, bias=True)\n",
              "          (LayerNorm): LayerNorm((768,), eps=1e-05, elementwise_affine=True)\n",
              "          (dropout): Dropout(p=0.1, inplace=False)\n",
              "        )\n",
              "      )\n",
              "      (3): RobertaLayer(\n",
              "        (attention): RobertaAttention(\n",
              "          (self): RobertaSelfAttention(\n",
              "            (query): Linear(in_features=768, out_features=768, bias=True)\n",
              "            (key): Linear(in_features=768, out_features=768, bias=True)\n",
              "            (value): Linear(in_features=768, out_features=768, bias=True)\n",
              "            (dropout): Dropout(p=0.1, inplace=False)\n",
              "          )\n",
              "          (output): RobertaSelfOutput(\n",
              "            (dense): Linear(in_features=768, out_features=768, bias=True)\n",
              "            (LayerNorm): LayerNorm((768,), eps=1e-05, elementwise_affine=True)\n",
              "            (dropout): Dropout(p=0.1, inplace=False)\n",
              "          )\n",
              "        )\n",
              "        (intermediate): RobertaIntermediate(\n",
              "          (dense): Linear(in_features=768, out_features=3072, bias=True)\n",
              "        )\n",
              "        (output): RobertaOutput(\n",
              "          (dense): Linear(in_features=3072, out_features=768, bias=True)\n",
              "          (LayerNorm): LayerNorm((768,), eps=1e-05, elementwise_affine=True)\n",
              "          (dropout): Dropout(p=0.1, inplace=False)\n",
              "        )\n",
              "      )\n",
              "      (4): RobertaLayer(\n",
              "        (attention): RobertaAttention(\n",
              "          (self): RobertaSelfAttention(\n",
              "            (query): Linear(in_features=768, out_features=768, bias=True)\n",
              "            (key): Linear(in_features=768, out_features=768, bias=True)\n",
              "            (value): Linear(in_features=768, out_features=768, bias=True)\n",
              "            (dropout): Dropout(p=0.1, inplace=False)\n",
              "          )\n",
              "          (output): RobertaSelfOutput(\n",
              "            (dense): Linear(in_features=768, out_features=768, bias=True)\n",
              "            (LayerNorm): LayerNorm((768,), eps=1e-05, elementwise_affine=True)\n",
              "            (dropout): Dropout(p=0.1, inplace=False)\n",
              "          )\n",
              "        )\n",
              "        (intermediate): RobertaIntermediate(\n",
              "          (dense): Linear(in_features=768, out_features=3072, bias=True)\n",
              "        )\n",
              "        (output): RobertaOutput(\n",
              "          (dense): Linear(in_features=3072, out_features=768, bias=True)\n",
              "          (LayerNorm): LayerNorm((768,), eps=1e-05, elementwise_affine=True)\n",
              "          (dropout): Dropout(p=0.1, inplace=False)\n",
              "        )\n",
              "      )\n",
              "      (5): RobertaLayer(\n",
              "        (attention): RobertaAttention(\n",
              "          (self): RobertaSelfAttention(\n",
              "            (query): Linear(in_features=768, out_features=768, bias=True)\n",
              "            (key): Linear(in_features=768, out_features=768, bias=True)\n",
              "            (value): Linear(in_features=768, out_features=768, bias=True)\n",
              "            (dropout): Dropout(p=0.1, inplace=False)\n",
              "          )\n",
              "          (output): RobertaSelfOutput(\n",
              "            (dense): Linear(in_features=768, out_features=768, bias=True)\n",
              "            (LayerNorm): LayerNorm((768,), eps=1e-05, elementwise_affine=True)\n",
              "            (dropout): Dropout(p=0.1, inplace=False)\n",
              "          )\n",
              "        )\n",
              "        (intermediate): RobertaIntermediate(\n",
              "          (dense): Linear(in_features=768, out_features=3072, bias=True)\n",
              "        )\n",
              "        (output): RobertaOutput(\n",
              "          (dense): Linear(in_features=3072, out_features=768, bias=True)\n",
              "          (LayerNorm): LayerNorm((768,), eps=1e-05, elementwise_affine=True)\n",
              "          (dropout): Dropout(p=0.1, inplace=False)\n",
              "        )\n",
              "      )\n",
              "      (6): RobertaLayer(\n",
              "        (attention): RobertaAttention(\n",
              "          (self): RobertaSelfAttention(\n",
              "            (query): Linear(in_features=768, out_features=768, bias=True)\n",
              "            (key): Linear(in_features=768, out_features=768, bias=True)\n",
              "            (value): Linear(in_features=768, out_features=768, bias=True)\n",
              "            (dropout): Dropout(p=0.1, inplace=False)\n",
              "          )\n",
              "          (output): RobertaSelfOutput(\n",
              "            (dense): Linear(in_features=768, out_features=768, bias=True)\n",
              "            (LayerNorm): LayerNorm((768,), eps=1e-05, elementwise_affine=True)\n",
              "            (dropout): Dropout(p=0.1, inplace=False)\n",
              "          )\n",
              "        )\n",
              "        (intermediate): RobertaIntermediate(\n",
              "          (dense): Linear(in_features=768, out_features=3072, bias=True)\n",
              "        )\n",
              "        (output): RobertaOutput(\n",
              "          (dense): Linear(in_features=3072, out_features=768, bias=True)\n",
              "          (LayerNorm): LayerNorm((768,), eps=1e-05, elementwise_affine=True)\n",
              "          (dropout): Dropout(p=0.1, inplace=False)\n",
              "        )\n",
              "      )\n",
              "      (7): RobertaLayer(\n",
              "        (attention): RobertaAttention(\n",
              "          (self): RobertaSelfAttention(\n",
              "            (query): Linear(in_features=768, out_features=768, bias=True)\n",
              "            (key): Linear(in_features=768, out_features=768, bias=True)\n",
              "            (value): Linear(in_features=768, out_features=768, bias=True)\n",
              "            (dropout): Dropout(p=0.1, inplace=False)\n",
              "          )\n",
              "          (output): RobertaSelfOutput(\n",
              "            (dense): Linear(in_features=768, out_features=768, bias=True)\n",
              "            (LayerNorm): LayerNorm((768,), eps=1e-05, elementwise_affine=True)\n",
              "            (dropout): Dropout(p=0.1, inplace=False)\n",
              "          )\n",
              "        )\n",
              "        (intermediate): RobertaIntermediate(\n",
              "          (dense): Linear(in_features=768, out_features=3072, bias=True)\n",
              "        )\n",
              "        (output): RobertaOutput(\n",
              "          (dense): Linear(in_features=3072, out_features=768, bias=True)\n",
              "          (LayerNorm): LayerNorm((768,), eps=1e-05, elementwise_affine=True)\n",
              "          (dropout): Dropout(p=0.1, inplace=False)\n",
              "        )\n",
              "      )\n",
              "      (8): RobertaLayer(\n",
              "        (attention): RobertaAttention(\n",
              "          (self): RobertaSelfAttention(\n",
              "            (query): Linear(in_features=768, out_features=768, bias=True)\n",
              "            (key): Linear(in_features=768, out_features=768, bias=True)\n",
              "            (value): Linear(in_features=768, out_features=768, bias=True)\n",
              "            (dropout): Dropout(p=0.1, inplace=False)\n",
              "          )\n",
              "          (output): RobertaSelfOutput(\n",
              "            (dense): Linear(in_features=768, out_features=768, bias=True)\n",
              "            (LayerNorm): LayerNorm((768,), eps=1e-05, elementwise_affine=True)\n",
              "            (dropout): Dropout(p=0.1, inplace=False)\n",
              "          )\n",
              "        )\n",
              "        (intermediate): RobertaIntermediate(\n",
              "          (dense): Linear(in_features=768, out_features=3072, bias=True)\n",
              "        )\n",
              "        (output): RobertaOutput(\n",
              "          (dense): Linear(in_features=3072, out_features=768, bias=True)\n",
              "          (LayerNorm): LayerNorm((768,), eps=1e-05, elementwise_affine=True)\n",
              "          (dropout): Dropout(p=0.1, inplace=False)\n",
              "        )\n",
              "      )\n",
              "      (9): RobertaLayer(\n",
              "        (attention): RobertaAttention(\n",
              "          (self): RobertaSelfAttention(\n",
              "            (query): Linear(in_features=768, out_features=768, bias=True)\n",
              "            (key): Linear(in_features=768, out_features=768, bias=True)\n",
              "            (value): Linear(in_features=768, out_features=768, bias=True)\n",
              "            (dropout): Dropout(p=0.1, inplace=False)\n",
              "          )\n",
              "          (output): RobertaSelfOutput(\n",
              "            (dense): Linear(in_features=768, out_features=768, bias=True)\n",
              "            (LayerNorm): LayerNorm((768,), eps=1e-05, elementwise_affine=True)\n",
              "            (dropout): Dropout(p=0.1, inplace=False)\n",
              "          )\n",
              "        )\n",
              "        (intermediate): RobertaIntermediate(\n",
              "          (dense): Linear(in_features=768, out_features=3072, bias=True)\n",
              "        )\n",
              "        (output): RobertaOutput(\n",
              "          (dense): Linear(in_features=3072, out_features=768, bias=True)\n",
              "          (LayerNorm): LayerNorm((768,), eps=1e-05, elementwise_affine=True)\n",
              "          (dropout): Dropout(p=0.1, inplace=False)\n",
              "        )\n",
              "      )\n",
              "      (10): RobertaLayer(\n",
              "        (attention): RobertaAttention(\n",
              "          (self): RobertaSelfAttention(\n",
              "            (query): Linear(in_features=768, out_features=768, bias=True)\n",
              "            (key): Linear(in_features=768, out_features=768, bias=True)\n",
              "            (value): Linear(in_features=768, out_features=768, bias=True)\n",
              "            (dropout): Dropout(p=0.1, inplace=False)\n",
              "          )\n",
              "          (output): RobertaSelfOutput(\n",
              "            (dense): Linear(in_features=768, out_features=768, bias=True)\n",
              "            (LayerNorm): LayerNorm((768,), eps=1e-05, elementwise_affine=True)\n",
              "            (dropout): Dropout(p=0.1, inplace=False)\n",
              "          )\n",
              "        )\n",
              "        (intermediate): RobertaIntermediate(\n",
              "          (dense): Linear(in_features=768, out_features=3072, bias=True)\n",
              "        )\n",
              "        (output): RobertaOutput(\n",
              "          (dense): Linear(in_features=3072, out_features=768, bias=True)\n",
              "          (LayerNorm): LayerNorm((768,), eps=1e-05, elementwise_affine=True)\n",
              "          (dropout): Dropout(p=0.1, inplace=False)\n",
              "        )\n",
              "      )\n",
              "      (11): RobertaLayer(\n",
              "        (attention): RobertaAttention(\n",
              "          (self): RobertaSelfAttention(\n",
              "            (query): Linear(in_features=768, out_features=768, bias=True)\n",
              "            (key): Linear(in_features=768, out_features=768, bias=True)\n",
              "            (value): Linear(in_features=768, out_features=768, bias=True)\n",
              "            (dropout): Dropout(p=0.1, inplace=False)\n",
              "          )\n",
              "          (output): RobertaSelfOutput(\n",
              "            (dense): Linear(in_features=768, out_features=768, bias=True)\n",
              "            (LayerNorm): LayerNorm((768,), eps=1e-05, elementwise_affine=True)\n",
              "            (dropout): Dropout(p=0.1, inplace=False)\n",
              "          )\n",
              "        )\n",
              "        (intermediate): RobertaIntermediate(\n",
              "          (dense): Linear(in_features=768, out_features=3072, bias=True)\n",
              "        )\n",
              "        (output): RobertaOutput(\n",
              "          (dense): Linear(in_features=3072, out_features=768, bias=True)\n",
              "          (LayerNorm): LayerNorm((768,), eps=1e-05, elementwise_affine=True)\n",
              "          (dropout): Dropout(p=0.1, inplace=False)\n",
              "        )\n",
              "      )\n",
              "    )\n",
              "  )\n",
              "  (pooler): RobertaPooler(\n",
              "    (dense): Linear(in_features=768, out_features=768, bias=True)\n",
              "    (activation): Tanh()\n",
              "  )\n",
              ")"
            ]
          },
          "metadata": {
            "tags": []
          },
          "execution_count": 19
        }
      ]
    },
    {
      "cell_type": "code",
      "metadata": {
        "colab": {
          "base_uri": "https://localhost:8080/"
        },
        "id": "9WEOX6orPF6R",
        "outputId": "f608437d-f611-4b78-adce-bbe00c2d0e67"
      },
      "source": [
        "from transformers import RobertaForSequenceClassification\n",
        "phobertClassify = RobertaForSequenceClassification.from_pretrained(\n",
        "    \"PhoBERT_base_transformers/model.bin\",\n",
        "    config=config\n",
        ")"
      ],
      "execution_count": null,
      "outputs": [
        {
          "output_type": "stream",
          "text": [
            "Some weights of the model checkpoint at PhoBERT_base_transformers/model.bin were not used when initializing RobertaForSequenceClassification: ['lm_head.layer_norm.bias', 'lm_head.dense.bias', 'lm_head.dense.weight', 'roberta.pooler.dense.weight', 'lm_head.decoder.bias', 'roberta.pooler.dense.bias', 'lm_head.decoder.weight', 'lm_head.layer_norm.weight', 'lm_head.bias']\n",
            "- This IS expected if you are initializing RobertaForSequenceClassification from the checkpoint of a model trained on another task or with another architecture (e.g. initializing a BertForSequenceClassification model from a BertForPreTraining model).\n",
            "- This IS NOT expected if you are initializing RobertaForSequenceClassification from the checkpoint of a model that you expect to be exactly identical (initializing a BertForSequenceClassification model from a BertForSequenceClassification model).\n",
            "Some weights of RobertaForSequenceClassification were not initialized from the model checkpoint at PhoBERT_base_transformers/model.bin and are newly initialized: ['classifier.dense.weight', 'classifier.out_proj.bias', 'classifier.out_proj.weight', 'classifier.dense.bias']\n",
            "You should probably TRAIN this model on a down-stream task to be able to use it for predictions and inference.\n"
          ],
          "name": "stderr"
        }
      ]
    },
    {
      "cell_type": "code",
      "metadata": {
        "colab": {
          "base_uri": "https://localhost:8080/"
        },
        "id": "yOxRIx-TeBEt",
        "outputId": "a9b20808-b1e4-495e-95ed-29e478d0e79a"
      },
      "source": [
        "phobertClassify.cuda()"
      ],
      "execution_count": null,
      "outputs": [
        {
          "output_type": "execute_result",
          "data": {
            "text/plain": [
              "RobertaForSequenceClassification(\n",
              "  (roberta): RobertaModel(\n",
              "    (embeddings): RobertaEmbeddings(\n",
              "      (word_embeddings): Embedding(64001, 768, padding_idx=0)\n",
              "      (position_embeddings): Embedding(258, 768, padding_idx=0)\n",
              "      (token_type_embeddings): Embedding(1, 768)\n",
              "      (LayerNorm): LayerNorm((768,), eps=1e-05, elementwise_affine=True)\n",
              "      (dropout): Dropout(p=0.1, inplace=False)\n",
              "    )\n",
              "    (encoder): RobertaEncoder(\n",
              "      (layer): ModuleList(\n",
              "        (0): RobertaLayer(\n",
              "          (attention): RobertaAttention(\n",
              "            (self): RobertaSelfAttention(\n",
              "              (query): Linear(in_features=768, out_features=768, bias=True)\n",
              "              (key): Linear(in_features=768, out_features=768, bias=True)\n",
              "              (value): Linear(in_features=768, out_features=768, bias=True)\n",
              "              (dropout): Dropout(p=0.1, inplace=False)\n",
              "            )\n",
              "            (output): RobertaSelfOutput(\n",
              "              (dense): Linear(in_features=768, out_features=768, bias=True)\n",
              "              (LayerNorm): LayerNorm((768,), eps=1e-05, elementwise_affine=True)\n",
              "              (dropout): Dropout(p=0.1, inplace=False)\n",
              "            )\n",
              "          )\n",
              "          (intermediate): RobertaIntermediate(\n",
              "            (dense): Linear(in_features=768, out_features=3072, bias=True)\n",
              "          )\n",
              "          (output): RobertaOutput(\n",
              "            (dense): Linear(in_features=3072, out_features=768, bias=True)\n",
              "            (LayerNorm): LayerNorm((768,), eps=1e-05, elementwise_affine=True)\n",
              "            (dropout): Dropout(p=0.1, inplace=False)\n",
              "          )\n",
              "        )\n",
              "        (1): RobertaLayer(\n",
              "          (attention): RobertaAttention(\n",
              "            (self): RobertaSelfAttention(\n",
              "              (query): Linear(in_features=768, out_features=768, bias=True)\n",
              "              (key): Linear(in_features=768, out_features=768, bias=True)\n",
              "              (value): Linear(in_features=768, out_features=768, bias=True)\n",
              "              (dropout): Dropout(p=0.1, inplace=False)\n",
              "            )\n",
              "            (output): RobertaSelfOutput(\n",
              "              (dense): Linear(in_features=768, out_features=768, bias=True)\n",
              "              (LayerNorm): LayerNorm((768,), eps=1e-05, elementwise_affine=True)\n",
              "              (dropout): Dropout(p=0.1, inplace=False)\n",
              "            )\n",
              "          )\n",
              "          (intermediate): RobertaIntermediate(\n",
              "            (dense): Linear(in_features=768, out_features=3072, bias=True)\n",
              "          )\n",
              "          (output): RobertaOutput(\n",
              "            (dense): Linear(in_features=3072, out_features=768, bias=True)\n",
              "            (LayerNorm): LayerNorm((768,), eps=1e-05, elementwise_affine=True)\n",
              "            (dropout): Dropout(p=0.1, inplace=False)\n",
              "          )\n",
              "        )\n",
              "        (2): RobertaLayer(\n",
              "          (attention): RobertaAttention(\n",
              "            (self): RobertaSelfAttention(\n",
              "              (query): Linear(in_features=768, out_features=768, bias=True)\n",
              "              (key): Linear(in_features=768, out_features=768, bias=True)\n",
              "              (value): Linear(in_features=768, out_features=768, bias=True)\n",
              "              (dropout): Dropout(p=0.1, inplace=False)\n",
              "            )\n",
              "            (output): RobertaSelfOutput(\n",
              "              (dense): Linear(in_features=768, out_features=768, bias=True)\n",
              "              (LayerNorm): LayerNorm((768,), eps=1e-05, elementwise_affine=True)\n",
              "              (dropout): Dropout(p=0.1, inplace=False)\n",
              "            )\n",
              "          )\n",
              "          (intermediate): RobertaIntermediate(\n",
              "            (dense): Linear(in_features=768, out_features=3072, bias=True)\n",
              "          )\n",
              "          (output): RobertaOutput(\n",
              "            (dense): Linear(in_features=3072, out_features=768, bias=True)\n",
              "            (LayerNorm): LayerNorm((768,), eps=1e-05, elementwise_affine=True)\n",
              "            (dropout): Dropout(p=0.1, inplace=False)\n",
              "          )\n",
              "        )\n",
              "        (3): RobertaLayer(\n",
              "          (attention): RobertaAttention(\n",
              "            (self): RobertaSelfAttention(\n",
              "              (query): Linear(in_features=768, out_features=768, bias=True)\n",
              "              (key): Linear(in_features=768, out_features=768, bias=True)\n",
              "              (value): Linear(in_features=768, out_features=768, bias=True)\n",
              "              (dropout): Dropout(p=0.1, inplace=False)\n",
              "            )\n",
              "            (output): RobertaSelfOutput(\n",
              "              (dense): Linear(in_features=768, out_features=768, bias=True)\n",
              "              (LayerNorm): LayerNorm((768,), eps=1e-05, elementwise_affine=True)\n",
              "              (dropout): Dropout(p=0.1, inplace=False)\n",
              "            )\n",
              "          )\n",
              "          (intermediate): RobertaIntermediate(\n",
              "            (dense): Linear(in_features=768, out_features=3072, bias=True)\n",
              "          )\n",
              "          (output): RobertaOutput(\n",
              "            (dense): Linear(in_features=3072, out_features=768, bias=True)\n",
              "            (LayerNorm): LayerNorm((768,), eps=1e-05, elementwise_affine=True)\n",
              "            (dropout): Dropout(p=0.1, inplace=False)\n",
              "          )\n",
              "        )\n",
              "        (4): RobertaLayer(\n",
              "          (attention): RobertaAttention(\n",
              "            (self): RobertaSelfAttention(\n",
              "              (query): Linear(in_features=768, out_features=768, bias=True)\n",
              "              (key): Linear(in_features=768, out_features=768, bias=True)\n",
              "              (value): Linear(in_features=768, out_features=768, bias=True)\n",
              "              (dropout): Dropout(p=0.1, inplace=False)\n",
              "            )\n",
              "            (output): RobertaSelfOutput(\n",
              "              (dense): Linear(in_features=768, out_features=768, bias=True)\n",
              "              (LayerNorm): LayerNorm((768,), eps=1e-05, elementwise_affine=True)\n",
              "              (dropout): Dropout(p=0.1, inplace=False)\n",
              "            )\n",
              "          )\n",
              "          (intermediate): RobertaIntermediate(\n",
              "            (dense): Linear(in_features=768, out_features=3072, bias=True)\n",
              "          )\n",
              "          (output): RobertaOutput(\n",
              "            (dense): Linear(in_features=3072, out_features=768, bias=True)\n",
              "            (LayerNorm): LayerNorm((768,), eps=1e-05, elementwise_affine=True)\n",
              "            (dropout): Dropout(p=0.1, inplace=False)\n",
              "          )\n",
              "        )\n",
              "        (5): RobertaLayer(\n",
              "          (attention): RobertaAttention(\n",
              "            (self): RobertaSelfAttention(\n",
              "              (query): Linear(in_features=768, out_features=768, bias=True)\n",
              "              (key): Linear(in_features=768, out_features=768, bias=True)\n",
              "              (value): Linear(in_features=768, out_features=768, bias=True)\n",
              "              (dropout): Dropout(p=0.1, inplace=False)\n",
              "            )\n",
              "            (output): RobertaSelfOutput(\n",
              "              (dense): Linear(in_features=768, out_features=768, bias=True)\n",
              "              (LayerNorm): LayerNorm((768,), eps=1e-05, elementwise_affine=True)\n",
              "              (dropout): Dropout(p=0.1, inplace=False)\n",
              "            )\n",
              "          )\n",
              "          (intermediate): RobertaIntermediate(\n",
              "            (dense): Linear(in_features=768, out_features=3072, bias=True)\n",
              "          )\n",
              "          (output): RobertaOutput(\n",
              "            (dense): Linear(in_features=3072, out_features=768, bias=True)\n",
              "            (LayerNorm): LayerNorm((768,), eps=1e-05, elementwise_affine=True)\n",
              "            (dropout): Dropout(p=0.1, inplace=False)\n",
              "          )\n",
              "        )\n",
              "        (6): RobertaLayer(\n",
              "          (attention): RobertaAttention(\n",
              "            (self): RobertaSelfAttention(\n",
              "              (query): Linear(in_features=768, out_features=768, bias=True)\n",
              "              (key): Linear(in_features=768, out_features=768, bias=True)\n",
              "              (value): Linear(in_features=768, out_features=768, bias=True)\n",
              "              (dropout): Dropout(p=0.1, inplace=False)\n",
              "            )\n",
              "            (output): RobertaSelfOutput(\n",
              "              (dense): Linear(in_features=768, out_features=768, bias=True)\n",
              "              (LayerNorm): LayerNorm((768,), eps=1e-05, elementwise_affine=True)\n",
              "              (dropout): Dropout(p=0.1, inplace=False)\n",
              "            )\n",
              "          )\n",
              "          (intermediate): RobertaIntermediate(\n",
              "            (dense): Linear(in_features=768, out_features=3072, bias=True)\n",
              "          )\n",
              "          (output): RobertaOutput(\n",
              "            (dense): Linear(in_features=3072, out_features=768, bias=True)\n",
              "            (LayerNorm): LayerNorm((768,), eps=1e-05, elementwise_affine=True)\n",
              "            (dropout): Dropout(p=0.1, inplace=False)\n",
              "          )\n",
              "        )\n",
              "        (7): RobertaLayer(\n",
              "          (attention): RobertaAttention(\n",
              "            (self): RobertaSelfAttention(\n",
              "              (query): Linear(in_features=768, out_features=768, bias=True)\n",
              "              (key): Linear(in_features=768, out_features=768, bias=True)\n",
              "              (value): Linear(in_features=768, out_features=768, bias=True)\n",
              "              (dropout): Dropout(p=0.1, inplace=False)\n",
              "            )\n",
              "            (output): RobertaSelfOutput(\n",
              "              (dense): Linear(in_features=768, out_features=768, bias=True)\n",
              "              (LayerNorm): LayerNorm((768,), eps=1e-05, elementwise_affine=True)\n",
              "              (dropout): Dropout(p=0.1, inplace=False)\n",
              "            )\n",
              "          )\n",
              "          (intermediate): RobertaIntermediate(\n",
              "            (dense): Linear(in_features=768, out_features=3072, bias=True)\n",
              "          )\n",
              "          (output): RobertaOutput(\n",
              "            (dense): Linear(in_features=3072, out_features=768, bias=True)\n",
              "            (LayerNorm): LayerNorm((768,), eps=1e-05, elementwise_affine=True)\n",
              "            (dropout): Dropout(p=0.1, inplace=False)\n",
              "          )\n",
              "        )\n",
              "        (8): RobertaLayer(\n",
              "          (attention): RobertaAttention(\n",
              "            (self): RobertaSelfAttention(\n",
              "              (query): Linear(in_features=768, out_features=768, bias=True)\n",
              "              (key): Linear(in_features=768, out_features=768, bias=True)\n",
              "              (value): Linear(in_features=768, out_features=768, bias=True)\n",
              "              (dropout): Dropout(p=0.1, inplace=False)\n",
              "            )\n",
              "            (output): RobertaSelfOutput(\n",
              "              (dense): Linear(in_features=768, out_features=768, bias=True)\n",
              "              (LayerNorm): LayerNorm((768,), eps=1e-05, elementwise_affine=True)\n",
              "              (dropout): Dropout(p=0.1, inplace=False)\n",
              "            )\n",
              "          )\n",
              "          (intermediate): RobertaIntermediate(\n",
              "            (dense): Linear(in_features=768, out_features=3072, bias=True)\n",
              "          )\n",
              "          (output): RobertaOutput(\n",
              "            (dense): Linear(in_features=3072, out_features=768, bias=True)\n",
              "            (LayerNorm): LayerNorm((768,), eps=1e-05, elementwise_affine=True)\n",
              "            (dropout): Dropout(p=0.1, inplace=False)\n",
              "          )\n",
              "        )\n",
              "        (9): RobertaLayer(\n",
              "          (attention): RobertaAttention(\n",
              "            (self): RobertaSelfAttention(\n",
              "              (query): Linear(in_features=768, out_features=768, bias=True)\n",
              "              (key): Linear(in_features=768, out_features=768, bias=True)\n",
              "              (value): Linear(in_features=768, out_features=768, bias=True)\n",
              "              (dropout): Dropout(p=0.1, inplace=False)\n",
              "            )\n",
              "            (output): RobertaSelfOutput(\n",
              "              (dense): Linear(in_features=768, out_features=768, bias=True)\n",
              "              (LayerNorm): LayerNorm((768,), eps=1e-05, elementwise_affine=True)\n",
              "              (dropout): Dropout(p=0.1, inplace=False)\n",
              "            )\n",
              "          )\n",
              "          (intermediate): RobertaIntermediate(\n",
              "            (dense): Linear(in_features=768, out_features=3072, bias=True)\n",
              "          )\n",
              "          (output): RobertaOutput(\n",
              "            (dense): Linear(in_features=3072, out_features=768, bias=True)\n",
              "            (LayerNorm): LayerNorm((768,), eps=1e-05, elementwise_affine=True)\n",
              "            (dropout): Dropout(p=0.1, inplace=False)\n",
              "          )\n",
              "        )\n",
              "        (10): RobertaLayer(\n",
              "          (attention): RobertaAttention(\n",
              "            (self): RobertaSelfAttention(\n",
              "              (query): Linear(in_features=768, out_features=768, bias=True)\n",
              "              (key): Linear(in_features=768, out_features=768, bias=True)\n",
              "              (value): Linear(in_features=768, out_features=768, bias=True)\n",
              "              (dropout): Dropout(p=0.1, inplace=False)\n",
              "            )\n",
              "            (output): RobertaSelfOutput(\n",
              "              (dense): Linear(in_features=768, out_features=768, bias=True)\n",
              "              (LayerNorm): LayerNorm((768,), eps=1e-05, elementwise_affine=True)\n",
              "              (dropout): Dropout(p=0.1, inplace=False)\n",
              "            )\n",
              "          )\n",
              "          (intermediate): RobertaIntermediate(\n",
              "            (dense): Linear(in_features=768, out_features=3072, bias=True)\n",
              "          )\n",
              "          (output): RobertaOutput(\n",
              "            (dense): Linear(in_features=3072, out_features=768, bias=True)\n",
              "            (LayerNorm): LayerNorm((768,), eps=1e-05, elementwise_affine=True)\n",
              "            (dropout): Dropout(p=0.1, inplace=False)\n",
              "          )\n",
              "        )\n",
              "        (11): RobertaLayer(\n",
              "          (attention): RobertaAttention(\n",
              "            (self): RobertaSelfAttention(\n",
              "              (query): Linear(in_features=768, out_features=768, bias=True)\n",
              "              (key): Linear(in_features=768, out_features=768, bias=True)\n",
              "              (value): Linear(in_features=768, out_features=768, bias=True)\n",
              "              (dropout): Dropout(p=0.1, inplace=False)\n",
              "            )\n",
              "            (output): RobertaSelfOutput(\n",
              "              (dense): Linear(in_features=768, out_features=768, bias=True)\n",
              "              (LayerNorm): LayerNorm((768,), eps=1e-05, elementwise_affine=True)\n",
              "              (dropout): Dropout(p=0.1, inplace=False)\n",
              "            )\n",
              "          )\n",
              "          (intermediate): RobertaIntermediate(\n",
              "            (dense): Linear(in_features=768, out_features=3072, bias=True)\n",
              "          )\n",
              "          (output): RobertaOutput(\n",
              "            (dense): Linear(in_features=3072, out_features=768, bias=True)\n",
              "            (LayerNorm): LayerNorm((768,), eps=1e-05, elementwise_affine=True)\n",
              "            (dropout): Dropout(p=0.1, inplace=False)\n",
              "          )\n",
              "        )\n",
              "      )\n",
              "    )\n",
              "  )\n",
              "  (classifier): RobertaClassificationHead(\n",
              "    (dense): Linear(in_features=768, out_features=768, bias=True)\n",
              "    (dropout): Dropout(p=0.1, inplace=False)\n",
              "    (out_proj): Linear(in_features=768, out_features=2, bias=True)\n",
              "  )\n",
              ")"
            ]
          },
          "metadata": {
            "tags": []
          },
          "execution_count": 21
        }
      ]
    },
    {
      "cell_type": "code",
      "metadata": {
        "id": "KErjNTnGGKYS"
      },
      "source": [
        "param_optimizer = list(phobertClassify.named_parameters())\n",
        "no_decay = ['bias', 'gamma', 'beta']\n",
        "optimizer_grouped_parameters = [\n",
        "    {'params': [p for n, p in param_optimizer if not any(nd in n for nd in no_decay)],\n",
        "     'weight_decay_rate': 0.01},\n",
        "    {'params': [p for n, p in param_optimizer if any(nd in n for nd in no_decay)],\n",
        "     'weight_decay_rate': 0.0}\n",
        "]\n"
      ],
      "execution_count": null,
      "outputs": []
    },
    {
      "cell_type": "code",
      "metadata": {
        "id": "Q8EkeAuVyvw_"
      },
      "source": [
        "def flat_accuracy(preds, labels):\n",
        "    pred_flat = np.argmax(preds, axis=1).flatten()\n",
        "    labels_flat = labels.flatten()\n",
        "    return np.sum(pred_flat == labels_flat) / len(labels_flat)"
      ],
      "execution_count": null,
      "outputs": []
    },
    {
      "cell_type": "code",
      "metadata": {
        "colab": {
          "base_uri": "https://localhost:8080/",
          "height": 990,
          "referenced_widgets": [
            "9fd74913b04841ea9d5849e25f8c10ae",
            "d60df559a8d64477b065571312d93e02",
            "a77840a643e945d880a43a41135105c7",
            "e75e0d2a64b14bd0b7efaadbee9f7dd2",
            "2e59489abf154d348e958802655a26b3",
            "bb7aa9af72d24325bef4fe007ec122b5",
            "cff1fbd5cda740feaf714df492826c30",
            "5d0ad305d5e148508e2b1bf0fa9c00f5",
            "0116a31036ea4934903ff79228d9fa2b",
            "09939c9f04ad421688a8c29ac7994e1a",
            "c41fb217687d4adebba08844b32b3ed0",
            "dace57b2e9ab452f842a774a6bde2f45",
            "89da5be30e3144fe9dd50dc58aafe440",
            "65e0d0cf306c4855991edd99ee798dfc",
            "882d929cd2314a4b9911163752c7b27e",
            "829b5de694f0466281227f2e6676a300",
            "8ade446de6244a22accb097a0ca8cf37",
            "37f457246ec840f2b367de60c5c79f5a",
            "f78a2a318a74455aa593448833de3372",
            "3b0006f8dfb54d6180369057a33ab3d3",
            "50dadfd107c3401d9b0a180cf6e2ed5a",
            "66da8928a44f43bf9034ef2a62101b5f",
            "15954d26208641de84e73f9509bea0e6",
            "16a1b78008c045ceb753c030f2e30db8",
            "5b88574e14344d9dadbce70bcf210f32",
            "8b23033348684cd782fb6cd26cf53707",
            "99845303d2da4e0a85745846d468965e",
            "1c957a90428842a6b5cfe779cb4603a5",
            "bf02f064168840a781c5346cad96323b",
            "576d7465013c44fe935154193e74f268",
            "a6929c741aa0413e96f97ecf51e19334",
            "b7a51378bf8d4ffa9f17817148c46bbb",
            "41119aa1690442e890efc56a3d84b0c9",
            "9bbac01307604cdeb44faac862369f93",
            "a020ec1d88b14a22ac36694393b34840",
            "2d3de6ad031a43b3b1782287975e4d2b",
            "ee77ea77a6b34ca69d277623f0013ba6",
            "187b0dfe8cfc4e97a8efc5464e9eaaf8",
            "7dbba4181a53407da64b21dc110afd94",
            "83ecb1ed8a46430fa1a599c47e72b026",
            "8c08970e91a548419a31da5147de8343",
            "5112c1a3478c44c0b69ead6294c30538",
            "d2440ece6ad54127a8d557d82394346a",
            "4a5cb2134ead4349a35d94a4988c69c8",
            "6848f123520b4b298c1147263d853d5c",
            "c50234ff129e48d18ba56f6f16195df0",
            "85e2a008197641c78f3d6682a53dc54f",
            "5a93522345864a72bab701dd40e3f50d",
            "62c293dba8b04ffc970852433b884ecf",
            "5e16d354217c48338c0cc0fd5ecaf4f0",
            "9f0ca1342e5843d8b49f61eaf7a7ffed",
            "94df16279d0f41ac86c5839cce94f990",
            "2407d7af12954e389a41817fbf85db03",
            "95a9577547bc4c358167dc4aa3277abe",
            "e8cd12b47d4e4d4189c6536d56c3522c",
            "26b7b18e1bf048a6a02ec40c2daae0f9",
            "043652364835459eb65d78751336146c",
            "2cbc308aa8254f968e2876167a6af218",
            "00020e947d4d42c9af0692eba2a4580e",
            "9a774019d10d4a8cb1b9e31224006c46",
            "ffe24499bd2742bf8d72a7f644939e55",
            "801683ee6e7e43118c45fa8ccdd6fb4b",
            "5d2d3f42750c477180657b8880ed0285",
            "47bf7b72a1a142d7ba3fef624a283913"
          ]
        },
        "id": "8ANRcpot3_wj",
        "outputId": "26188948-8220-49a4-8f1c-a793adf14a31"
      },
      "source": [
        "import random\n",
        "from tqdm import tqdm_notebook\n",
        "from transformers import AdamW\n",
        "# device = device(type='cuda')\n",
        "epochs = 4\n",
        "train_loss_set = []\n",
        "\n",
        "# param_optimizer = list(phobertClassify.named_parameters())\n",
        "# no_decay = ['bias', 'LayerNorm.bias', 'LayerNorm.weight']\n",
        "# optimizer_grouped_parameters = [\n",
        "#     {'params': [p for n, p in param_optimizer if not any(nd in n for nd in no_decay)], 'weight_decay': 0.01},\n",
        "#     {'params': [p for n, p in param_optimizer if any(nd in n for nd in no_decay)], 'weight_decay': 0.0}\n",
        "# ]\n",
        "\n",
        "optimizer = AdamW(optimizer_grouped_parameters, lr=1e-5, correct_bias=False)\n",
        "\n",
        "\n",
        "for epoch_i in range(0, epochs):\n",
        "    print('======== Epoch {:} / {:} ========'.format(epoch_i + 1, epochs))\n",
        "    print('Training...')\n",
        "\n",
        "    total_loss = 0\n",
        "    phobertClassify.train()\n",
        "    train_accuracy = 0\n",
        "    nb_train_steps = 0\n",
        "    train_f1 = 0\n",
        "    \n",
        "    for step, batch in tqdm_notebook(enumerate(train_dataloader)):\n",
        "        # b_input_ids = batch[0].to(device)\n",
        "        # b_input_mask = batch[1].to(device)\n",
        "        # b_labels = batch[2].to(device)\n",
        "        # b_input_ids = batch[0].cuda() #cuda()\n",
        "        # b_input_mask = batch[1].cuda() #cuda()\n",
        "        # b_labels = batch[2].cuda() #cuda()\n",
        "        batch = tuple(t.to(device) for t in batch)\n",
        "        b_input_ids, b_input_mask, b_labels = batch\n",
        "        optimizer.zero_grad()\n",
        "\n",
        "        # phobertClassify.zero_grad()\n",
        "        outputs = phobertClassify(b_input_ids, \n",
        "            token_type_ids=None, \n",
        "            attention_mask=b_input_mask, \n",
        "            labels=b_labels)\n",
        "        loss = outputs[0]\n",
        "        total_loss += loss.item()\n",
        "        train_loss_set.append(loss.item())\n",
        "\n",
        "        \n",
        "        logits = outputs[1].detach().cpu().numpy()\n",
        "        label_ids = b_labels.to('cpu').numpy() #to('cpu')\n",
        "        logits_ = np.array(logits, dtype = 'float32')\n",
        "        label_ids_ = np.array(label_ids, dtype = 'float32')\n",
        "        tmp_train_accuracy= flat_accuracy(logits, label_ids)\n",
        "        train_accuracy += tmp_train_accuracy\n",
        "        nb_train_steps += 1\n",
        "        \n",
        "        loss.backward()\n",
        "        torch.nn.utils.clip_grad_norm_(phobertClassify.parameters(), 1.0)\n",
        "        optimizer.step()\n",
        "        \n",
        "    avg_train_loss = total_loss / len(train_dataloader)\n",
        "    print(\" Accuracy: {0:.4f}\".format(train_accuracy/nb_train_steps))\n",
        "    print(\" Average training loss: {0:.4f}\".format(avg_train_loss))\n",
        "\n",
        "    print(\"Running Validation...\")\n",
        "    phobertClassify.eval()\n",
        "    eval_loss, eval_accuracy = 0, 0\n",
        "    nb_eval_steps, nb_eval_examples = 0, 0\n",
        "    # eval_f1 = 0\n",
        "    for batch in tqdm_notebook(validation_dataloader):\n",
        "\n",
        "        batch = tuple(t.cuda() for t in batch)  #to(device)\n",
        "\n",
        "        b_input_ids, b_input_mask, b_labels = batch\n",
        "\n",
        "        with torch.no_grad():\n",
        "            outputs = phobertClassify(b_input_ids, \n",
        "            token_type_ids=None, \n",
        "            attention_mask=b_input_mask)\n",
        "            logits = outputs[0]\n",
        "            logits = logits.detach().cpu().numpy()\n",
        "            label_ids = b_labels.cpu().numpy() #to('cpu')\n",
        "\n",
        "            tmp_eval_accuracy= flat_accuracy(logits, label_ids)\n",
        "\n",
        "            eval_accuracy += tmp_eval_accuracy\n",
        "            # eval_f1 += tmp_eval_f1\n",
        "            nb_eval_steps += 1\n",
        "    print(\" Accuracy: {0:.4f}\\n\".format(eval_accuracy/nb_eval_steps))\n",
        "    # print(\" F1 score: {0:.4f}\".format(eval_f1/nb_eval_steps))\n",
        "print(\"Training complete!\")"
      ],
      "execution_count": null,
      "outputs": [
        {
          "output_type": "stream",
          "text": [
            "======== Epoch 1 / 4 ========\n",
            "Training...\n"
          ],
          "name": "stdout"
        },
        {
          "output_type": "stream",
          "text": [
            "/usr/local/lib/python3.7/dist-packages/ipykernel_launcher.py:28: TqdmDeprecationWarning: This function will be removed in tqdm==5.0.0\n",
            "Please use `tqdm.notebook.tqdm` instead of `tqdm.tqdm_notebook`\n"
          ],
          "name": "stderr"
        },
        {
          "output_type": "display_data",
          "data": {
            "application/vnd.jupyter.widget-view+json": {
              "model_id": "9fd74913b04841ea9d5849e25f8c10ae",
              "version_minor": 0,
              "version_major": 2
            },
            "text/plain": [
              "HBox(children=(FloatProgress(value=1.0, bar_style='info', max=1.0), HTML(value='')))"
            ]
          },
          "metadata": {
            "tags": []
          }
        },
        {
          "output_type": "stream",
          "text": [
            "\n",
            " Accuracy: 0.5735\n",
            " Average training loss: 0.6694\n",
            "Running Validation...\n"
          ],
          "name": "stdout"
        },
        {
          "output_type": "stream",
          "text": [
            "/usr/local/lib/python3.7/dist-packages/ipykernel_launcher.py:70: TqdmDeprecationWarning: This function will be removed in tqdm==5.0.0\n",
            "Please use `tqdm.notebook.tqdm` instead of `tqdm.tqdm_notebook`\n"
          ],
          "name": "stderr"
        },
        {
          "output_type": "display_data",
          "data": {
            "application/vnd.jupyter.widget-view+json": {
              "model_id": "0116a31036ea4934903ff79228d9fa2b",
              "version_minor": 0,
              "version_major": 2
            },
            "text/plain": [
              "HBox(children=(FloatProgress(value=0.0, max=7.0), HTML(value='')))"
            ]
          },
          "metadata": {
            "tags": []
          }
        },
        {
          "output_type": "stream",
          "text": [
            "\n",
            " Accuracy: 0.8214\n",
            "\n",
            "======== Epoch 2 / 4 ========\n",
            "Training...\n"
          ],
          "name": "stdout"
        },
        {
          "output_type": "display_data",
          "data": {
            "application/vnd.jupyter.widget-view+json": {
              "model_id": "8ade446de6244a22accb097a0ca8cf37",
              "version_minor": 0,
              "version_major": 2
            },
            "text/plain": [
              "HBox(children=(FloatProgress(value=1.0, bar_style='info', max=1.0), HTML(value='')))"
            ]
          },
          "metadata": {
            "tags": []
          }
        },
        {
          "output_type": "stream",
          "text": [
            "\n",
            " Accuracy: 0.8383\n",
            " Average training loss: 0.4108\n",
            "Running Validation...\n"
          ],
          "name": "stdout"
        },
        {
          "output_type": "display_data",
          "data": {
            "application/vnd.jupyter.widget-view+json": {
              "model_id": "5b88574e14344d9dadbce70bcf210f32",
              "version_minor": 0,
              "version_major": 2
            },
            "text/plain": [
              "HBox(children=(FloatProgress(value=0.0, max=7.0), HTML(value='')))"
            ]
          },
          "metadata": {
            "tags": []
          }
        },
        {
          "output_type": "stream",
          "text": [
            "\n",
            " Accuracy: 0.8795\n",
            "\n",
            "======== Epoch 3 / 4 ========\n",
            "Training...\n"
          ],
          "name": "stdout"
        },
        {
          "output_type": "display_data",
          "data": {
            "application/vnd.jupyter.widget-view+json": {
              "model_id": "41119aa1690442e890efc56a3d84b0c9",
              "version_minor": 0,
              "version_major": 2
            },
            "text/plain": [
              "HBox(children=(FloatProgress(value=1.0, bar_style='info', max=1.0), HTML(value='')))"
            ]
          },
          "metadata": {
            "tags": []
          }
        },
        {
          "output_type": "stream",
          "text": [
            "\n",
            " Accuracy: 0.8843\n",
            " Average training loss: 0.3200\n",
            "Running Validation...\n"
          ],
          "name": "stdout"
        },
        {
          "output_type": "display_data",
          "data": {
            "application/vnd.jupyter.widget-view+json": {
              "model_id": "8c08970e91a548419a31da5147de8343",
              "version_minor": 0,
              "version_major": 2
            },
            "text/plain": [
              "HBox(children=(FloatProgress(value=0.0, max=7.0), HTML(value='')))"
            ]
          },
          "metadata": {
            "tags": []
          }
        },
        {
          "output_type": "stream",
          "text": [
            "\n",
            " Accuracy: 0.8839\n",
            "\n",
            "======== Epoch 4 / 4 ========\n",
            "Training...\n"
          ],
          "name": "stdout"
        },
        {
          "output_type": "display_data",
          "data": {
            "application/vnd.jupyter.widget-view+json": {
              "model_id": "62c293dba8b04ffc970852433b884ecf",
              "version_minor": 0,
              "version_major": 2
            },
            "text/plain": [
              "HBox(children=(FloatProgress(value=1.0, bar_style='info', max=1.0), HTML(value='')))"
            ]
          },
          "metadata": {
            "tags": []
          }
        },
        {
          "output_type": "stream",
          "text": [
            "\n",
            " Accuracy: 0.9123\n",
            " Average training loss: 0.2619\n",
            "Running Validation...\n"
          ],
          "name": "stdout"
        },
        {
          "output_type": "display_data",
          "data": {
            "application/vnd.jupyter.widget-view+json": {
              "model_id": "043652364835459eb65d78751336146c",
              "version_minor": 0,
              "version_major": 2
            },
            "text/plain": [
              "HBox(children=(FloatProgress(value=0.0, max=7.0), HTML(value='')))"
            ]
          },
          "metadata": {
            "tags": []
          }
        },
        {
          "output_type": "stream",
          "text": [
            "\n",
            " Accuracy: 0.8929\n",
            "\n",
            "Training complete!\n"
          ],
          "name": "stdout"
        }
      ]
    },
    {
      "cell_type": "code",
      "metadata": {
        "id": "68xreA9JAmG5",
        "colab": {
          "base_uri": "https://localhost:8080/",
          "height": 513
        },
        "outputId": "3f66e375-1834-4dee-c4b0-1e2ddff5e2f3"
      },
      "source": [
        "plt.figure(figsize=(15,8))\n",
        "plt.title(\"Training loss\")\n",
        "plt.xlabel(\"Batch\")\n",
        "plt.ylabel(\"Loss\")\n",
        "plt.plot(train_loss_set)\n",
        "plt.show()"
      ],
      "execution_count": null,
      "outputs": [
        {
          "output_type": "display_data",
          "data": {
            "image/png": "[encoded data removed]",
            "text/plain": [
              "<Figure size 1080x576 with 1 Axes>"
            ]
          },
          "metadata": {
            "tags": [],
            "needs_background": "light"
          }
        }
      ]
    },
    {
      "cell_type": "code",
      "metadata": {
        "id": "Z4zTQGwtUqRp"
      },
      "source": [
        "attention_masks_test = []\n",
        "for seq in input_ids_test_:\n",
        "  seq_mask = [float(i>0) for i in seq]\n",
        "  attention_masks_test.append(seq_mask) \n",
        "\n",
        "prediction_inputs = torch.tensor(input_ids_test_)\n",
        "prediction_masks = torch.tensor(attention_masks_test)\n",
        "prediction_labels = torch.tensor(label_test_)  \n",
        "\n",
        "prediction_data = TensorDataset(prediction_inputs, prediction_masks, prediction_labels)\n",
        "prediction_sampler = SequentialSampler(prediction_data)\n",
        "prediction_dataloader = DataLoader(prediction_data, sampler=prediction_sampler, batch_size=batch_size)"
      ],
      "execution_count": null,
      "outputs": []
    },
    {
      "cell_type": "code",
      "metadata": {
        "id": "Hba10sXR7Xi6"
      },
      "source": [
        "# Prediction on test set\n",
        "\n",
        "# Put model in evaluation mode\n",
        "phobertClassify.eval()\n",
        "\n",
        "# Tracking variables \n",
        "predictions , true_labels = [], []\n",
        "\n",
        "# Predict \n",
        "for batch in prediction_dataloader:\n",
        "  # Add batch to GPU\n",
        "  batch = tuple(t.to(device) for t in batch)\n",
        "  # Unpack the inputs from our dataloader\n",
        "  b_input_ids, b_input_mask, b_labels = batch\n",
        "  # Telling the model not to compute or store gradients, saving memory and speeding up prediction\n",
        "  with torch.no_grad():\n",
        "    # Forward pass, calculate logit predictions\n",
        "    outputs = phobertClassify(b_input_ids, token_type_ids=None, attention_mask=b_input_mask)\n",
        "\n",
        "  # Move logits and labels to CPU\n",
        "  logits = outputs[0].detach().cpu().numpy()\n",
        "  label_ids = b_labels.to('cpu').numpy()\n",
        "  \n",
        "  # Store predictions and true labels\n",
        "  predictions.append(logits)\n",
        "  true_labels.append(label_ids)\n"
      ],
      "execution_count": null,
      "outputs": []
    },
    {
      "cell_type": "code",
      "metadata": {
        "id": "H_eUXWTuPMy0"
      },
      "source": [
        "from functools import reduce"
      ],
      "execution_count": null,
      "outputs": []
    },
    {
      "cell_type": "code",
      "metadata": {
        "id": "QYpNw-OU26g2"
      },
      "source": [
        "scores = reduce(lambda x,y: x+y,[list(map(np.argmax,p)) for p in predictions])"
      ],
      "execution_count": null,
      "outputs": []
    },
    {
      "cell_type": "code",
      "metadata": {
        "id": "nOSFUrh2PRUh"
      },
      "source": [
        "labels = reduce(lambda x,y: list(x) + list(y), true_labels)"
      ],
      "execution_count": null,
      "outputs": []
    },
    {
      "cell_type": "code",
      "metadata": {
        "id": "QsABLx1yZ9ON"
      },
      "source": [
        "from sklearn.metrics import roc_auc_score"
      ],
      "execution_count": null,
      "outputs": []
    },
    {
      "cell_type": "code",
      "metadata": {
        "id": "1Wx1qDRDWr7T"
      },
      "source": [
        "auc = roc_auc_score(labels, scores, average = None)"
      ],
      "execution_count": null,
      "outputs": []
    },
    {
      "cell_type": "code",
      "metadata": {
        "id": "CoF4LrIJaAt-",
        "colab": {
          "base_uri": "https://localhost:8080/"
        },
        "outputId": "57e24e5f-f3a5-4ab1-a602-5084e719710b"
      },
      "source": [
        "auc"
      ],
      "execution_count": null,
      "outputs": [
        {
          "output_type": "execute_result",
          "data": {
            "text/plain": [
              "0.9005"
            ]
          },
          "metadata": {
            "tags": []
          },
          "execution_count": 34
        }
      ]
    },
    {
      "cell_type": "code",
      "metadata": {
        "id": "P5TEhqFNcF6g"
      },
      "source": [
        "texts = [\"Một chương trình du lịch bao gồm: ăn sáng bánh mì; ăn trưa cơm đĩa; giao lưu với các giáo sư, tiến sĩ... có vẻ không hấp dẫn nhiều người nhưng tỏ ra cuốn hút đối với đông đảo học sinh phổ thông đang chuẩn bị đi thi đại học. Đất Việt Tour (588 Lạc Long Quân, Q.11, TP.HCM) đang giới thiệu tour kiểu này cho học sinh phổ thông trong suốt chuyến đi tham quan một số trường đại học như: Bách khoa, Văn Lang, Kinh tế... và các ký túc xá sinh viên để tìm hiểu về các trường đại học, cũng như không khí sinh hoạt, đời sống của sinh viên. Tour chào giá 85.000 đồng/người!\",\n",
        "\"Cô ấy không xứng đáng với anh Trung Có thể cô ấy là người con hiếu thảo, nhưng cách cô ấy làm chứng tỏ không phải là phụ nữ đoan chính. Chỉ 10 ngày ở Việt Nam, ông Việt kiều nọ đã cùng cô ta đến phòng trọ. Và cũng cách đó không lâu cô sẵn sàng đến phòng trọ với anh. Cô ấy không yêu ai cả.\"]\n",
        "labels = [0,1]\n",
        "tokenized_texts = [tokenize_and_trim(text)for text in texts]\n",
        "input_ids = [tokenizer_.convert_tokens_to_ids(tokenized_text)for tokenized_text in tokenized_texts]\n",
        "input_ids = pad_sequences(input_ids, maxlen=MAX_LEN, dtype=\"long\", truncating=\"post\", padding=\"post\")\n",
        "masks = []\n",
        "for seq in input_ids:\n",
        "  seq_mask = [float(i>0) for i in seq]\n",
        "  masks.append(seq_mask)\n",
        "\n",
        "prediction_inputs = torch.tensor(input_ids)\n",
        "prediction_masks = torch.tensor(masks)\n",
        "prediction_labels = torch.tensor(labels)  \n",
        "\n",
        "prediction_data = TensorDataset(prediction_inputs, prediction_masks, prediction_labels)\n",
        "prediction_sampler = SequentialSampler(prediction_data)\n",
        "prediction_dataloader = DataLoader(prediction_data, sampler=prediction_sampler, batch_size=batch_size)"
      ],
      "execution_count": null,
      "outputs": []
    },
    {
      "cell_type": "code",
      "metadata": {
        "id": "cUso3yR5ib_v"
      },
      "source": [
        "# Prediction on test set\n",
        "\n",
        "# Put model in evaluation mode\n",
        "phobertClassify.eval()\n",
        "\n",
        "# Tracking variables \n",
        "predictions , true_labels = [], []\n",
        "\n",
        "# Predict \n",
        "for batch in prediction_dataloader:\n",
        "  # Add batch to GPU\n",
        "  batch = tuple(t.to(device) for t in batch)\n",
        "  # Unpack the inputs from our dataloader\n",
        "  b_input_ids, b_input_mask, b_labels = batch\n",
        "  # Telling the model not to compute or store gradients, saving memory and speeding up prediction\n",
        "  with torch.no_grad():\n",
        "    # Forward pass, calculate logit predictions\n",
        "    outputs = phobertClassify(b_input_ids, token_type_ids=None, attention_mask=b_input_mask)\n",
        "\n",
        "  # Move logits and labels to CPU\n",
        "  logits = outputs[0].detach().cpu().numpy()\n",
        "  label_ids = b_labels.to('cpu').numpy()\n",
        "  \n",
        "  # Store predictions and true labels\n",
        "  predictions.append(logits)\n",
        "  true_labels.append(label_ids)\n"
      ],
      "execution_count": null,
      "outputs": []
    },
    {
      "cell_type": "code",
      "metadata": {
        "id": "a22UokXekn-1"
      },
      "source": [
        "scores = reduce(lambda x,y: x+y,[list(map(np.argmax,p)) for p in predictions])"
      ],
      "execution_count": null,
      "outputs": []
    },
    {
      "cell_type": "code",
      "metadata": {
        "colab": {
          "base_uri": "https://localhost:8080/"
        },
        "id": "UObxDfCsjBlY",
        "outputId": "fc294545-b55e-433f-c849-fb92f1aa3b0c"
      },
      "source": [
        "for i in range(len(texts)):\n",
        "  print(\"Text:\" + texts[i] + \"\\n-----True Label: \" + label_names[labels[i]] +\"\\n-----Predict: \" +label_names[scores[i]])"
      ],
      "execution_count": null,
      "outputs": [
        {
          "output_type": "stream",
          "text": [
            "Text:Một chương trình du lịch bao gồm: ăn sáng bánh mì; ăn trưa cơm đĩa; giao lưu với các giáo sư, tiến sĩ... có vẻ không hấp dẫn nhiều người nhưng tỏ ra cuốn hút đối với đông đảo học sinh phổ thông đang chuẩn bị đi thi đại học. Đất Việt Tour (588 Lạc Long Quân, Q.11, TP.HCM) đang giới thiệu tour kiểu này cho học sinh phổ thông trong suốt chuyến đi tham quan một số trường đại học như: Bách khoa, Văn Lang, Kinh tế... và các ký túc xá sinh viên để tìm hiểu về các trường đại học, cũng như không khí sinh hoạt, đời sống của sinh viên. Tour chào giá 85.000 đồng/người!\n",
            "-----True Label: Chinh tri Xa hoi\n",
            "-----Predict: Chinh tri Xa hoi\n",
            "Text:Cô ấy không xứng đáng với anh Trung Có thể cô ấy là người con hiếu thảo, nhưng cách cô ấy làm chứng tỏ không phải là phụ nữ đoan chính. Chỉ 10 ngày ở Việt Nam, ông Việt kiều nọ đã cùng cô ta đến phòng trọ. Và cũng cách đó không lâu cô sẵn sàng đến phòng trọ với anh. Cô ấy không yêu ai cả.\n",
            "-----True Label: Doi song\n",
            "-----Predict: Doi song\n"
          ],
          "name": "stdout"
        }
      ]
    },
    {
      "cell_type": "code",
      "metadata": {
        "id": "eaRFY4kzjvwK"
      },
      "source": [
        ""
      ],
      "execution_count": null,
      "outputs": []
    }
  ]
}